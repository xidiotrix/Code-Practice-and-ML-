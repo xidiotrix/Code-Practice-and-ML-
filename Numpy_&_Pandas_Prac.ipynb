{
  "nbformat": 4,
  "nbformat_minor": 0,
  "metadata": {
    "colab": {
      "name": "Numpy & Pandas Prac",
      "provenance": [],
      "authorship_tag": "ABX9TyMQ7f0ZqfZkrGDeAWkMRY4E"
    },
    "kernelspec": {
      "name": "python3",
      "display_name": "Python 3"
    }
  },
  "cells": [
    {
      "cell_type": "markdown",
      "metadata": {
        "id": "LIE5qtY_kiU2"
      },
      "source": [
        "## **NUMPY TUTORIAL**"
      ]
    },
    {
      "cell_type": "code",
      "metadata": {
        "id": "2mTVsYMcbFOz"
      },
      "source": [
        "import numpy as np"
      ],
      "execution_count": null,
      "outputs": []
    },
    {
      "cell_type": "code",
      "metadata": {
        "id": "MCjty_Lzm4xT"
      },
      "source": [
        "arr1=np.array([[1,2,3],[2,4,5],[2,3,6]])\n",
        "arr2=np.array([[2,3,4],[8,5,4],[5,6,8]])"
      ],
      "execution_count": null,
      "outputs": []
    },
    {
      "cell_type": "markdown",
      "metadata": {
        "id": "s97ObwYekagM"
      },
      "source": [
        "**Sum & Difference of arrays in numpy**"
      ]
    },
    {
      "cell_type": "code",
      "metadata": {
        "colab": {
          "base_uri": "https://localhost:8080/"
        },
        "id": "EL3RNpT1izot",
        "outputId": "dd8d3424-3cc6-46a3-d47a-5a7623fea4e4"
      },
      "source": [
        "sum_array=arr1+arr2\n",
        "print(sum_array)"
      ],
      "execution_count": null,
      "outputs": [
        {
          "output_type": "stream",
          "text": [
            "[[ 3  5  7]\n",
            " [10  9  9]\n",
            " [ 7  9 14]]\n"
          ],
          "name": "stdout"
        }
      ]
    },
    {
      "cell_type": "code",
      "metadata": {
        "colab": {
          "base_uri": "https://localhost:8080/"
        },
        "id": "GLQy8eg8ndAL",
        "outputId": "ed288181-7e41-49ed-d1c2-af50cf9d3a04"
      },
      "source": [
        "print(arr1-arr2)"
      ],
      "execution_count": null,
      "outputs": [
        {
          "output_type": "stream",
          "text": [
            "[[-1 -1 -1]\n",
            " [-6 -1  1]\n",
            " [-3 -3 -2]]\n"
          ],
          "name": "stdout"
        }
      ]
    },
    {
      "cell_type": "code",
      "metadata": {
        "colab": {
          "base_uri": "https://localhost:8080/"
        },
        "id": "I8zS5mXDnkw-",
        "outputId": "c60629c5-3f6d-4ec4-8496-4bb1ea52bdb3"
      },
      "source": [
        "print(np.subtract(arr1,arr2))"
      ],
      "execution_count": null,
      "outputs": [
        {
          "output_type": "stream",
          "text": [
            "[[-1 -1 -1]\n",
            " [-6 -1  1]\n",
            " [-3 -3 -2]]\n"
          ],
          "name": "stdout"
        }
      ]
    },
    {
      "cell_type": "markdown",
      "metadata": {
        "id": "E094pgjPoDI6"
      },
      "source": [
        "**Adding all the elements row wise and column wise in an array**"
      ]
    },
    {
      "cell_type": "code",
      "metadata": {
        "colab": {
          "base_uri": "https://localhost:8080/"
        },
        "id": "A43cdG9woCVy",
        "outputId": "ae710f25-f7d9-4b2d-8b9f-3bfc025261f8"
      },
      "source": [
        "print(np.sum(arr1))"
      ],
      "execution_count": null,
      "outputs": [
        {
          "output_type": "stream",
          "text": [
            "28\n"
          ],
          "name": "stdout"
        }
      ]
    },
    {
      "cell_type": "markdown",
      "metadata": {
        "id": "_O0yppsjlmdP"
      },
      "source": [
        "**Dot Multiplication**"
      ]
    },
    {
      "cell_type": "code",
      "metadata": {
        "colab": {
          "base_uri": "https://localhost:8080/"
        },
        "id": "rgTZPGb2jDsv",
        "outputId": "fa8111b1-ec2d-4d4d-d9f2-be3236919663"
      },
      "source": [
        "mnp=arr1@arr2\n",
        "print(mnp)"
      ],
      "execution_count": null,
      "outputs": [
        {
          "output_type": "stream",
          "text": [
            "[[33 31 36]\n",
            " [61 56 64]\n",
            " [58 57 68]]\n"
          ],
          "name": "stdout"
        }
      ]
    },
    {
      "cell_type": "code",
      "metadata": {
        "colab": {
          "base_uri": "https://localhost:8080/"
        },
        "id": "02zjJTdLkR0m",
        "outputId": "7e39db0a-a5b9-4c9d-b6f1-2425abf3ed11"
      },
      "source": [
        "print(np.dot(arr1,arr2))"
      ],
      "execution_count": null,
      "outputs": [
        {
          "output_type": "stream",
          "text": [
            "[[33 31 36]\n",
            " [61 56 64]\n",
            " [58 57 68]]\n"
          ],
          "name": "stdout"
        }
      ]
    },
    {
      "cell_type": "markdown",
      "metadata": {
        "id": "wXJrjbujl_Vm"
      },
      "source": [
        "**Element by element multiplication**"
      ]
    },
    {
      "cell_type": "code",
      "metadata": {
        "colab": {
          "base_uri": "https://localhost:8080/"
        },
        "id": "7Lz0Fqb8kzhO",
        "outputId": "8f21b5f9-1cb8-4ed1-83e4-37e0d44a7f07"
      },
      "source": [
        "print(arr1*arr2)"
      ],
      "execution_count": null,
      "outputs": [
        {
          "output_type": "stream",
          "text": [
            "[[ 2  6 12]\n",
            " [16 20 20]\n",
            " [10 18 48]]\n"
          ],
          "name": "stdout"
        }
      ]
    },
    {
      "cell_type": "code",
      "metadata": {
        "colab": {
          "base_uri": "https://localhost:8080/"
        },
        "id": "W6_uEEXYlYbZ",
        "outputId": "97114a91-a7a9-4a0d-cc47-64da78d679b1"
      },
      "source": [
        "maul=np.multiply(arr1,arr2)\n",
        "print(maul)"
      ],
      "execution_count": null,
      "outputs": [
        {
          "output_type": "stream",
          "text": [
            "[[ 2  6 12]\n",
            " [16 20 20]\n",
            " [10 18 48]]\n"
          ],
          "name": "stdout"
        }
      ]
    },
    {
      "cell_type": "markdown",
      "metadata": {
        "id": "DFBAdVkOvmdF"
      },
      "source": [
        "**Division in Numpy**"
      ]
    },
    {
      "cell_type": "code",
      "metadata": {
        "colab": {
          "base_uri": "https://localhost:8080/"
        },
        "id": "LH_EzL5nmNWO",
        "outputId": "97f35ce8-2972-4737-d82c-398517bbfcd4"
      },
      "source": [
        "div=np.divide(arr1,2)\n",
        "print(div)"
      ],
      "execution_count": null,
      "outputs": [
        {
          "output_type": "stream",
          "text": [
            "[[0.5 1.  1.5]\n",
            " [1.  2.  2.5]\n",
            " [1.  1.5 3. ]]\n"
          ],
          "name": "stdout"
        }
      ]
    },
    {
      "cell_type": "code",
      "metadata": {
        "colab": {
          "base_uri": "https://localhost:8080/"
        },
        "id": "Db27TT0TvwbM",
        "outputId": "1251a8c7-1c2f-4754-d740-641832756a99"
      },
      "source": [
        " print(np.floor_divide(arr1,2))"
      ],
      "execution_count": null,
      "outputs": [
        {
          "output_type": "stream",
          "text": [
            "[[0 1 1]\n",
            " [1 2 2]\n",
            " [1 1 3]]\n"
          ],
          "name": "stdout"
        }
      ]
    },
    {
      "cell_type": "markdown",
      "metadata": {
        "id": "9O1Fyrx6wnp8"
      },
      "source": [
        "**Math Class in NUMPY**"
      ]
    },
    {
      "cell_type": "code",
      "metadata": {
        "colab": {
          "base_uri": "https://localhost:8080/"
        },
        "id": "yeoM-DwGv-j2",
        "outputId": "433c9951-33a7-4a9d-be59-37490db58161"
      },
      "source": [
        "print(np.math.sqrt(36))"
      ],
      "execution_count": null,
      "outputs": [
        {
          "output_type": "stream",
          "text": [
            "6.0\n"
          ],
          "name": "stdout"
        }
      ]
    },
    {
      "cell_type": "markdown",
      "metadata": {
        "id": "SkMe_UIi2Bbn"
      },
      "source": [
        "### **Random Array Creation in Numpy**"
      ]
    },
    {
      "cell_type": "markdown",
      "metadata": {
        "id": "GJMQWx5p15S8"
      },
      "source": [
        "**Generating Standard Normal arrays**"
      ]
    },
    {
      "cell_type": "code",
      "metadata": {
        "colab": {
          "base_uri": "https://localhost:8080/"
        },
        "id": "Hky83suZwtgU",
        "outputId": "ec60c61d-e616-40c0-e1df-78ffd21fef61"
      },
      "source": [
        "random_arr=np.random.standard_normal((3,4)) #generated array with 3 rows 4 column\n",
        "print(random_arr)"
      ],
      "execution_count": null,
      "outputs": [
        {
          "output_type": "stream",
          "text": [
            "[[-0.09611259  0.25852173 -0.10209424 -1.86195921]\n",
            " [-1.53662538 -0.01490305  1.26916288 -0.20704708]\n",
            " [ 0.441732    1.66031259 -0.33957158  1.18771714]]\n"
          ],
          "name": "stdout"
        }
      ]
    },
    {
      "cell_type": "markdown",
      "metadata": {
        "id": "VNUIlP8V2QLo"
      },
      "source": [
        "**Generating Uniform Distributed array**"
      ]
    },
    {
      "cell_type": "code",
      "metadata": {
        "colab": {
          "base_uri": "https://localhost:8080/"
        },
        "id": "orv-LSgc13P5",
        "outputId": "2cb099ae-03f1-4057-fbea-452093e433d3"
      },
      "source": [
        "random_arr2=np.random.uniform(1,12,(3,4)) #generated array with 3 rows & 4 columns and number ranging from 1 to 12 \n",
        "print(random_arr2)"
      ],
      "execution_count": null,
      "outputs": [
        {
          "output_type": "stream",
          "text": [
            "[[ 1.12242022 11.06355393  9.92549503  7.89921582]\n",
            " [ 2.02812244  3.4625705   7.36749588 10.33933849]\n",
            " [ 4.25927721  6.64920014 11.72555751  4.32149599]]\n"
          ],
          "name": "stdout"
        }
      ]
    },
    {
      "cell_type": "markdown",
      "metadata": {
        "id": "hKVnd_eA3ddP"
      },
      "source": [
        "**Generating Array of different datatypes**"
      ]
    },
    {
      "cell_type": "code",
      "metadata": {
        "colab": {
          "base_uri": "https://localhost:8080/"
        },
        "id": "gqxe_PLB29VE",
        "outputId": "a79a3e2c-2507-4fc1-904d-7b5c3b564202"
      },
      "source": [
        "eg1=np.random.randint(1,10,(4,4)) #Generated an array with integer number\n",
        "print(eg1)"
      ],
      "execution_count": null,
      "outputs": [
        {
          "output_type": "stream",
          "text": [
            "[[5 8 9 8]\n",
            " [8 6 2 4]\n",
            " [2 7 8 5]\n",
            " [9 9 5 4]]\n"
          ],
          "name": "stdout"
        }
      ]
    },
    {
      "cell_type": "code",
      "metadata": {
        "id": "VO85qXtL3tuU",
        "colab": {
          "base_uri": "https://localhost:8080/"
        },
        "outputId": "743778af-22fa-4282-f0d8-871060c0e22b"
      },
      "source": [
        "ze=np.zeros((3,4))\n",
        "print(ze)"
      ],
      "execution_count": null,
      "outputs": [
        {
          "output_type": "stream",
          "text": [
            "[[0. 0. 0. 0.]\n",
            " [0. 0. 0. 0.]\n",
            " [0. 0. 0. 0.]]\n"
          ],
          "name": "stdout"
        }
      ]
    },
    {
      "cell_type": "code",
      "metadata": {
        "colab": {
          "base_uri": "https://localhost:8080/"
        },
        "id": "QHggCcbvAyM3",
        "outputId": "62c422dd-25f5-4b4c-c7a9-dd1f56eeb7c7"
      },
      "source": [
        "ek=np.ones((3,4))\n",
        "print(ek)"
      ],
      "execution_count": null,
      "outputs": [
        {
          "output_type": "stream",
          "text": [
            "[[1. 1. 1. 1.]\n",
            " [1. 1. 1. 1.]\n",
            " [1. 1. 1. 1.]]\n"
          ],
          "name": "stdout"
        }
      ]
    },
    {
      "cell_type": "code",
      "metadata": {
        "colab": {
          "base_uri": "https://localhost:8080/"
        },
        "id": "BrurnJc7BBAp",
        "outputId": "b0e9fbf6-2b3c-4299-fd13-399363000720"
      },
      "source": [
        "print(np.random.rand())"
      ],
      "execution_count": null,
      "outputs": [
        {
          "output_type": "stream",
          "text": [
            "0.5269382362493391\n"
          ],
          "name": "stdout"
        }
      ]
    },
    {
      "cell_type": "markdown",
      "metadata": {
        "id": "RsHkZkUdEvg1"
      },
      "source": [
        "**Creating Logical table in Numpy**"
      ]
    },
    {
      "cell_type": "code",
      "metadata": {
        "id": "2hfUo7qpBeod"
      },
      "source": [
        "Random_Ar=np.random.randint(1,250,(2,5))\n",
        "filter_ar=np.logical_and(Random_Ar>30,Random_Ar<50)"
      ],
      "execution_count": null,
      "outputs": []
    },
    {
      "cell_type": "code",
      "metadata": {
        "colab": {
          "base_uri": "https://localhost:8080/"
        },
        "id": "74LhnHvZCBnO",
        "outputId": "44350481-fa8e-4c67-f237-2654b15b1f53"
      },
      "source": [
        "print(filter_ar)"
      ],
      "execution_count": null,
      "outputs": [
        {
          "output_type": "stream",
          "text": [
            "[[False False  True False False]\n",
            " [False False False False False]]\n"
          ],
          "name": "stdout"
        }
      ]
    },
    {
      "cell_type": "code",
      "metadata": {
        "colab": {
          "base_uri": "https://localhost:8080/"
        },
        "id": "IqIHld70ClV2",
        "outputId": "409804cd-85dc-4e2c-e78b-ed5bf31ae67a"
      },
      "source": [
        "frandom_ar=np.logical_or(Random_Ar>30,Random_Ar<50)\n",
        "print(frandom_ar)"
      ],
      "execution_count": null,
      "outputs": [
        {
          "output_type": "stream",
          "text": [
            "[[ True  True  True  True  True]\n",
            " [ True  True  True  True  True]]\n"
          ],
          "name": "stdout"
        }
      ]
    },
    {
      "cell_type": "markdown",
      "metadata": {
        "id": "m7qeQ3c8EnT_"
      },
      "source": [
        "**Statistics in Numpy**"
      ]
    },
    {
      "cell_type": "code",
      "metadata": {
        "colab": {
          "base_uri": "https://localhost:8080/"
        },
        "id": "gN0jJFEJDdnb",
        "outputId": "0eb7bd0b-e5e2-47b1-dbc2-dc1c2beb6ca0"
      },
      "source": [
        "dataset=np.array([1,3,4,5,7,9])\n",
        "mean_dat=np.mean(dataset)\n",
        "print(mean_dat)"
      ],
      "execution_count": null,
      "outputs": [
        {
          "output_type": "stream",
          "text": [
            "4.833333333333333\n"
          ],
          "name": "stdout"
        }
      ]
    },
    {
      "cell_type": "code",
      "metadata": {
        "colab": {
          "base_uri": "https://localhost:8080/"
        },
        "id": "Hyz2yKqBFJCC",
        "outputId": "c9c2d3bd-64fa-417e-ebfe-162c01e0e726"
      },
      "source": [
        "median_dat=np.median(dataset)\n",
        "print(median_dat)"
      ],
      "execution_count": null,
      "outputs": [
        {
          "output_type": "stream",
          "text": [
            "4.5\n"
          ],
          "name": "stdout"
        }
      ]
    },
    {
      "cell_type": "code",
      "metadata": {
        "colab": {
          "base_uri": "https://localhost:8080/"
        },
        "id": "G4c1BdlOFU-D",
        "outputId": "879c5367-9952-4885-8133-4ffe230c9384"
      },
      "source": [
        "var_dat=np.var(dataset)\n",
        "print(var_dat)"
      ],
      "execution_count": null,
      "outputs": [
        {
          "output_type": "stream",
          "text": [
            "6.805555555555556\n"
          ],
          "name": "stdout"
        }
      ]
    },
    {
      "cell_type": "code",
      "metadata": {
        "colab": {
          "base_uri": "https://localhost:8080/"
        },
        "id": "n71kU8-yHgtx",
        "outputId": "84f586c5-1e29-4294-b2ec-1edc58056431"
      },
      "source": [
        "sd_dat=np.std(dataset)\n",
        "sd_dat1=np.math.sqrt(var_dat)\n",
        "print(sd_dat)\n",
        "print(sd_dat1)"
      ],
      "execution_count": null,
      "outputs": [
        {
          "output_type": "stream",
          "text": [
            "2.608745973749755\n",
            "2.608745973749755\n"
          ],
          "name": "stdout"
        }
      ]
    },
    {
      "cell_type": "code",
      "metadata": {
        "colab": {
          "base_uri": "https://localhost:8080/"
        },
        "id": "ZtW_rbPlHtZk",
        "outputId": "ee35b3bd-a7d4-418f-eda5-6e62cc46ed28"
      },
      "source": [
        "var_arr1=np.var(arr1,axis=1) #calculates variance for each row of array and shows its variance\n",
        "var_arr1col=np.var(arr1,axis=0) # calculates the variance for each column values)\n",
        "print(var_arr1)\n",
        "print(var_arr1col)"
      ],
      "execution_count": null,
      "outputs": [
        {
          "output_type": "stream",
          "text": [
            "[0.66666667 1.55555556 2.88888889]\n",
            "[0.22222222 0.66666667 1.55555556]\n"
          ],
          "name": "stdout"
        }
      ]
    },
    {
      "cell_type": "markdown",
      "metadata": {
        "id": "tNjC3ordgxb3"
      },
      "source": [
        "## **Pandas Library**"
      ]
    },
    {
      "cell_type": "code",
      "metadata": {
        "id": "epeIijVmIi-7"
      },
      "source": [
        "import pandas as pd"
      ],
      "execution_count": null,
      "outputs": []
    },
    {
      "cell_type": "markdown",
      "metadata": {
        "id": "4WX3XA_VkHO8"
      },
      "source": [
        "**Creating a small dataframe**"
      ]
    },
    {
      "cell_type": "code",
      "metadata": {
        "id": "tYyee7NOg9_G"
      },
      "source": [
        "age=pd.Series([10,20,30,40],index=['age1','age2','age3','age4'])"
      ],
      "execution_count": null,
      "outputs": []
    },
    {
      "cell_type": "code",
      "metadata": {
        "colab": {
          "base_uri": "https://localhost:8080/"
        },
        "id": "o_U6xcOkjtjm",
        "outputId": "cde4b7b6-b748-437a-f15a-c27ec7c59e44"
      },
      "source": [
        "print(age)"
      ],
      "execution_count": null,
      "outputs": [
        {
          "output_type": "stream",
          "text": [
            "age1    10\n",
            "age2    20\n",
            "age3    30\n",
            "age4    40\n",
            "dtype: int64\n"
          ],
          "name": "stdout"
        }
      ]
    },
    {
      "cell_type": "markdown",
      "metadata": {
        "id": "IZYl_lJikh0E"
      },
      "source": [
        "Constraints for displaying specific data from dataframe"
      ]
    },
    {
      "cell_type": "code",
      "metadata": {
        "colab": {
          "base_uri": "https://localhost:8080/"
        },
        "id": "TmRu6nXCjvih",
        "outputId": "42b0d8dc-f920-465a-f151-13ed70fe99fb"
      },
      "source": [
        "age.age3"
      ],
      "execution_count": null,
      "outputs": [
        {
          "output_type": "execute_result",
          "data": {
            "text/plain": [
              "30"
            ]
          },
          "metadata": {
            "tags": []
          },
          "execution_count": 34
        }
      ]
    },
    {
      "cell_type": "code",
      "metadata": {
        "colab": {
          "base_uri": "https://localhost:8080/"
        },
        "id": "Hd9CykNgj97f",
        "outputId": "cd5ab2cb-5dd7-48e6-a345-6f22c69e7a76"
      },
      "source": [
        "Filtered_age=age[age>20]\n",
        "print(Filtered_age)"
      ],
      "execution_count": null,
      "outputs": [
        {
          "output_type": "stream",
          "text": [
            "age3    30\n",
            "age4    40\n",
            "dtype: int64\n"
          ],
          "name": "stdout"
        }
      ]
    },
    {
      "cell_type": "markdown",
      "metadata": {
        "id": "T2h-cpZDk3fn"
      },
      "source": [
        "Calling values %Indexes"
      ]
    },
    {
      "cell_type": "code",
      "metadata": {
        "colab": {
          "base_uri": "https://localhost:8080/"
        },
        "id": "uxI2vqqqkaX0",
        "outputId": "d99bd89f-bdaf-4fbc-bc05-cfe52df24fd0"
      },
      "source": [
        "print(age.values)\n",
        "print(age.index)"
      ],
      "execution_count": null,
      "outputs": [
        {
          "output_type": "stream",
          "text": [
            "[10 20 30 40]\n",
            "Index(['age1', 'age2', 'age3', 'age4'], dtype='object')\n"
          ],
          "name": "stdout"
        }
      ]
    },
    {
      "cell_type": "code",
      "metadata": {
        "id": "AYk13LBTk0et",
        "colab": {
          "base_uri": "https://localhost:8080/"
        },
        "outputId": "b1da0f83-6a84-4076-bf15-e87cdcd8c8f0"
      },
      "source": [
        "age.index=['a1','a2','a3','a4']\n",
        "print(age.index)"
      ],
      "execution_count": null,
      "outputs": [
        {
          "output_type": "stream",
          "text": [
            "Index(['a1', 'a2', 'a3', 'a4'], dtype='object')\n"
          ],
          "name": "stdout"
        }
      ]
    },
    {
      "cell_type": "markdown",
      "metadata": {
        "id": "DXt_Ak_yTVp_"
      },
      "source": [
        "**DataFrames**"
      ]
    },
    {
      "cell_type": "code",
      "metadata": {
        "colab": {
          "base_uri": "https://localhost:8080/"
        },
        "id": "e2J1ULuPTTBN",
        "outputId": "abb08a16-e410-434b-9c86-e8e8b3978728"
      },
      "source": [
        "df=np.array([[20,10,8],[25,8,10],[27,5,3],[30,9,7]])\n",
        "dat_set=pd.DataFrame(df)\n",
        "print(dat_set)"
      ],
      "execution_count": null,
      "outputs": [
        {
          "output_type": "stream",
          "text": [
            "    0   1   2\n",
            "0  20  10   8\n",
            "1  25   8  10\n",
            "2  27   5   3\n",
            "3  30   9   7\n"
          ],
          "name": "stdout"
        }
      ]
    },
    {
      "cell_type": "markdown",
      "metadata": {
        "id": "rmv4k4rEVnwY"
      },
      "source": [
        "**Setting row and column names**"
      ]
    },
    {
      "cell_type": "code",
      "metadata": {
        "colab": {
          "base_uri": "https://localhost:8080/"
        },
        "id": "8CCfr_wSUEzB",
        "outputId": "3a032700-8d6a-46f6-c88f-7fa49609930d"
      },
      "source": [
        "dat_set1=pd.DataFrame(df,index=['s1','s2','s3','s4'],columns=['Sub1','Sub2','Sub3'])\n",
        "print(dat_set1)"
      ],
      "execution_count": null,
      "outputs": [
        {
          "output_type": "stream",
          "text": [
            "    Sub1  Sub2  Sub3\n",
            "s1    20    10     8\n",
            "s2    25     8    10\n",
            "s3    27     5     3\n",
            "s4    30     9     7\n"
          ],
          "name": "stdout"
        }
      ]
    },
    {
      "cell_type": "markdown",
      "metadata": {
        "id": "yJKgSITWWY50"
      },
      "source": [
        "Adding dataset to existing dataframe"
      ]
    },
    {
      "cell_type": "code",
      "metadata": {
        "colab": {
          "base_uri": "https://localhost:8080/"
        },
        "id": "utR13LOQVFU4",
        "outputId": "789b1e9d-e66e-4027-dfed-79becb1d85f8"
      },
      "source": [
        "dat_set1['Sub4']=[9,6,7,10]\n",
        "print(dat_set1)"
      ],
      "execution_count": null,
      "outputs": [
        {
          "output_type": "stream",
          "text": [
            "    Sub1  Sub2  Sub3  Sub4\n",
            "s1    20    10     8     9\n",
            "s2    25     8    10     6\n",
            "s3    27     5     3     7\n",
            "s4    30     9     7    10\n"
          ],
          "name": "stdout"
        }
      ]
    },
    {
      "cell_type": "markdown",
      "metadata": {
        "id": "RyukXl9fWq4j"
      },
      "source": [
        "**To display the data from a specific row**"
      ]
    },
    {
      "cell_type": "code",
      "metadata": {
        "colab": {
          "base_uri": "https://localhost:8080/"
        },
        "id": "0pDBhyzUWBg_",
        "outputId": "8cdff08f-6e1d-4a4a-9926-b95878ad1a78"
      },
      "source": [
        "dat_set1.loc['s2']"
      ],
      "execution_count": null,
      "outputs": [
        {
          "output_type": "execute_result",
          "data": {
            "text/plain": [
              "Sub1    25\n",
              "Sub2     8\n",
              "Sub3    10\n",
              "Sub4     6\n",
              "Name: s2, dtype: int64"
            ]
          },
          "metadata": {
            "tags": []
          },
          "execution_count": 41
        }
      ]
    },
    {
      "cell_type": "code",
      "metadata": {
        "colab": {
          "base_uri": "https://localhost:8080/"
        },
        "id": "nJNpHj55Woqd",
        "outputId": "93ef4919-a59f-473f-fb64-b98f650c4990"
      },
      "source": [
        "dat_set1.loc['s2']['Sub1']"
      ],
      "execution_count": null,
      "outputs": [
        {
          "output_type": "execute_result",
          "data": {
            "text/plain": [
              "25"
            ]
          },
          "metadata": {
            "tags": []
          },
          "execution_count": 42
        }
      ]
    },
    {
      "cell_type": "code",
      "metadata": {
        "colab": {
          "base_uri": "https://localhost:8080/"
        },
        "id": "kZSBFzIoXDT7",
        "outputId": "4e7d0fbd-2ac0-47c6-8ea5-d66a25cdc0fa"
      },
      "source": [
        "dat_set1.iloc[2,3]"
      ],
      "execution_count": null,
      "outputs": [
        {
          "output_type": "execute_result",
          "data": {
            "text/plain": [
              "7"
            ]
          },
          "metadata": {
            "tags": []
          },
          "execution_count": 43
        }
      ]
    },
    {
      "cell_type": "code",
      "metadata": {
        "colab": {
          "base_uri": "https://localhost:8080/"
        },
        "id": "vIizdG-TXStm",
        "outputId": "7d9d0ca4-7906-4591-e9ef-83bf4e02e24d"
      },
      "source": [
        "dat_set1.iloc[:,3]"
      ],
      "execution_count": null,
      "outputs": [
        {
          "output_type": "execute_result",
          "data": {
            "text/plain": [
              "s1     9\n",
              "s2     6\n",
              "s3     7\n",
              "s4    10\n",
              "Name: Sub4, dtype: int64"
            ]
          },
          "metadata": {
            "tags": []
          },
          "execution_count": 44
        }
      ]
    },
    {
      "cell_type": "code",
      "metadata": {
        "colab": {
          "base_uri": "https://localhost:8080/"
        },
        "id": "igpIarlLYUru",
        "outputId": "bf035145-b0df-4f83-8c2f-2d17cd471d8b"
      },
      "source": [
        "dat_set1.iloc[:,0]"
      ],
      "execution_count": null,
      "outputs": [
        {
          "output_type": "execute_result",
          "data": {
            "text/plain": [
              "s1    20\n",
              "s2    25\n",
              "s3    27\n",
              "s4    30\n",
              "Name: Sub1, dtype: int64"
            ]
          },
          "metadata": {
            "tags": []
          },
          "execution_count": 45
        }
      ]
    },
    {
      "cell_type": "code",
      "metadata": {
        "colab": {
          "base_uri": "https://localhost:8080/",
          "height": 168
        },
        "id": "O7UmiMtzYzum",
        "outputId": "e07df7fd-8c4a-4714-c1d5-cb1ec66e0843"
      },
      "source": [
        "dat_set1.iloc[:,1:4]"
      ],
      "execution_count": null,
      "outputs": [
        {
          "output_type": "execute_result",
          "data": {
            "text/html": [
              "<div>\n",
              "<style scoped>\n",
              "    .dataframe tbody tr th:only-of-type {\n",
              "        vertical-align: middle;\n",
              "    }\n",
              "\n",
              "    .dataframe tbody tr th {\n",
              "        vertical-align: top;\n",
              "    }\n",
              "\n",
              "    .dataframe thead th {\n",
              "        text-align: right;\n",
              "    }\n",
              "</style>\n",
              "<table border=\"1\" class=\"dataframe\">\n",
              "  <thead>\n",
              "    <tr style=\"text-align: right;\">\n",
              "      <th></th>\n",
              "      <th>Sub2</th>\n",
              "      <th>Sub3</th>\n",
              "      <th>Sub4</th>\n",
              "    </tr>\n",
              "  </thead>\n",
              "  <tbody>\n",
              "    <tr>\n",
              "      <th>s1</th>\n",
              "      <td>10</td>\n",
              "      <td>8</td>\n",
              "      <td>9</td>\n",
              "    </tr>\n",
              "    <tr>\n",
              "      <th>s2</th>\n",
              "      <td>8</td>\n",
              "      <td>10</td>\n",
              "      <td>6</td>\n",
              "    </tr>\n",
              "    <tr>\n",
              "      <th>s3</th>\n",
              "      <td>5</td>\n",
              "      <td>3</td>\n",
              "      <td>7</td>\n",
              "    </tr>\n",
              "    <tr>\n",
              "      <th>s4</th>\n",
              "      <td>9</td>\n",
              "      <td>7</td>\n",
              "      <td>10</td>\n",
              "    </tr>\n",
              "  </tbody>\n",
              "</table>\n",
              "</div>"
            ],
            "text/plain": [
              "    Sub2  Sub3  Sub4\n",
              "s1    10     8     9\n",
              "s2     8    10     6\n",
              "s3     5     3     7\n",
              "s4     9     7    10"
            ]
          },
          "metadata": {
            "tags": []
          },
          "execution_count": 46
        }
      ]
    },
    {
      "cell_type": "markdown",
      "metadata": {
        "id": "E9VbSbKvZuVh"
      },
      "source": [
        "**Deletion for displaying of Specific Column**"
      ]
    },
    {
      "cell_type": "code",
      "metadata": {
        "colab": {
          "base_uri": "https://localhost:8080/",
          "height": 168
        },
        "id": "nn34tuSLZLET",
        "outputId": "302286dc-3ba6-48af-ca54-572f0f2754b4"
      },
      "source": [
        "dat_set1.drop('Sub4',axis=1) #mention axis for specifying deletion from rows and columns\n"
      ],
      "execution_count": null,
      "outputs": [
        {
          "output_type": "execute_result",
          "data": {
            "text/html": [
              "<div>\n",
              "<style scoped>\n",
              "    .dataframe tbody tr th:only-of-type {\n",
              "        vertical-align: middle;\n",
              "    }\n",
              "\n",
              "    .dataframe tbody tr th {\n",
              "        vertical-align: top;\n",
              "    }\n",
              "\n",
              "    .dataframe thead th {\n",
              "        text-align: right;\n",
              "    }\n",
              "</style>\n",
              "<table border=\"1\" class=\"dataframe\">\n",
              "  <thead>\n",
              "    <tr style=\"text-align: right;\">\n",
              "      <th></th>\n",
              "      <th>Sub1</th>\n",
              "      <th>Sub2</th>\n",
              "      <th>Sub3</th>\n",
              "    </tr>\n",
              "  </thead>\n",
              "  <tbody>\n",
              "    <tr>\n",
              "      <th>s1</th>\n",
              "      <td>20</td>\n",
              "      <td>10</td>\n",
              "      <td>8</td>\n",
              "    </tr>\n",
              "    <tr>\n",
              "      <th>s2</th>\n",
              "      <td>25</td>\n",
              "      <td>8</td>\n",
              "      <td>10</td>\n",
              "    </tr>\n",
              "    <tr>\n",
              "      <th>s3</th>\n",
              "      <td>27</td>\n",
              "      <td>5</td>\n",
              "      <td>3</td>\n",
              "    </tr>\n",
              "    <tr>\n",
              "      <th>s4</th>\n",
              "      <td>30</td>\n",
              "      <td>9</td>\n",
              "      <td>7</td>\n",
              "    </tr>\n",
              "  </tbody>\n",
              "</table>\n",
              "</div>"
            ],
            "text/plain": [
              "    Sub1  Sub2  Sub3\n",
              "s1    20    10     8\n",
              "s2    25     8    10\n",
              "s3    27     5     3\n",
              "s4    30     9     7"
            ]
          },
          "metadata": {
            "tags": []
          },
          "execution_count": 48
        }
      ]
    },
    {
      "cell_type": "code",
      "metadata": {
        "colab": {
          "base_uri": "https://localhost:8080/",
          "height": 168
        },
        "id": "HlRSeDkGaU_A",
        "outputId": "b685f1f2-1224-488d-c98e-b6c1546360f8"
      },
      "source": [
        "dat_set1.replace(10,12) #replaces all 10s in dataframes to 12"
      ],
      "execution_count": null,
      "outputs": [
        {
          "output_type": "execute_result",
          "data": {
            "text/html": [
              "<div>\n",
              "<style scoped>\n",
              "    .dataframe tbody tr th:only-of-type {\n",
              "        vertical-align: middle;\n",
              "    }\n",
              "\n",
              "    .dataframe tbody tr th {\n",
              "        vertical-align: top;\n",
              "    }\n",
              "\n",
              "    .dataframe thead th {\n",
              "        text-align: right;\n",
              "    }\n",
              "</style>\n",
              "<table border=\"1\" class=\"dataframe\">\n",
              "  <thead>\n",
              "    <tr style=\"text-align: right;\">\n",
              "      <th></th>\n",
              "      <th>Sub1</th>\n",
              "      <th>Sub2</th>\n",
              "      <th>Sub3</th>\n",
              "      <th>Sub4</th>\n",
              "    </tr>\n",
              "  </thead>\n",
              "  <tbody>\n",
              "    <tr>\n",
              "      <th>s1</th>\n",
              "      <td>20</td>\n",
              "      <td>12</td>\n",
              "      <td>8</td>\n",
              "      <td>9</td>\n",
              "    </tr>\n",
              "    <tr>\n",
              "      <th>s2</th>\n",
              "      <td>25</td>\n",
              "      <td>8</td>\n",
              "      <td>12</td>\n",
              "      <td>6</td>\n",
              "    </tr>\n",
              "    <tr>\n",
              "      <th>s3</th>\n",
              "      <td>27</td>\n",
              "      <td>5</td>\n",
              "      <td>3</td>\n",
              "      <td>7</td>\n",
              "    </tr>\n",
              "    <tr>\n",
              "      <th>s4</th>\n",
              "      <td>30</td>\n",
              "      <td>9</td>\n",
              "      <td>7</td>\n",
              "      <td>12</td>\n",
              "    </tr>\n",
              "  </tbody>\n",
              "</table>\n",
              "</div>"
            ],
            "text/plain": [
              "    Sub1  Sub2  Sub3  Sub4\n",
              "s1    20    12     8     9\n",
              "s2    25     8    12     6\n",
              "s3    27     5     3     7\n",
              "s4    30     9     7    12"
            ]
          },
          "metadata": {
            "tags": []
          },
          "execution_count": 49
        }
      ]
    },
    {
      "cell_type": "code",
      "metadata": {
        "id": "FZX1Vnb_afO9",
        "colab": {
          "base_uri": "https://localhost:8080/",
          "height": 168
        },
        "outputId": "ba03cd03-26de-476e-ce98-7eae9323f1ad"
      },
      "source": [
        "dat_set1.replace({12:10,9:30})"
      ],
      "execution_count": null,
      "outputs": [
        {
          "output_type": "execute_result",
          "data": {
            "text/html": [
              "<div>\n",
              "<style scoped>\n",
              "    .dataframe tbody tr th:only-of-type {\n",
              "        vertical-align: middle;\n",
              "    }\n",
              "\n",
              "    .dataframe tbody tr th {\n",
              "        vertical-align: top;\n",
              "    }\n",
              "\n",
              "    .dataframe thead th {\n",
              "        text-align: right;\n",
              "    }\n",
              "</style>\n",
              "<table border=\"1\" class=\"dataframe\">\n",
              "  <thead>\n",
              "    <tr style=\"text-align: right;\">\n",
              "      <th></th>\n",
              "      <th>Sub1</th>\n",
              "      <th>Sub2</th>\n",
              "      <th>Sub3</th>\n",
              "      <th>Sub4</th>\n",
              "    </tr>\n",
              "  </thead>\n",
              "  <tbody>\n",
              "    <tr>\n",
              "      <th>s1</th>\n",
              "      <td>20</td>\n",
              "      <td>10</td>\n",
              "      <td>8</td>\n",
              "      <td>30</td>\n",
              "    </tr>\n",
              "    <tr>\n",
              "      <th>s2</th>\n",
              "      <td>25</td>\n",
              "      <td>8</td>\n",
              "      <td>10</td>\n",
              "      <td>6</td>\n",
              "    </tr>\n",
              "    <tr>\n",
              "      <th>s3</th>\n",
              "      <td>27</td>\n",
              "      <td>5</td>\n",
              "      <td>3</td>\n",
              "      <td>7</td>\n",
              "    </tr>\n",
              "    <tr>\n",
              "      <th>s4</th>\n",
              "      <td>30</td>\n",
              "      <td>30</td>\n",
              "      <td>7</td>\n",
              "      <td>10</td>\n",
              "    </tr>\n",
              "  </tbody>\n",
              "</table>\n",
              "</div>"
            ],
            "text/plain": [
              "    Sub1  Sub2  Sub3  Sub4\n",
              "s1    20    10     8    30\n",
              "s2    25     8    10     6\n",
              "s3    27     5     3     7\n",
              "s4    30    30     7    10"
            ]
          },
          "metadata": {
            "tags": []
          },
          "execution_count": 50
        }
      ]
    },
    {
      "cell_type": "code",
      "metadata": {
        "colab": {
          "base_uri": "https://localhost:8080/",
          "height": 138
        },
        "id": "ClCbkY_RIAXT",
        "outputId": "bf34c05a-ffb0-479e-9f77-979353e612f4"
      },
      "source": [
        "dat_set1.head(3)"
      ],
      "execution_count": null,
      "outputs": [
        {
          "output_type": "execute_result",
          "data": {
            "text/html": [
              "<div>\n",
              "<style scoped>\n",
              "    .dataframe tbody tr th:only-of-type {\n",
              "        vertical-align: middle;\n",
              "    }\n",
              "\n",
              "    .dataframe tbody tr th {\n",
              "        vertical-align: top;\n",
              "    }\n",
              "\n",
              "    .dataframe thead th {\n",
              "        text-align: right;\n",
              "    }\n",
              "</style>\n",
              "<table border=\"1\" class=\"dataframe\">\n",
              "  <thead>\n",
              "    <tr style=\"text-align: right;\">\n",
              "      <th></th>\n",
              "      <th>Sub1</th>\n",
              "      <th>Sub2</th>\n",
              "      <th>Sub3</th>\n",
              "      <th>Sub4</th>\n",
              "    </tr>\n",
              "  </thead>\n",
              "  <tbody>\n",
              "    <tr>\n",
              "      <th>s1</th>\n",
              "      <td>20</td>\n",
              "      <td>10</td>\n",
              "      <td>8</td>\n",
              "      <td>9</td>\n",
              "    </tr>\n",
              "    <tr>\n",
              "      <th>s2</th>\n",
              "      <td>25</td>\n",
              "      <td>8</td>\n",
              "      <td>10</td>\n",
              "      <td>6</td>\n",
              "    </tr>\n",
              "    <tr>\n",
              "      <th>s3</th>\n",
              "      <td>27</td>\n",
              "      <td>5</td>\n",
              "      <td>3</td>\n",
              "      <td>7</td>\n",
              "    </tr>\n",
              "  </tbody>\n",
              "</table>\n",
              "</div>"
            ],
            "text/plain": [
              "    Sub1  Sub2  Sub3  Sub4\n",
              "s1    20    10     8     9\n",
              "s2    25     8    10     6\n",
              "s3    27     5     3     7"
            ]
          },
          "metadata": {
            "tags": []
          },
          "execution_count": 51
        }
      ]
    },
    {
      "cell_type": "code",
      "metadata": {
        "colab": {
          "base_uri": "https://localhost:8080/",
          "height": 138
        },
        "id": "p6H5RVgrKp3i",
        "outputId": "7e3f0674-8bd7-43e0-bdc1-600284afd60f"
      },
      "source": [
        "dat_set1.tail(3)"
      ],
      "execution_count": null,
      "outputs": [
        {
          "output_type": "execute_result",
          "data": {
            "text/html": [
              "<div>\n",
              "<style scoped>\n",
              "    .dataframe tbody tr th:only-of-type {\n",
              "        vertical-align: middle;\n",
              "    }\n",
              "\n",
              "    .dataframe tbody tr th {\n",
              "        vertical-align: top;\n",
              "    }\n",
              "\n",
              "    .dataframe thead th {\n",
              "        text-align: right;\n",
              "    }\n",
              "</style>\n",
              "<table border=\"1\" class=\"dataframe\">\n",
              "  <thead>\n",
              "    <tr style=\"text-align: right;\">\n",
              "      <th></th>\n",
              "      <th>Sub1</th>\n",
              "      <th>Sub2</th>\n",
              "      <th>Sub3</th>\n",
              "      <th>Sub4</th>\n",
              "    </tr>\n",
              "  </thead>\n",
              "  <tbody>\n",
              "    <tr>\n",
              "      <th>s2</th>\n",
              "      <td>25</td>\n",
              "      <td>8</td>\n",
              "      <td>10</td>\n",
              "      <td>6</td>\n",
              "    </tr>\n",
              "    <tr>\n",
              "      <th>s3</th>\n",
              "      <td>27</td>\n",
              "      <td>5</td>\n",
              "      <td>3</td>\n",
              "      <td>7</td>\n",
              "    </tr>\n",
              "    <tr>\n",
              "      <th>s4</th>\n",
              "      <td>30</td>\n",
              "      <td>9</td>\n",
              "      <td>7</td>\n",
              "      <td>10</td>\n",
              "    </tr>\n",
              "  </tbody>\n",
              "</table>\n",
              "</div>"
            ],
            "text/plain": [
              "    Sub1  Sub2  Sub3  Sub4\n",
              "s2    25     8    10     6\n",
              "s3    27     5     3     7\n",
              "s4    30     9     7    10"
            ]
          },
          "metadata": {
            "tags": []
          },
          "execution_count": 53
        }
      ]
    },
    {
      "cell_type": "code",
      "metadata": {
        "colab": {
          "base_uri": "https://localhost:8080/",
          "height": 168
        },
        "id": "_dfXVF_dK3jy",
        "outputId": "656ad577-7f1f-4754-dde7-b1b5d47f5319"
      },
      "source": [
        "dat_set1.sort_index(axis=0,ascending=True)"
      ],
      "execution_count": null,
      "outputs": [
        {
          "output_type": "execute_result",
          "data": {
            "text/html": [
              "<div>\n",
              "<style scoped>\n",
              "    .dataframe tbody tr th:only-of-type {\n",
              "        vertical-align: middle;\n",
              "    }\n",
              "\n",
              "    .dataframe tbody tr th {\n",
              "        vertical-align: top;\n",
              "    }\n",
              "\n",
              "    .dataframe thead th {\n",
              "        text-align: right;\n",
              "    }\n",
              "</style>\n",
              "<table border=\"1\" class=\"dataframe\">\n",
              "  <thead>\n",
              "    <tr style=\"text-align: right;\">\n",
              "      <th></th>\n",
              "      <th>Sub1</th>\n",
              "      <th>Sub2</th>\n",
              "      <th>Sub3</th>\n",
              "      <th>Sub4</th>\n",
              "    </tr>\n",
              "  </thead>\n",
              "  <tbody>\n",
              "    <tr>\n",
              "      <th>s1</th>\n",
              "      <td>20</td>\n",
              "      <td>10</td>\n",
              "      <td>8</td>\n",
              "      <td>9</td>\n",
              "    </tr>\n",
              "    <tr>\n",
              "      <th>s2</th>\n",
              "      <td>25</td>\n",
              "      <td>8</td>\n",
              "      <td>10</td>\n",
              "      <td>6</td>\n",
              "    </tr>\n",
              "    <tr>\n",
              "      <th>s3</th>\n",
              "      <td>27</td>\n",
              "      <td>5</td>\n",
              "      <td>3</td>\n",
              "      <td>7</td>\n",
              "    </tr>\n",
              "    <tr>\n",
              "      <th>s4</th>\n",
              "      <td>30</td>\n",
              "      <td>9</td>\n",
              "      <td>7</td>\n",
              "      <td>10</td>\n",
              "    </tr>\n",
              "  </tbody>\n",
              "</table>\n",
              "</div>"
            ],
            "text/plain": [
              "    Sub1  Sub2  Sub3  Sub4\n",
              "s1    20    10     8     9\n",
              "s2    25     8    10     6\n",
              "s3    27     5     3     7\n",
              "s4    30     9     7    10"
            ]
          },
          "metadata": {
            "tags": []
          },
          "execution_count": 57
        }
      ]
    },
    {
      "cell_type": "markdown",
      "metadata": {
        "id": "0-TXE5uzgv2E"
      },
      "source": [
        "**Working with CSV file**"
      ]
    },
    {
      "cell_type": "code",
      "metadata": {
        "id": "xVRYWgOCLWhz"
      },
      "source": [
        "dat_csv=pd.read_csv('/content/Data_Set.csv')"
      ],
      "execution_count": null,
      "outputs": []
    },
    {
      "cell_type": "code",
      "metadata": {
        "colab": {
          "base_uri": "https://localhost:8080/"
        },
        "id": "Fzpg0gGXSHBJ",
        "outputId": "1969c791-93e1-447b-8495-05f784261afd"
      },
      "source": [
        "print(dat_csv)"
      ],
      "execution_count": null,
      "outputs": [
        {
          "output_type": "stream",
          "text": [
            "   Name of the data = Home Consumption Unnamed: 1  ...   Unnamed: 4     Unnamed: 5\n",
            "0                   Unit = kW and $/kW        NaN  ...          NaN            NaN\n",
            "1                                 Time     E_Plug  ...  Temperature  No. Occupants\n",
            "2                                    1         24  ...          -15             12\n",
            "3                                    2         17  ...          -17             12\n",
            "4                                    3         16  ...          -19             12\n",
            "5                                    3         16  ...          -19             12\n",
            "6                                    4         16  ...          -18             12\n",
            "7                                    5         16  ...          -14             12\n",
            "8                                    6         16  ...          -16             12\n",
            "9                                    7         19  ...          -14             12\n",
            "10                                   8         22  ...          -15              9\n",
            "11                                   9         25  ...          -12              8\n",
            "12                                  10         26  ...           -8              8\n",
            "13                                  11         27  ...           -4              8\n",
            "14                                  12         30  ...            0              5\n",
            "15                                  13         30  ...            0              4\n",
            "16                                  14        NaN  ...            2              4\n",
            "17                                  15         27  ...            3              4\n",
            "18                                  16         27  ...            2              6\n",
            "19                                  17         28  ...            0              8\n",
            "20                                  18         33  ...           -6              9\n",
            "21                                  19         42  ...           -8             10\n",
            "22                                  20        120  ...          -12             12\n",
            "23                                  21         47  ...          -16             12\n",
            "24                                  22         44  ...          -18             12\n",
            "25                                  23         36  ...          -19             12\n",
            "26                                  24         37  ...          -22             12\n",
            "\n",
            "[27 rows x 6 columns]\n"
          ],
          "name": "stdout"
        }
      ]
    },
    {
      "cell_type": "code",
      "metadata": {
        "id": "hps95JV0Sn2N"
      },
      "source": [
        ""
      ],
      "execution_count": null,
      "outputs": []
    }
  ]
}