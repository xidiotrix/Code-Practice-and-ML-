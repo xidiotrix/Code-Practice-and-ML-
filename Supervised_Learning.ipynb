{
  "nbformat": 4,
  "nbformat_minor": 0,
  "metadata": {
    "colab": {
      "name": "Supervised Learning",
      "provenance": [],
      "collapsed_sections": [
        "5DbvaZtEa1OO",
        "0SdZGGnTfRuL",
        "2x4OD4wHwuuB",
        "P-IKy3dDqHF5",
        "upahl95wMyIc",
        "V7sp6xBlWPHH",
        "TV4cuHvvm-FC"
      ],
      "authorship_tag": "ABX9TyM9x4OFGnJ+Y16jnmqxEUcn"
    },
    "kernelspec": {
      "name": "python3",
      "display_name": "Python 3"
    },
    "language_info": {
      "name": "python"
    }
  },
  "cells": [
    {
      "cell_type": "markdown",
      "metadata": {
        "id": "5DbvaZtEa1OO"
      },
      "source": [
        "# **Working with IRIS Dataset**"
      ]
    },
    {
      "cell_type": "markdown",
      "metadata": {
        "id": "Siih6-ava4uS"
      },
      "source": [
        "### **Step 1**"
      ]
    },
    {
      "cell_type": "code",
      "metadata": {
        "id": "QwkUCmW9qkuu"
      },
      "source": [
        "import numpy as np\n",
        "import pandas as pd\n",
        "import matplotlib.pyplot as plt"
      ],
      "execution_count": 1125,
      "outputs": []
    },
    {
      "cell_type": "markdown",
      "metadata": {
        "id": "hProakrGa_YJ"
      },
      "source": [
        "### **Step2**"
      ]
    },
    {
      "cell_type": "code",
      "metadata": {
        "id": "V6K3wr5Casrb"
      },
      "source": [
        "from sklearn.datasets import load_iris #Loading the iris dataset"
      ],
      "execution_count": 1126,
      "outputs": []
    },
    {
      "cell_type": "markdown",
      "metadata": {
        "id": "HcAt9bF5bM6y"
      },
      "source": [
        "**Load iris dataset into the IRIS value**"
      ]
    },
    {
      "cell_type": "code",
      "metadata": {
        "id": "r7PkKbyIbMJi"
      },
      "source": [
        "iris=load_iris()"
      ],
      "execution_count": 1127,
      "outputs": []
    },
    {
      "cell_type": "markdown",
      "metadata": {
        "id": "GTjT4my6b9i6"
      },
      "source": [
        "### **Step 3**"
      ]
    },
    {
      "cell_type": "markdown",
      "metadata": {
        "id": "_PSb_yz0b5QS"
      },
      "source": [
        "Exploring the Dataset"
      ]
    },
    {
      "cell_type": "code",
      "metadata": {
        "colab": {
          "base_uri": "https://localhost:8080/"
        },
        "id": "35O-ttGPbecZ",
        "outputId": "7e0ddcb0-9f6a-430d-d7ac-c6f6e9b3a910"
      },
      "source": [
        "iris.feature_names"
      ],
      "execution_count": 1128,
      "outputs": [
        {
          "output_type": "execute_result",
          "data": {
            "text/plain": [
              "['sepal length (cm)',\n",
              " 'sepal width (cm)',\n",
              " 'petal length (cm)',\n",
              " 'petal width (cm)']"
            ]
          },
          "metadata": {
            "tags": []
          },
          "execution_count": 1128
        }
      ]
    },
    {
      "cell_type": "markdown",
      "metadata": {
        "id": "cLrlu4LOcCeF"
      },
      "source": [
        "Working with the dataset"
      ]
    },
    {
      "cell_type": "code",
      "metadata": {
        "colab": {
          "base_uri": "https://localhost:8080/",
          "height": 0
        },
        "id": "hy80PH6BbgqP",
        "outputId": "9bff7b1c-48de-4dc1-9d4a-840e98909d51"
      },
      "source": [
        "dta_iris=pd.DataFrame(iris.data,columns=iris.feature_names)\n",
        "dta_iris"
      ],
      "execution_count": 1129,
      "outputs": [
        {
          "output_type": "execute_result",
          "data": {
            "text/html": [
              "<div>\n",
              "<style scoped>\n",
              "    .dataframe tbody tr th:only-of-type {\n",
              "        vertical-align: middle;\n",
              "    }\n",
              "\n",
              "    .dataframe tbody tr th {\n",
              "        vertical-align: top;\n",
              "    }\n",
              "\n",
              "    .dataframe thead th {\n",
              "        text-align: right;\n",
              "    }\n",
              "</style>\n",
              "<table border=\"1\" class=\"dataframe\">\n",
              "  <thead>\n",
              "    <tr style=\"text-align: right;\">\n",
              "      <th></th>\n",
              "      <th>sepal length (cm)</th>\n",
              "      <th>sepal width (cm)</th>\n",
              "      <th>petal length (cm)</th>\n",
              "      <th>petal width (cm)</th>\n",
              "    </tr>\n",
              "  </thead>\n",
              "  <tbody>\n",
              "    <tr>\n",
              "      <th>0</th>\n",
              "      <td>5.1</td>\n",
              "      <td>3.5</td>\n",
              "      <td>1.4</td>\n",
              "      <td>0.2</td>\n",
              "    </tr>\n",
              "    <tr>\n",
              "      <th>1</th>\n",
              "      <td>4.9</td>\n",
              "      <td>3.0</td>\n",
              "      <td>1.4</td>\n",
              "      <td>0.2</td>\n",
              "    </tr>\n",
              "    <tr>\n",
              "      <th>2</th>\n",
              "      <td>4.7</td>\n",
              "      <td>3.2</td>\n",
              "      <td>1.3</td>\n",
              "      <td>0.2</td>\n",
              "    </tr>\n",
              "    <tr>\n",
              "      <th>3</th>\n",
              "      <td>4.6</td>\n",
              "      <td>3.1</td>\n",
              "      <td>1.5</td>\n",
              "      <td>0.2</td>\n",
              "    </tr>\n",
              "    <tr>\n",
              "      <th>4</th>\n",
              "      <td>5.0</td>\n",
              "      <td>3.6</td>\n",
              "      <td>1.4</td>\n",
              "      <td>0.2</td>\n",
              "    </tr>\n",
              "    <tr>\n",
              "      <th>...</th>\n",
              "      <td>...</td>\n",
              "      <td>...</td>\n",
              "      <td>...</td>\n",
              "      <td>...</td>\n",
              "    </tr>\n",
              "    <tr>\n",
              "      <th>145</th>\n",
              "      <td>6.7</td>\n",
              "      <td>3.0</td>\n",
              "      <td>5.2</td>\n",
              "      <td>2.3</td>\n",
              "    </tr>\n",
              "    <tr>\n",
              "      <th>146</th>\n",
              "      <td>6.3</td>\n",
              "      <td>2.5</td>\n",
              "      <td>5.0</td>\n",
              "      <td>1.9</td>\n",
              "    </tr>\n",
              "    <tr>\n",
              "      <th>147</th>\n",
              "      <td>6.5</td>\n",
              "      <td>3.0</td>\n",
              "      <td>5.2</td>\n",
              "      <td>2.0</td>\n",
              "    </tr>\n",
              "    <tr>\n",
              "      <th>148</th>\n",
              "      <td>6.2</td>\n",
              "      <td>3.4</td>\n",
              "      <td>5.4</td>\n",
              "      <td>2.3</td>\n",
              "    </tr>\n",
              "    <tr>\n",
              "      <th>149</th>\n",
              "      <td>5.9</td>\n",
              "      <td>3.0</td>\n",
              "      <td>5.1</td>\n",
              "      <td>1.8</td>\n",
              "    </tr>\n",
              "  </tbody>\n",
              "</table>\n",
              "<p>150 rows × 4 columns</p>\n",
              "</div>"
            ],
            "text/plain": [
              "     sepal length (cm)  sepal width (cm)  petal length (cm)  petal width (cm)\n",
              "0                  5.1               3.5                1.4               0.2\n",
              "1                  4.9               3.0                1.4               0.2\n",
              "2                  4.7               3.2                1.3               0.2\n",
              "3                  4.6               3.1                1.5               0.2\n",
              "4                  5.0               3.6                1.4               0.2\n",
              "..                 ...               ...                ...               ...\n",
              "145                6.7               3.0                5.2               2.3\n",
              "146                6.3               2.5                5.0               1.9\n",
              "147                6.5               3.0                5.2               2.0\n",
              "148                6.2               3.4                5.4               2.3\n",
              "149                5.9               3.0                5.1               1.8\n",
              "\n",
              "[150 rows x 4 columns]"
            ]
          },
          "metadata": {
            "tags": []
          },
          "execution_count": 1129
        }
      ]
    },
    {
      "cell_type": "markdown",
      "metadata": {
        "id": "hi9U54Fndf6H"
      },
      "source": [
        "### **Step4**\n",
        "\n",
        "**Knowing the labels**"
      ]
    },
    {
      "cell_type": "code",
      "metadata": {
        "id": "pqBg_2VzcIpS"
      },
      "source": [
        "dta_iris['label']=iris.target"
      ],
      "execution_count": 1130,
      "outputs": []
    },
    {
      "cell_type": "code",
      "metadata": {
        "colab": {
          "base_uri": "https://localhost:8080/",
          "height": 0
        },
        "id": "LXw5wPZYfE5A",
        "outputId": "d51ccd4d-cd8d-47be-b142-a0bbe6cf8581"
      },
      "source": [
        "dta_iris"
      ],
      "execution_count": 1131,
      "outputs": [
        {
          "output_type": "execute_result",
          "data": {
            "text/html": [
              "<div>\n",
              "<style scoped>\n",
              "    .dataframe tbody tr th:only-of-type {\n",
              "        vertical-align: middle;\n",
              "    }\n",
              "\n",
              "    .dataframe tbody tr th {\n",
              "        vertical-align: top;\n",
              "    }\n",
              "\n",
              "    .dataframe thead th {\n",
              "        text-align: right;\n",
              "    }\n",
              "</style>\n",
              "<table border=\"1\" class=\"dataframe\">\n",
              "  <thead>\n",
              "    <tr style=\"text-align: right;\">\n",
              "      <th></th>\n",
              "      <th>sepal length (cm)</th>\n",
              "      <th>sepal width (cm)</th>\n",
              "      <th>petal length (cm)</th>\n",
              "      <th>petal width (cm)</th>\n",
              "      <th>label</th>\n",
              "    </tr>\n",
              "  </thead>\n",
              "  <tbody>\n",
              "    <tr>\n",
              "      <th>0</th>\n",
              "      <td>5.1</td>\n",
              "      <td>3.5</td>\n",
              "      <td>1.4</td>\n",
              "      <td>0.2</td>\n",
              "      <td>0</td>\n",
              "    </tr>\n",
              "    <tr>\n",
              "      <th>1</th>\n",
              "      <td>4.9</td>\n",
              "      <td>3.0</td>\n",
              "      <td>1.4</td>\n",
              "      <td>0.2</td>\n",
              "      <td>0</td>\n",
              "    </tr>\n",
              "    <tr>\n",
              "      <th>2</th>\n",
              "      <td>4.7</td>\n",
              "      <td>3.2</td>\n",
              "      <td>1.3</td>\n",
              "      <td>0.2</td>\n",
              "      <td>0</td>\n",
              "    </tr>\n",
              "    <tr>\n",
              "      <th>3</th>\n",
              "      <td>4.6</td>\n",
              "      <td>3.1</td>\n",
              "      <td>1.5</td>\n",
              "      <td>0.2</td>\n",
              "      <td>0</td>\n",
              "    </tr>\n",
              "    <tr>\n",
              "      <th>4</th>\n",
              "      <td>5.0</td>\n",
              "      <td>3.6</td>\n",
              "      <td>1.4</td>\n",
              "      <td>0.2</td>\n",
              "      <td>0</td>\n",
              "    </tr>\n",
              "    <tr>\n",
              "      <th>...</th>\n",
              "      <td>...</td>\n",
              "      <td>...</td>\n",
              "      <td>...</td>\n",
              "      <td>...</td>\n",
              "      <td>...</td>\n",
              "    </tr>\n",
              "    <tr>\n",
              "      <th>145</th>\n",
              "      <td>6.7</td>\n",
              "      <td>3.0</td>\n",
              "      <td>5.2</td>\n",
              "      <td>2.3</td>\n",
              "      <td>2</td>\n",
              "    </tr>\n",
              "    <tr>\n",
              "      <th>146</th>\n",
              "      <td>6.3</td>\n",
              "      <td>2.5</td>\n",
              "      <td>5.0</td>\n",
              "      <td>1.9</td>\n",
              "      <td>2</td>\n",
              "    </tr>\n",
              "    <tr>\n",
              "      <th>147</th>\n",
              "      <td>6.5</td>\n",
              "      <td>3.0</td>\n",
              "      <td>5.2</td>\n",
              "      <td>2.0</td>\n",
              "      <td>2</td>\n",
              "    </tr>\n",
              "    <tr>\n",
              "      <th>148</th>\n",
              "      <td>6.2</td>\n",
              "      <td>3.4</td>\n",
              "      <td>5.4</td>\n",
              "      <td>2.3</td>\n",
              "      <td>2</td>\n",
              "    </tr>\n",
              "    <tr>\n",
              "      <th>149</th>\n",
              "      <td>5.9</td>\n",
              "      <td>3.0</td>\n",
              "      <td>5.1</td>\n",
              "      <td>1.8</td>\n",
              "      <td>2</td>\n",
              "    </tr>\n",
              "  </tbody>\n",
              "</table>\n",
              "<p>150 rows × 5 columns</p>\n",
              "</div>"
            ],
            "text/plain": [
              "     sepal length (cm)  sepal width (cm)  ...  petal width (cm)  label\n",
              "0                  5.1               3.5  ...               0.2      0\n",
              "1                  4.9               3.0  ...               0.2      0\n",
              "2                  4.7               3.2  ...               0.2      0\n",
              "3                  4.6               3.1  ...               0.2      0\n",
              "4                  5.0               3.6  ...               0.2      0\n",
              "..                 ...               ...  ...               ...    ...\n",
              "145                6.7               3.0  ...               2.3      2\n",
              "146                6.3               2.5  ...               1.9      2\n",
              "147                6.5               3.0  ...               2.0      2\n",
              "148                6.2               3.4  ...               2.3      2\n",
              "149                5.9               3.0  ...               1.8      2\n",
              "\n",
              "[150 rows x 5 columns]"
            ]
          },
          "metadata": {
            "tags": []
          },
          "execution_count": 1131
        }
      ]
    },
    {
      "cell_type": "markdown",
      "metadata": {
        "id": "0SdZGGnTfRuL"
      },
      "source": [
        "### **Step 5**\n",
        "\n",
        "Vizualizing the data"
      ]
    },
    {
      "cell_type": "code",
      "metadata": {
        "colab": {
          "base_uri": "https://localhost:8080/",
          "height": 0
        },
        "id": "6PR3mBCEfK1U",
        "outputId": "6bc54e68-c1fe-48ca-f415-74cc18a1c577"
      },
      "source": [
        "plt.scatter(dta_iris.iloc[:,2],dta_iris.iloc[:,3],c=iris.target)\n",
        "plt.xlabel('Petal Length (cm)')\n",
        "plt.ylabel('Petal Width (cm)')"
      ],
      "execution_count": 1132,
      "outputs": [
        {
          "output_type": "execute_result",
          "data": {
            "text/plain": [
              "Text(0, 0.5, 'Petal Width (cm)')"
            ]
          },
          "metadata": {
            "tags": []
          },
          "execution_count": 1132
        },
        {
          "output_type": "display_data",
          "data": {
            "image/png": "[encoded data removed]",
            "text/plain": [
              "<Figure size 432x288 with 1 Axes>"
            ]
          },
          "metadata": {
            "tags": [],
            "needs_background": "light"
          }
        }
      ]
    },
    {
      "cell_type": "code",
      "metadata": {
        "colab": {
          "base_uri": "https://localhost:8080/"
        },
        "id": "VRhKR2u6gZAd",
        "outputId": "e3a5abd1-5331-4b40-adc8-ae4325243cbe"
      },
      "source": [
        "x=dta_iris.iloc[:,0:4]\n",
        "print(x)\n",
        "y=dta_iris.iloc[:,4]\n",
        "print(y)"
      ],
      "execution_count": 1133,
      "outputs": [
        {
          "output_type": "stream",
          "text": [
            "     sepal length (cm)  sepal width (cm)  petal length (cm)  petal width (cm)\n",
            "0                  5.1               3.5                1.4               0.2\n",
            "1                  4.9               3.0                1.4               0.2\n",
            "2                  4.7               3.2                1.3               0.2\n",
            "3                  4.6               3.1                1.5               0.2\n",
            "4                  5.0               3.6                1.4               0.2\n",
            "..                 ...               ...                ...               ...\n",
            "145                6.7               3.0                5.2               2.3\n",
            "146                6.3               2.5                5.0               1.9\n",
            "147                6.5               3.0                5.2               2.0\n",
            "148                6.2               3.4                5.4               2.3\n",
            "149                5.9               3.0                5.1               1.8\n",
            "\n",
            "[150 rows x 4 columns]\n",
            "0      0\n",
            "1      0\n",
            "2      0\n",
            "3      0\n",
            "4      0\n",
            "      ..\n",
            "145    2\n",
            "146    2\n",
            "147    2\n",
            "148    2\n",
            "149    2\n",
            "Name: label, Length: 150, dtype: int64\n"
          ],
          "name": "stdout"
        }
      ]
    },
    {
      "cell_type": "markdown",
      "metadata": {
        "id": "TRTLNbBXoJuW"
      },
      "source": [
        "# **Classification**"
      ]
    },
    {
      "cell_type": "markdown",
      "metadata": {
        "id": "2x4OD4wHwuuB"
      },
      "source": [
        "### ***KNN Algorithm***"
      ]
    },
    {
      "cell_type": "code",
      "metadata": {
        "id": "iCSCybdJjr8y"
      },
      "source": [
        "from sklearn.neighbors import KNeighborsClassifier"
      ],
      "execution_count": 1134,
      "outputs": []
    },
    {
      "cell_type": "markdown",
      "metadata": {
        "id": "DEs5RBAmYGHX"
      },
      "source": [
        "**Step 1- Train the model (FITTING)**"
      ]
    },
    {
      "cell_type": "code",
      "metadata": {
        "id": "FRzflWZMYFTq"
      },
      "source": [
        "knn=KNeighborsClassifier(n_neighbors=6 , metric='minkowski', p=1)\n",
        "#p= 2 for euclidean and 1 for manhattan"
      ],
      "execution_count": 1135,
      "outputs": []
    },
    {
      "cell_type": "markdown",
      "metadata": {
        "id": "LdXImKB6acAx"
      },
      "source": [
        "**Step 2 - Define X and Y for preprocessing**"
      ]
    },
    {
      "cell_type": "code",
      "metadata": {
        "colab": {
          "base_uri": "https://localhost:8080/"
        },
        "id": "nwHEGB6daaoZ",
        "outputId": "b752e8ae-61b3-403b-dc52-40a1ef509a08"
      },
      "source": [
        "knn.fit(x,y)"
      ],
      "execution_count": 1136,
      "outputs": [
        {
          "output_type": "execute_result",
          "data": {
            "text/plain": [
              "KNeighborsClassifier(algorithm='auto', leaf_size=30, metric='minkowski',\n",
              "                     metric_params=None, n_jobs=None, n_neighbors=6, p=1,\n",
              "                     weights='uniform')"
            ]
          },
          "metadata": {
            "tags": []
          },
          "execution_count": 1136
        }
      ]
    },
    {
      "cell_type": "markdown",
      "metadata": {
        "id": "fAfPvuQSi7wt"
      },
      "source": [
        "**Step 3- Start Prediction problem solving**\n",
        "\n",
        "for example, someone imagine that someone gives you a sample that contains Sepal and Petals width and length, find the type of flower."
      ]
    },
    {
      "cell_type": "code",
      "metadata": {
        "id": "KK7lk85Qjl7O"
      },
      "source": [
        "x_new=np.array([[5.6,3.4,1.4,0.1]]) #Sample datasets\n",
        "x_new2=np.array([[4.5,1.4,7.4,2.1]])"
      ],
      "execution_count": 1137,
      "outputs": []
    },
    {
      "cell_type": "code",
      "metadata": {
        "colab": {
          "base_uri": "https://localhost:8080/"
        },
        "id": "kV_VtsvTmoWx",
        "outputId": "ed6cd164-40eb-4a82-906a-f0c60e0c272e"
      },
      "source": [
        "knn.predict(x_new)"
      ],
      "execution_count": 1138,
      "outputs": [
        {
          "output_type": "execute_result",
          "data": {
            "text/plain": [
              "array([0])"
            ]
          },
          "metadata": {
            "tags": []
          },
          "execution_count": 1138
        }
      ]
    },
    {
      "cell_type": "markdown",
      "metadata": {
        "id": "hRi6g0HPm6sj"
      },
      "source": [
        "Here it predicts the sample to be of Setosa"
      ]
    },
    {
      "cell_type": "code",
      "metadata": {
        "colab": {
          "base_uri": "https://localhost:8080/"
        },
        "id": "2rSifufdmzZd",
        "outputId": "bdb73196-12a9-4ae2-bbd6-d7783a59e2d3"
      },
      "source": [
        "knn.predict(x_new2) #"
      ],
      "execution_count": 1139,
      "outputs": [
        {
          "output_type": "execute_result",
          "data": {
            "text/plain": [
              "array([2])"
            ]
          },
          "metadata": {
            "tags": []
          },
          "execution_count": 1139
        }
      ]
    },
    {
      "cell_type": "markdown",
      "metadata": {
        "id": "CVHJjp0Rpwll"
      },
      "source": [
        "Here it predicts the sample to be of Virginica"
      ]
    },
    {
      "cell_type": "markdown",
      "metadata": {
        "id": "P-IKy3dDqHF5"
      },
      "source": [
        "### ***KNN Algorithm With training and test set creation***"
      ]
    },
    {
      "cell_type": "markdown",
      "metadata": {
        "id": "_FWePzGVyyul"
      },
      "source": [
        "Step 1-Split dataset into training and test set"
      ]
    },
    {
      "cell_type": "code",
      "metadata": {
        "id": "Wy9jLqPqpZTo"
      },
      "source": [
        "from sklearn.model_selection import train_test_split"
      ],
      "execution_count": 1140,
      "outputs": []
    },
    {
      "cell_type": "code",
      "metadata": {
        "id": "5wI1OJF0zUrB"
      },
      "source": [
        "x_train , x_test ,y_train, y_test =train_test_split(x,y,test_size=0.2, \n",
        "                                                    train_size=0.8, \n",
        "                                                    random_state=88, \n",
        "                                                    shuffle=True, stratify=y )\n",
        "#random_state is just a code for your implementation, can beany no\n"
      ],
      "execution_count": 1141,
      "outputs": []
    },
    {
      "cell_type": "code",
      "metadata": {
        "colab": {
          "base_uri": "https://localhost:8080/"
        },
        "id": "zUnwvYAIAVRp",
        "outputId": "d433b80b-37a3-43ba-c915-bbb1172974a9"
      },
      "source": [
        "y_train"
      ],
      "execution_count": 1142,
      "outputs": [
        {
          "output_type": "execute_result",
          "data": {
            "text/plain": [
              "10     0\n",
              "130    2\n",
              "46     0\n",
              "58     1\n",
              "12     0\n",
              "      ..\n",
              "64     1\n",
              "97     1\n",
              "134    2\n",
              "30     0\n",
              "94     1\n",
              "Name: label, Length: 120, dtype: int64"
            ]
          },
          "metadata": {
            "tags": []
          },
          "execution_count": 1142
        }
      ]
    },
    {
      "cell_type": "markdown",
      "metadata": {
        "id": "J-6fDoszEQCM"
      },
      "source": [
        "**Step 2- Continue processing the data and train**"
      ]
    },
    {
      "cell_type": "code",
      "metadata": {
        "colab": {
          "base_uri": "https://localhost:8080/"
        },
        "id": "XImVmyFmAcwE",
        "outputId": "c90b5c89-f63a-472c-be1c-c34ee43d45db"
      },
      "source": [
        "from sklearn.neighbors import KNeighborsClassifier\n",
        "knn1=KNeighborsClassifier(n_neighbors=6 , metric='minkowski', p=1)\n",
        "knn1.fit(x_train,y_train)"
      ],
      "execution_count": 1143,
      "outputs": [
        {
          "output_type": "execute_result",
          "data": {
            "text/plain": [
              "KNeighborsClassifier(algorithm='auto', leaf_size=30, metric='minkowski',\n",
              "                     metric_params=None, n_jobs=None, n_neighbors=6, p=1,\n",
              "                     weights='uniform')"
            ]
          },
          "metadata": {
            "tags": []
          },
          "execution_count": 1143
        }
      ]
    },
    {
      "cell_type": "markdown",
      "metadata": {
        "id": "CKiSUoyUFWCD"
      },
      "source": [
        "**Step 3- Predict using test dataset and check with the existing output of the other test data**"
      ]
    },
    {
      "cell_type": "code",
      "metadata": {
        "colab": {
          "base_uri": "https://localhost:8080/"
        },
        "id": "voJDUcTyErK4",
        "outputId": "17b08492-dab1-4efc-d78c-09cd786c50b3"
      },
      "source": [
        "predicted_values=knn1.predict(x_test)\n",
        "predicted_values"
      ],
      "execution_count": 1144,
      "outputs": [
        {
          "output_type": "execute_result",
          "data": {
            "text/plain": [
              "array([1, 1, 2, 2, 1, 1, 1, 2, 1, 0, 1, 2, 2, 2, 2, 0, 1, 0, 0, 0, 2, 0,\n",
              "       2, 0, 0, 1, 1, 0, 1, 0])"
            ]
          },
          "metadata": {
            "tags": []
          },
          "execution_count": 1144
        }
      ]
    },
    {
      "cell_type": "markdown",
      "metadata": {
        "id": "OXbxE2fNFP7T"
      },
      "source": [
        "Now Compare the both data as to get output as same as Y_test"
      ]
    },
    {
      "cell_type": "code",
      "metadata": {
        "colab": {
          "base_uri": "https://localhost:8080/"
        },
        "id": "PTYRW1XHE9ZV",
        "outputId": "0bf51951-410f-4297-d4e4-f6055dd4ebec"
      },
      "source": [
        "y_test"
      ],
      "execution_count": 1145,
      "outputs": [
        {
          "output_type": "execute_result",
          "data": {
            "text/plain": [
              "92     1\n",
              "66     1\n",
              "128    2\n",
              "126    2\n",
              "50     1\n",
              "106    2\n",
              "74     1\n",
              "111    2\n",
              "84     1\n",
              "20     0\n",
              "78     1\n",
              "107    2\n",
              "143    2\n",
              "102    2\n",
              "109    2\n",
              "24     0\n",
              "71     1\n",
              "43     0\n",
              "42     0\n",
              "32     0\n",
              "113    2\n",
              "5      0\n",
              "120    2\n",
              "37     0\n",
              "34     0\n",
              "61     1\n",
              "88     1\n",
              "15     0\n",
              "86     1\n",
              "33     0\n",
              "Name: label, dtype: int64"
            ]
          },
          "metadata": {
            "tags": []
          },
          "execution_count": 1145
        }
      ]
    },
    {
      "cell_type": "markdown",
      "metadata": {
        "id": "LIXfs-WQFk_L"
      },
      "source": [
        "**Step 4 - Find accuracy**"
      ]
    },
    {
      "cell_type": "code",
      "metadata": {
        "colab": {
          "base_uri": "https://localhost:8080/"
        },
        "id": "wy439jYHFKMv",
        "outputId": "7b500263-8413-4439-c93e-23cee3d6a9ee"
      },
      "source": [
        "from sklearn.metrics import accuracy_score\n",
        "accuracy_score(y_test,predicted_values)"
      ],
      "execution_count": 1146,
      "outputs": [
        {
          "output_type": "execute_result",
          "data": {
            "text/plain": [
              "0.9666666666666667"
            ]
          },
          "metadata": {
            "tags": []
          },
          "execution_count": 1146
        }
      ]
    },
    {
      "cell_type": "markdown",
      "metadata": {
        "id": "TV4cuHvvm-FC"
      },
      "source": [
        "# **Naive Bayes**"
      ]
    },
    {
      "cell_type": "markdown",
      "metadata": {
        "id": "upahl95wMyIc"
      },
      "source": [
        "### **Decision Trees**"
      ]
    },
    {
      "cell_type": "markdown",
      "metadata": {
        "id": "nlnVcxMtU3CP"
      },
      "source": [
        "**Step 1 - Import the descision tree classifier package from scikit learn**"
      ]
    },
    {
      "cell_type": "code",
      "metadata": {
        "id": "B14gY_ePM9Nz"
      },
      "source": [
        "from sklearn.tree import DecisionTreeClassifier"
      ],
      "execution_count": 1147,
      "outputs": []
    },
    {
      "cell_type": "code",
      "metadata": {
        "id": "ZBFyWOJdVACr"
      },
      "source": [
        "des_tree=DecisionTreeClassifier()"
      ],
      "execution_count": 1148,
      "outputs": []
    },
    {
      "cell_type": "markdown",
      "metadata": {
        "id": "U7_uihhgVLNh"
      },
      "source": [
        "**Step 2- Fit the data**"
      ]
    },
    {
      "cell_type": "code",
      "metadata": {
        "colab": {
          "base_uri": "https://localhost:8080/"
        },
        "id": "athCAWAPVJGC",
        "outputId": "139c6e52-8651-4b41-c7cc-7a43de69c24a"
      },
      "source": [
        "des_tree.fit(x_train,y_train)"
      ],
      "execution_count": 1149,
      "outputs": [
        {
          "output_type": "execute_result",
          "data": {
            "text/plain": [
              "DecisionTreeClassifier(ccp_alpha=0.0, class_weight=None, criterion='gini',\n",
              "                       max_depth=None, max_features=None, max_leaf_nodes=None,\n",
              "                       min_impurity_decrease=0.0, min_impurity_split=None,\n",
              "                       min_samples_leaf=1, min_samples_split=2,\n",
              "                       min_weight_fraction_leaf=0.0, presort='deprecated',\n",
              "                       random_state=None, splitter='best')"
            ]
          },
          "metadata": {
            "tags": []
          },
          "execution_count": 1149
        }
      ]
    },
    {
      "cell_type": "code",
      "metadata": {
        "colab": {
          "base_uri": "https://localhost:8080/"
        },
        "id": "ZQcrf41BVUUn",
        "outputId": "197108c1-803a-43e9-8d81-f7dbb6c4a08b"
      },
      "source": [
        "predicted_values_destree=des_tree.predict(x_test)\n",
        "predicted_values_destree"
      ],
      "execution_count": 1150,
      "outputs": [
        {
          "output_type": "execute_result",
          "data": {
            "text/plain": [
              "array([1, 1, 2, 2, 1, 2, 1, 2, 1, 0, 1, 2, 2, 2, 2, 0, 1, 0, 0, 0, 2, 0,\n",
              "       2, 0, 0, 1, 1, 0, 1, 0])"
            ]
          },
          "metadata": {
            "tags": []
          },
          "execution_count": 1150
        }
      ]
    },
    {
      "cell_type": "code",
      "metadata": {
        "colab": {
          "base_uri": "https://localhost:8080/"
        },
        "id": "tKyQcekYVmmo",
        "outputId": "92f59e9d-8483-4b51-8dcc-e82fd34a7408"
      },
      "source": [
        "accuracy_score(y_test,predicted_values_destree)"
      ],
      "execution_count": 1151,
      "outputs": [
        {
          "output_type": "execute_result",
          "data": {
            "text/plain": [
              "1.0"
            ]
          },
          "metadata": {
            "tags": []
          },
          "execution_count": 1151
        }
      ]
    },
    {
      "cell_type": "markdown",
      "metadata": {
        "id": "nGgG8zbimEr8"
      },
      "source": [
        "Step 1 import the package"
      ]
    },
    {
      "cell_type": "code",
      "metadata": {
        "id": "vJ4i4Bz9mDuO"
      },
      "source": [
        "from sklearn.naive_bayes import GaussianNB"
      ],
      "execution_count": 1152,
      "outputs": []
    },
    {
      "cell_type": "code",
      "metadata": {
        "id": "WilrXFL4mxSZ"
      },
      "source": [
        "nb= GaussianNB()"
      ],
      "execution_count": 1153,
      "outputs": []
    },
    {
      "cell_type": "markdown",
      "metadata": {
        "id": "JiN9gxAO_oDf"
      },
      "source": [
        "Step 2 - Fit the data"
      ]
    },
    {
      "cell_type": "code",
      "metadata": {
        "colab": {
          "base_uri": "https://localhost:8080/"
        },
        "id": "DeYP6nqj_qRA",
        "outputId": "a119b3cb-bcb5-4714-972f-59807fa466a7"
      },
      "source": [
        "nb.fit(x_train,y_train)"
      ],
      "execution_count": 1154,
      "outputs": [
        {
          "output_type": "execute_result",
          "data": {
            "text/plain": [
              "GaussianNB(priors=None, var_smoothing=1e-09)"
            ]
          },
          "metadata": {
            "tags": []
          },
          "execution_count": 1154
        }
      ]
    },
    {
      "cell_type": "code",
      "metadata": {
        "colab": {
          "base_uri": "https://localhost:8080/"
        },
        "id": "iejOxEt1_2Da",
        "outputId": "ba1bcb66-ddd5-4bb9-8ae4-b91b17882e9a"
      },
      "source": [
        "predicted_values_nb=nb.predict(x_test)\n",
        "predicted_values_nb"
      ],
      "execution_count": 1155,
      "outputs": [
        {
          "output_type": "execute_result",
          "data": {
            "text/plain": [
              "array([1, 1, 2, 2, 1, 1, 1, 2, 1, 0, 1, 2, 2, 2, 2, 0, 1, 0, 0, 0, 2, 0,\n",
              "       2, 0, 0, 1, 1, 0, 1, 0])"
            ]
          },
          "metadata": {
            "tags": []
          },
          "execution_count": 1155
        }
      ]
    },
    {
      "cell_type": "code",
      "metadata": {
        "colab": {
          "base_uri": "https://localhost:8080/"
        },
        "id": "7yGe0xV9_7cl",
        "outputId": "f8caf444-4995-479d-ec81-239765664868"
      },
      "source": [
        "y_test"
      ],
      "execution_count": 1156,
      "outputs": [
        {
          "output_type": "execute_result",
          "data": {
            "text/plain": [
              "92     1\n",
              "66     1\n",
              "128    2\n",
              "126    2\n",
              "50     1\n",
              "106    2\n",
              "74     1\n",
              "111    2\n",
              "84     1\n",
              "20     0\n",
              "78     1\n",
              "107    2\n",
              "143    2\n",
              "102    2\n",
              "109    2\n",
              "24     0\n",
              "71     1\n",
              "43     0\n",
              "42     0\n",
              "32     0\n",
              "113    2\n",
              "5      0\n",
              "120    2\n",
              "37     0\n",
              "34     0\n",
              "61     1\n",
              "88     1\n",
              "15     0\n",
              "86     1\n",
              "33     0\n",
              "Name: label, dtype: int64"
            ]
          },
          "metadata": {
            "tags": []
          },
          "execution_count": 1156
        }
      ]
    },
    {
      "cell_type": "code",
      "metadata": {
        "colab": {
          "base_uri": "https://localhost:8080/"
        },
        "id": "uEBYbZyw__22",
        "outputId": "05896385-c504-48bd-dfe3-0950466e8d97"
      },
      "source": [
        "accuracy_score(y_test,predicted_values_nb)"
      ],
      "execution_count": 1157,
      "outputs": [
        {
          "output_type": "execute_result",
          "data": {
            "text/plain": [
              "0.9666666666666667"
            ]
          },
          "metadata": {
            "tags": []
          },
          "execution_count": 1157
        }
      ]
    },
    {
      "cell_type": "code",
      "metadata": {
        "colab": {
          "base_uri": "https://localhost:8080/"
        },
        "id": "levOdH8mAG9m",
        "outputId": "9214a28a-91e2-42bc-e9ea-0195a1351392"
      },
      "source": [
        "from sklearn.model_selection import cross_val_score\n",
        "score_nb=cross_val_score(nb, x, y,cv=10)\n",
        "print(score_nb)"
      ],
      "execution_count": 1158,
      "outputs": [
        {
          "output_type": "stream",
          "text": [
            "[0.93333333 0.93333333 1.         0.93333333 0.93333333 0.93333333\n",
            " 0.86666667 1.         1.         1.        ]\n"
          ],
          "name": "stdout"
        }
      ]
    },
    {
      "cell_type": "markdown",
      "metadata": {
        "id": "3TvYiPbhA-Ez"
      },
      "source": [
        "**LOGISTIC REGRESSION**\n",
        "\n",
        "Used mainly for binary classification eg. Mail spam or not spam."
      ]
    },
    {
      "cell_type": "markdown",
      "metadata": {
        "id": "rE08iJtWBwMr"
      },
      "source": [
        "**Step 1 - We import a different dataset**"
      ]
    },
    {
      "cell_type": "code",
      "metadata": {
        "id": "_rF0btuGAvjW"
      },
      "source": [
        "from sklearn.datasets import load_breast_cancer"
      ],
      "execution_count": 1159,
      "outputs": []
    },
    {
      "cell_type": "code",
      "metadata": {
        "colab": {
          "base_uri": "https://localhost:8080/"
        },
        "id": "o4cl2EYJB7OQ",
        "outputId": "153cedfb-7e48-4a14-c255-3be581155092"
      },
      "source": [
        "data_c= load_breast_cancer()\n",
        "print(data_c)"
      ],
      "execution_count": 1160,
      "outputs": [
        {
          "output_type": "stream",
          "text": [
            "{'data': array([[1.799e+01, 1.038e+01, 1.228e+02, ..., 2.654e-01, 4.601e-01,\n",
            "        1.189e-01],\n",
            "       [2.057e+01, 1.777e+01, 1.329e+02, ..., 1.860e-01, 2.750e-01,\n",
            "        8.902e-02],\n",
            "       [1.969e+01, 2.125e+01, 1.300e+02, ..., 2.430e-01, 3.613e-01,\n",
            "        8.758e-02],\n",
            "       ...,\n",
            "       [1.660e+01, 2.808e+01, 1.083e+02, ..., 1.418e-01, 2.218e-01,\n",
            "        7.820e-02],\n",
            "       [2.060e+01, 2.933e+01, 1.401e+02, ..., 2.650e-01, 4.087e-01,\n",
            "        1.240e-01],\n",
            "       [7.760e+00, 2.454e+01, 4.792e+01, ..., 0.000e+00, 2.871e-01,\n",
            "        7.039e-02]]), 'target': array([0, 0, 0, 0, 0, 0, 0, 0, 0, 0, 0, 0, 0, 0, 0, 0, 0, 0, 0, 1, 1, 1,\n",
            "       0, 0, 0, 0, 0, 0, 0, 0, 0, 0, 0, 0, 0, 0, 0, 1, 0, 0, 0, 0, 0, 0,\n",
            "       0, 0, 1, 0, 1, 1, 1, 1, 1, 0, 0, 1, 0, 0, 1, 1, 1, 1, 0, 1, 0, 0,\n",
            "       1, 1, 1, 1, 0, 1, 0, 0, 1, 0, 1, 0, 0, 1, 1, 1, 0, 0, 1, 0, 0, 0,\n",
            "       1, 1, 1, 0, 1, 1, 0, 0, 1, 1, 1, 0, 0, 1, 1, 1, 1, 0, 1, 1, 0, 1,\n",
            "       1, 1, 1, 1, 1, 1, 1, 0, 0, 0, 1, 0, 0, 1, 1, 1, 0, 0, 1, 0, 1, 0,\n",
            "       0, 1, 0, 0, 1, 1, 0, 1, 1, 0, 1, 1, 1, 1, 0, 1, 1, 1, 1, 1, 1, 1,\n",
            "       1, 1, 0, 1, 1, 1, 1, 0, 0, 1, 0, 1, 1, 0, 0, 1, 1, 0, 0, 1, 1, 1,\n",
            "       1, 0, 1, 1, 0, 0, 0, 1, 0, 1, 0, 1, 1, 1, 0, 1, 1, 0, 0, 1, 0, 0,\n",
            "       0, 0, 1, 0, 0, 0, 1, 0, 1, 0, 1, 1, 0, 1, 0, 0, 0, 0, 1, 1, 0, 0,\n",
            "       1, 1, 1, 0, 1, 1, 1, 1, 1, 0, 0, 1, 1, 0, 1, 1, 0, 0, 1, 0, 1, 1,\n",
            "       1, 1, 0, 1, 1, 1, 1, 1, 0, 1, 0, 0, 0, 0, 0, 0, 0, 0, 0, 0, 0, 0,\n",
            "       0, 0, 1, 1, 1, 1, 1, 1, 0, 1, 0, 1, 1, 0, 1, 1, 0, 1, 0, 0, 1, 1,\n",
            "       1, 1, 1, 1, 1, 1, 1, 1, 1, 1, 1, 0, 1, 1, 0, 1, 0, 1, 1, 1, 1, 1,\n",
            "       1, 1, 1, 1, 1, 1, 1, 1, 1, 0, 1, 1, 1, 0, 1, 0, 1, 1, 1, 1, 0, 0,\n",
            "       0, 1, 1, 1, 1, 0, 1, 0, 1, 0, 1, 1, 1, 0, 1, 1, 1, 1, 1, 1, 1, 0,\n",
            "       0, 0, 1, 1, 1, 1, 1, 1, 1, 1, 1, 1, 1, 0, 0, 1, 0, 0, 0, 1, 0, 0,\n",
            "       1, 1, 1, 1, 1, 0, 1, 1, 1, 1, 1, 0, 1, 1, 1, 0, 1, 1, 0, 0, 1, 1,\n",
            "       1, 1, 1, 1, 0, 1, 1, 1, 1, 1, 1, 1, 0, 1, 1, 1, 1, 1, 0, 1, 1, 0,\n",
            "       1, 1, 1, 1, 1, 1, 1, 1, 1, 1, 1, 1, 0, 1, 0, 0, 1, 0, 1, 1, 1, 1,\n",
            "       1, 0, 1, 1, 0, 1, 0, 1, 1, 0, 1, 0, 1, 1, 1, 1, 1, 1, 1, 1, 0, 0,\n",
            "       1, 1, 1, 1, 1, 1, 0, 1, 1, 1, 1, 1, 1, 1, 1, 1, 1, 0, 1, 1, 1, 1,\n",
            "       1, 1, 1, 0, 1, 0, 1, 1, 0, 1, 1, 1, 1, 1, 0, 0, 1, 0, 1, 0, 1, 1,\n",
            "       1, 1, 1, 0, 1, 1, 0, 1, 0, 1, 0, 0, 1, 1, 1, 0, 1, 1, 1, 1, 1, 1,\n",
            "       1, 1, 1, 1, 1, 0, 1, 0, 0, 1, 1, 1, 1, 1, 1, 1, 1, 1, 1, 1, 1, 1,\n",
            "       1, 1, 1, 1, 1, 1, 1, 1, 1, 1, 1, 1, 0, 0, 0, 0, 0, 0, 1]), 'target_names': array(['malignant', 'benign'], dtype='<U9'), 'DESCR': '.. _breast_cancer_dataset:\\n\\nBreast cancer wisconsin (diagnostic) dataset\\n--------------------------------------------\\n\\n**Data Set Characteristics:**\\n\\n    :Number of Instances: 569\\n\\n    :Number of Attributes: 30 numeric, predictive attributes and the class\\n\\n    :Attribute Information:\\n        - radius (mean of distances from center to points on the perimeter)\\n        - texture (standard deviation of gray-scale values)\\n        - perimeter\\n        - area\\n        - smoothness (local variation in radius lengths)\\n        - compactness (perimeter^2 / area - 1.0)\\n        - concavity (severity of concave portions of the contour)\\n        - concave points (number of concave portions of the contour)\\n        - symmetry \\n        - fractal dimension (\"coastline approximation\" - 1)\\n\\n        The mean, standard error, and \"worst\" or largest (mean of the three\\n        largest values) of these features were computed for each image,\\n        resulting in 30 features.  For instance, field 3 is Mean Radius, field\\n        13 is Radius SE, field 23 is Worst Radius.\\n\\n        - class:\\n                - WDBC-Malignant\\n                - WDBC-Benign\\n\\n    :Summary Statistics:\\n\\n    ===================================== ====== ======\\n                                           Min    Max\\n    ===================================== ====== ======\\n    radius (mean):                        6.981  28.11\\n    texture (mean):                       9.71   39.28\\n    perimeter (mean):                     43.79  188.5\\n    area (mean):                          143.5  2501.0\\n    smoothness (mean):                    0.053  0.163\\n    compactness (mean):                   0.019  0.345\\n    concavity (mean):                     0.0    0.427\\n    concave points (mean):                0.0    0.201\\n    symmetry (mean):                      0.106  0.304\\n    fractal dimension (mean):             0.05   0.097\\n    radius (standard error):              0.112  2.873\\n    texture (standard error):             0.36   4.885\\n    perimeter (standard error):           0.757  21.98\\n    area (standard error):                6.802  542.2\\n    smoothness (standard error):          0.002  0.031\\n    compactness (standard error):         0.002  0.135\\n    concavity (standard error):           0.0    0.396\\n    concave points (standard error):      0.0    0.053\\n    symmetry (standard error):            0.008  0.079\\n    fractal dimension (standard error):   0.001  0.03\\n    radius (worst):                       7.93   36.04\\n    texture (worst):                      12.02  49.54\\n    perimeter (worst):                    50.41  251.2\\n    area (worst):                         185.2  4254.0\\n    smoothness (worst):                   0.071  0.223\\n    compactness (worst):                  0.027  1.058\\n    concavity (worst):                    0.0    1.252\\n    concave points (worst):               0.0    0.291\\n    symmetry (worst):                     0.156  0.664\\n    fractal dimension (worst):            0.055  0.208\\n    ===================================== ====== ======\\n\\n    :Missing Attribute Values: None\\n\\n    :Class Distribution: 212 - Malignant, 357 - Benign\\n\\n    :Creator:  Dr. William H. Wolberg, W. Nick Street, Olvi L. Mangasarian\\n\\n    :Donor: Nick Street\\n\\n    :Date: November, 1995\\n\\nThis is a copy of UCI ML Breast Cancer Wisconsin (Diagnostic) datasets.\\nhttps://goo.gl/U2Uwz2\\n\\nFeatures are computed from a digitized image of a fine needle\\naspirate (FNA) of a breast mass.  They describe\\ncharacteristics of the cell nuclei present in the image.\\n\\nSeparating plane described above was obtained using\\nMultisurface Method-Tree (MSM-T) [K. P. Bennett, \"Decision Tree\\nConstruction Via Linear Programming.\" Proceedings of the 4th\\nMidwest Artificial Intelligence and Cognitive Science Society,\\npp. 97-101, 1992], a classification method which uses linear\\nprogramming to construct a decision tree.  Relevant features\\nwere selected using an exhaustive search in the space of 1-4\\nfeatures and 1-3 separating planes.\\n\\nThe actual linear program used to obtain the separating plane\\nin the 3-dimensional space is that described in:\\n[K. P. Bennett and O. L. Mangasarian: \"Robust Linear\\nProgramming Discrimination of Two Linearly Inseparable Sets\",\\nOptimization Methods and Software 1, 1992, 23-34].\\n\\nThis database is also available through the UW CS ftp server:\\n\\nftp ftp.cs.wisc.edu\\ncd math-prog/cpo-dataset/machine-learn/WDBC/\\n\\n.. topic:: References\\n\\n   - W.N. Street, W.H. Wolberg and O.L. Mangasarian. Nuclear feature extraction \\n     for breast tumor diagnosis. IS&T/SPIE 1993 International Symposium on \\n     Electronic Imaging: Science and Technology, volume 1905, pages 861-870,\\n     San Jose, CA, 1993.\\n   - O.L. Mangasarian, W.N. Street and W.H. Wolberg. Breast cancer diagnosis and \\n     prognosis via linear programming. Operations Research, 43(4), pages 570-577, \\n     July-August 1995.\\n   - W.H. Wolberg, W.N. Street, and O.L. Mangasarian. Machine learning techniques\\n     to diagnose breast cancer from fine-needle aspirates. Cancer Letters 77 (1994) \\n     163-171.', 'feature_names': array(['mean radius', 'mean texture', 'mean perimeter', 'mean area',\n",
            "       'mean smoothness', 'mean compactness', 'mean concavity',\n",
            "       'mean concave points', 'mean symmetry', 'mean fractal dimension',\n",
            "       'radius error', 'texture error', 'perimeter error', 'area error',\n",
            "       'smoothness error', 'compactness error', 'concavity error',\n",
            "       'concave points error', 'symmetry error',\n",
            "       'fractal dimension error', 'worst radius', 'worst texture',\n",
            "       'worst perimeter', 'worst area', 'worst smoothness',\n",
            "       'worst compactness', 'worst concavity', 'worst concave points',\n",
            "       'worst symmetry', 'worst fractal dimension'], dtype='<U23'), 'filename': '/usr/local/lib/python3.7/dist-packages/sklearn/datasets/data/breast_cancer.csv'}\n"
          ],
          "name": "stdout"
        }
      ]
    },
    {
      "cell_type": "code",
      "metadata": {
        "colab": {
          "base_uri": "https://localhost:8080/"
        },
        "id": "uyqA0VysChNo",
        "outputId": "5b61daf2-eb2f-41e3-f26b-3ec13d136a3f"
      },
      "source": [
        "data_c.feature_names"
      ],
      "execution_count": 1161,
      "outputs": [
        {
          "output_type": "execute_result",
          "data": {
            "text/plain": [
              "array(['mean radius', 'mean texture', 'mean perimeter', 'mean area',\n",
              "       'mean smoothness', 'mean compactness', 'mean concavity',\n",
              "       'mean concave points', 'mean symmetry', 'mean fractal dimension',\n",
              "       'radius error', 'texture error', 'perimeter error', 'area error',\n",
              "       'smoothness error', 'compactness error', 'concavity error',\n",
              "       'concave points error', 'symmetry error',\n",
              "       'fractal dimension error', 'worst radius', 'worst texture',\n",
              "       'worst perimeter', 'worst area', 'worst smoothness',\n",
              "       'worst compactness', 'worst concavity', 'worst concave points',\n",
              "       'worst symmetry', 'worst fractal dimension'], dtype='<U23')"
            ]
          },
          "metadata": {
            "tags": []
          },
          "execution_count": 1161
        }
      ]
    },
    {
      "cell_type": "code",
      "metadata": {
        "id": "h2oBPAKsCKwf"
      },
      "source": [
        "data_c_viz=pd.DataFrame(data_c.data,columns=data_c.feature_names)"
      ],
      "execution_count": 1162,
      "outputs": []
    },
    {
      "cell_type": "code",
      "metadata": {
        "colab": {
          "base_uri": "https://localhost:8080/",
          "height": 0
        },
        "id": "-xGF4x7GCdQO",
        "outputId": "e3db02b6-5828-4e73-bd8b-b21fed52ce0b"
      },
      "source": [
        "data_c_viz"
      ],
      "execution_count": 1163,
      "outputs": [
        {
          "output_type": "execute_result",
          "data": {
            "text/html": [
              "<div>\n",
              "<style scoped>\n",
              "    .dataframe tbody tr th:only-of-type {\n",
              "        vertical-align: middle;\n",
              "    }\n",
              "\n",
              "    .dataframe tbody tr th {\n",
              "        vertical-align: top;\n",
              "    }\n",
              "\n",
              "    .dataframe thead th {\n",
              "        text-align: right;\n",
              "    }\n",
              "</style>\n",
              "<table border=\"1\" class=\"dataframe\">\n",
              "  <thead>\n",
              "    <tr style=\"text-align: right;\">\n",
              "      <th></th>\n",
              "      <th>mean radius</th>\n",
              "      <th>mean texture</th>\n",
              "      <th>mean perimeter</th>\n",
              "      <th>mean area</th>\n",
              "      <th>mean smoothness</th>\n",
              "      <th>mean compactness</th>\n",
              "      <th>mean concavity</th>\n",
              "      <th>mean concave points</th>\n",
              "      <th>mean symmetry</th>\n",
              "      <th>mean fractal dimension</th>\n",
              "      <th>radius error</th>\n",
              "      <th>texture error</th>\n",
              "      <th>perimeter error</th>\n",
              "      <th>area error</th>\n",
              "      <th>smoothness error</th>\n",
              "      <th>compactness error</th>\n",
              "      <th>concavity error</th>\n",
              "      <th>concave points error</th>\n",
              "      <th>symmetry error</th>\n",
              "      <th>fractal dimension error</th>\n",
              "      <th>worst radius</th>\n",
              "      <th>worst texture</th>\n",
              "      <th>worst perimeter</th>\n",
              "      <th>worst area</th>\n",
              "      <th>worst smoothness</th>\n",
              "      <th>worst compactness</th>\n",
              "      <th>worst concavity</th>\n",
              "      <th>worst concave points</th>\n",
              "      <th>worst symmetry</th>\n",
              "      <th>worst fractal dimension</th>\n",
              "    </tr>\n",
              "  </thead>\n",
              "  <tbody>\n",
              "    <tr>\n",
              "      <th>0</th>\n",
              "      <td>17.99</td>\n",
              "      <td>10.38</td>\n",
              "      <td>122.80</td>\n",
              "      <td>1001.0</td>\n",
              "      <td>0.11840</td>\n",
              "      <td>0.27760</td>\n",
              "      <td>0.30010</td>\n",
              "      <td>0.14710</td>\n",
              "      <td>0.2419</td>\n",
              "      <td>0.07871</td>\n",
              "      <td>1.0950</td>\n",
              "      <td>0.9053</td>\n",
              "      <td>8.589</td>\n",
              "      <td>153.40</td>\n",
              "      <td>0.006399</td>\n",
              "      <td>0.04904</td>\n",
              "      <td>0.05373</td>\n",
              "      <td>0.01587</td>\n",
              "      <td>0.03003</td>\n",
              "      <td>0.006193</td>\n",
              "      <td>25.380</td>\n",
              "      <td>17.33</td>\n",
              "      <td>184.60</td>\n",
              "      <td>2019.0</td>\n",
              "      <td>0.16220</td>\n",
              "      <td>0.66560</td>\n",
              "      <td>0.7119</td>\n",
              "      <td>0.2654</td>\n",
              "      <td>0.4601</td>\n",
              "      <td>0.11890</td>\n",
              "    </tr>\n",
              "    <tr>\n",
              "      <th>1</th>\n",
              "      <td>20.57</td>\n",
              "      <td>17.77</td>\n",
              "      <td>132.90</td>\n",
              "      <td>1326.0</td>\n",
              "      <td>0.08474</td>\n",
              "      <td>0.07864</td>\n",
              "      <td>0.08690</td>\n",
              "      <td>0.07017</td>\n",
              "      <td>0.1812</td>\n",
              "      <td>0.05667</td>\n",
              "      <td>0.5435</td>\n",
              "      <td>0.7339</td>\n",
              "      <td>3.398</td>\n",
              "      <td>74.08</td>\n",
              "      <td>0.005225</td>\n",
              "      <td>0.01308</td>\n",
              "      <td>0.01860</td>\n",
              "      <td>0.01340</td>\n",
              "      <td>0.01389</td>\n",
              "      <td>0.003532</td>\n",
              "      <td>24.990</td>\n",
              "      <td>23.41</td>\n",
              "      <td>158.80</td>\n",
              "      <td>1956.0</td>\n",
              "      <td>0.12380</td>\n",
              "      <td>0.18660</td>\n",
              "      <td>0.2416</td>\n",
              "      <td>0.1860</td>\n",
              "      <td>0.2750</td>\n",
              "      <td>0.08902</td>\n",
              "    </tr>\n",
              "    <tr>\n",
              "      <th>2</th>\n",
              "      <td>19.69</td>\n",
              "      <td>21.25</td>\n",
              "      <td>130.00</td>\n",
              "      <td>1203.0</td>\n",
              "      <td>0.10960</td>\n",
              "      <td>0.15990</td>\n",
              "      <td>0.19740</td>\n",
              "      <td>0.12790</td>\n",
              "      <td>0.2069</td>\n",
              "      <td>0.05999</td>\n",
              "      <td>0.7456</td>\n",
              "      <td>0.7869</td>\n",
              "      <td>4.585</td>\n",
              "      <td>94.03</td>\n",
              "      <td>0.006150</td>\n",
              "      <td>0.04006</td>\n",
              "      <td>0.03832</td>\n",
              "      <td>0.02058</td>\n",
              "      <td>0.02250</td>\n",
              "      <td>0.004571</td>\n",
              "      <td>23.570</td>\n",
              "      <td>25.53</td>\n",
              "      <td>152.50</td>\n",
              "      <td>1709.0</td>\n",
              "      <td>0.14440</td>\n",
              "      <td>0.42450</td>\n",
              "      <td>0.4504</td>\n",
              "      <td>0.2430</td>\n",
              "      <td>0.3613</td>\n",
              "      <td>0.08758</td>\n",
              "    </tr>\n",
              "    <tr>\n",
              "      <th>3</th>\n",
              "      <td>11.42</td>\n",
              "      <td>20.38</td>\n",
              "      <td>77.58</td>\n",
              "      <td>386.1</td>\n",
              "      <td>0.14250</td>\n",
              "      <td>0.28390</td>\n",
              "      <td>0.24140</td>\n",
              "      <td>0.10520</td>\n",
              "      <td>0.2597</td>\n",
              "      <td>0.09744</td>\n",
              "      <td>0.4956</td>\n",
              "      <td>1.1560</td>\n",
              "      <td>3.445</td>\n",
              "      <td>27.23</td>\n",
              "      <td>0.009110</td>\n",
              "      <td>0.07458</td>\n",
              "      <td>0.05661</td>\n",
              "      <td>0.01867</td>\n",
              "      <td>0.05963</td>\n",
              "      <td>0.009208</td>\n",
              "      <td>14.910</td>\n",
              "      <td>26.50</td>\n",
              "      <td>98.87</td>\n",
              "      <td>567.7</td>\n",
              "      <td>0.20980</td>\n",
              "      <td>0.86630</td>\n",
              "      <td>0.6869</td>\n",
              "      <td>0.2575</td>\n",
              "      <td>0.6638</td>\n",
              "      <td>0.17300</td>\n",
              "    </tr>\n",
              "    <tr>\n",
              "      <th>4</th>\n",
              "      <td>20.29</td>\n",
              "      <td>14.34</td>\n",
              "      <td>135.10</td>\n",
              "      <td>1297.0</td>\n",
              "      <td>0.10030</td>\n",
              "      <td>0.13280</td>\n",
              "      <td>0.19800</td>\n",
              "      <td>0.10430</td>\n",
              "      <td>0.1809</td>\n",
              "      <td>0.05883</td>\n",
              "      <td>0.7572</td>\n",
              "      <td>0.7813</td>\n",
              "      <td>5.438</td>\n",
              "      <td>94.44</td>\n",
              "      <td>0.011490</td>\n",
              "      <td>0.02461</td>\n",
              "      <td>0.05688</td>\n",
              "      <td>0.01885</td>\n",
              "      <td>0.01756</td>\n",
              "      <td>0.005115</td>\n",
              "      <td>22.540</td>\n",
              "      <td>16.67</td>\n",
              "      <td>152.20</td>\n",
              "      <td>1575.0</td>\n",
              "      <td>0.13740</td>\n",
              "      <td>0.20500</td>\n",
              "      <td>0.4000</td>\n",
              "      <td>0.1625</td>\n",
              "      <td>0.2364</td>\n",
              "      <td>0.07678</td>\n",
              "    </tr>\n",
              "    <tr>\n",
              "      <th>...</th>\n",
              "      <td>...</td>\n",
              "      <td>...</td>\n",
              "      <td>...</td>\n",
              "      <td>...</td>\n",
              "      <td>...</td>\n",
              "      <td>...</td>\n",
              "      <td>...</td>\n",
              "      <td>...</td>\n",
              "      <td>...</td>\n",
              "      <td>...</td>\n",
              "      <td>...</td>\n",
              "      <td>...</td>\n",
              "      <td>...</td>\n",
              "      <td>...</td>\n",
              "      <td>...</td>\n",
              "      <td>...</td>\n",
              "      <td>...</td>\n",
              "      <td>...</td>\n",
              "      <td>...</td>\n",
              "      <td>...</td>\n",
              "      <td>...</td>\n",
              "      <td>...</td>\n",
              "      <td>...</td>\n",
              "      <td>...</td>\n",
              "      <td>...</td>\n",
              "      <td>...</td>\n",
              "      <td>...</td>\n",
              "      <td>...</td>\n",
              "      <td>...</td>\n",
              "      <td>...</td>\n",
              "    </tr>\n",
              "    <tr>\n",
              "      <th>564</th>\n",
              "      <td>21.56</td>\n",
              "      <td>22.39</td>\n",
              "      <td>142.00</td>\n",
              "      <td>1479.0</td>\n",
              "      <td>0.11100</td>\n",
              "      <td>0.11590</td>\n",
              "      <td>0.24390</td>\n",
              "      <td>0.13890</td>\n",
              "      <td>0.1726</td>\n",
              "      <td>0.05623</td>\n",
              "      <td>1.1760</td>\n",
              "      <td>1.2560</td>\n",
              "      <td>7.673</td>\n",
              "      <td>158.70</td>\n",
              "      <td>0.010300</td>\n",
              "      <td>0.02891</td>\n",
              "      <td>0.05198</td>\n",
              "      <td>0.02454</td>\n",
              "      <td>0.01114</td>\n",
              "      <td>0.004239</td>\n",
              "      <td>25.450</td>\n",
              "      <td>26.40</td>\n",
              "      <td>166.10</td>\n",
              "      <td>2027.0</td>\n",
              "      <td>0.14100</td>\n",
              "      <td>0.21130</td>\n",
              "      <td>0.4107</td>\n",
              "      <td>0.2216</td>\n",
              "      <td>0.2060</td>\n",
              "      <td>0.07115</td>\n",
              "    </tr>\n",
              "    <tr>\n",
              "      <th>565</th>\n",
              "      <td>20.13</td>\n",
              "      <td>28.25</td>\n",
              "      <td>131.20</td>\n",
              "      <td>1261.0</td>\n",
              "      <td>0.09780</td>\n",
              "      <td>0.10340</td>\n",
              "      <td>0.14400</td>\n",
              "      <td>0.09791</td>\n",
              "      <td>0.1752</td>\n",
              "      <td>0.05533</td>\n",
              "      <td>0.7655</td>\n",
              "      <td>2.4630</td>\n",
              "      <td>5.203</td>\n",
              "      <td>99.04</td>\n",
              "      <td>0.005769</td>\n",
              "      <td>0.02423</td>\n",
              "      <td>0.03950</td>\n",
              "      <td>0.01678</td>\n",
              "      <td>0.01898</td>\n",
              "      <td>0.002498</td>\n",
              "      <td>23.690</td>\n",
              "      <td>38.25</td>\n",
              "      <td>155.00</td>\n",
              "      <td>1731.0</td>\n",
              "      <td>0.11660</td>\n",
              "      <td>0.19220</td>\n",
              "      <td>0.3215</td>\n",
              "      <td>0.1628</td>\n",
              "      <td>0.2572</td>\n",
              "      <td>0.06637</td>\n",
              "    </tr>\n",
              "    <tr>\n",
              "      <th>566</th>\n",
              "      <td>16.60</td>\n",
              "      <td>28.08</td>\n",
              "      <td>108.30</td>\n",
              "      <td>858.1</td>\n",
              "      <td>0.08455</td>\n",
              "      <td>0.10230</td>\n",
              "      <td>0.09251</td>\n",
              "      <td>0.05302</td>\n",
              "      <td>0.1590</td>\n",
              "      <td>0.05648</td>\n",
              "      <td>0.4564</td>\n",
              "      <td>1.0750</td>\n",
              "      <td>3.425</td>\n",
              "      <td>48.55</td>\n",
              "      <td>0.005903</td>\n",
              "      <td>0.03731</td>\n",
              "      <td>0.04730</td>\n",
              "      <td>0.01557</td>\n",
              "      <td>0.01318</td>\n",
              "      <td>0.003892</td>\n",
              "      <td>18.980</td>\n",
              "      <td>34.12</td>\n",
              "      <td>126.70</td>\n",
              "      <td>1124.0</td>\n",
              "      <td>0.11390</td>\n",
              "      <td>0.30940</td>\n",
              "      <td>0.3403</td>\n",
              "      <td>0.1418</td>\n",
              "      <td>0.2218</td>\n",
              "      <td>0.07820</td>\n",
              "    </tr>\n",
              "    <tr>\n",
              "      <th>567</th>\n",
              "      <td>20.60</td>\n",
              "      <td>29.33</td>\n",
              "      <td>140.10</td>\n",
              "      <td>1265.0</td>\n",
              "      <td>0.11780</td>\n",
              "      <td>0.27700</td>\n",
              "      <td>0.35140</td>\n",
              "      <td>0.15200</td>\n",
              "      <td>0.2397</td>\n",
              "      <td>0.07016</td>\n",
              "      <td>0.7260</td>\n",
              "      <td>1.5950</td>\n",
              "      <td>5.772</td>\n",
              "      <td>86.22</td>\n",
              "      <td>0.006522</td>\n",
              "      <td>0.06158</td>\n",
              "      <td>0.07117</td>\n",
              "      <td>0.01664</td>\n",
              "      <td>0.02324</td>\n",
              "      <td>0.006185</td>\n",
              "      <td>25.740</td>\n",
              "      <td>39.42</td>\n",
              "      <td>184.60</td>\n",
              "      <td>1821.0</td>\n",
              "      <td>0.16500</td>\n",
              "      <td>0.86810</td>\n",
              "      <td>0.9387</td>\n",
              "      <td>0.2650</td>\n",
              "      <td>0.4087</td>\n",
              "      <td>0.12400</td>\n",
              "    </tr>\n",
              "    <tr>\n",
              "      <th>568</th>\n",
              "      <td>7.76</td>\n",
              "      <td>24.54</td>\n",
              "      <td>47.92</td>\n",
              "      <td>181.0</td>\n",
              "      <td>0.05263</td>\n",
              "      <td>0.04362</td>\n",
              "      <td>0.00000</td>\n",
              "      <td>0.00000</td>\n",
              "      <td>0.1587</td>\n",
              "      <td>0.05884</td>\n",
              "      <td>0.3857</td>\n",
              "      <td>1.4280</td>\n",
              "      <td>2.548</td>\n",
              "      <td>19.15</td>\n",
              "      <td>0.007189</td>\n",
              "      <td>0.00466</td>\n",
              "      <td>0.00000</td>\n",
              "      <td>0.00000</td>\n",
              "      <td>0.02676</td>\n",
              "      <td>0.002783</td>\n",
              "      <td>9.456</td>\n",
              "      <td>30.37</td>\n",
              "      <td>59.16</td>\n",
              "      <td>268.6</td>\n",
              "      <td>0.08996</td>\n",
              "      <td>0.06444</td>\n",
              "      <td>0.0000</td>\n",
              "      <td>0.0000</td>\n",
              "      <td>0.2871</td>\n",
              "      <td>0.07039</td>\n",
              "    </tr>\n",
              "  </tbody>\n",
              "</table>\n",
              "<p>569 rows × 30 columns</p>\n",
              "</div>"
            ],
            "text/plain": [
              "     mean radius  mean texture  ...  worst symmetry  worst fractal dimension\n",
              "0          17.99         10.38  ...          0.4601                  0.11890\n",
              "1          20.57         17.77  ...          0.2750                  0.08902\n",
              "2          19.69         21.25  ...          0.3613                  0.08758\n",
              "3          11.42         20.38  ...          0.6638                  0.17300\n",
              "4          20.29         14.34  ...          0.2364                  0.07678\n",
              "..           ...           ...  ...             ...                      ...\n",
              "564        21.56         22.39  ...          0.2060                  0.07115\n",
              "565        20.13         28.25  ...          0.2572                  0.06637\n",
              "566        16.60         28.08  ...          0.2218                  0.07820\n",
              "567        20.60         29.33  ...          0.4087                  0.12400\n",
              "568         7.76         24.54  ...          0.2871                  0.07039\n",
              "\n",
              "[569 rows x 30 columns]"
            ]
          },
          "metadata": {
            "tags": []
          },
          "execution_count": 1163
        }
      ]
    },
    {
      "cell_type": "code",
      "metadata": {
        "id": "MuWuMUz5EAYE"
      },
      "source": [
        "x=data_c.data\n",
        "y=data_c.target"
      ],
      "execution_count": 1164,
      "outputs": []
    },
    {
      "cell_type": "code",
      "metadata": {
        "id": "5p9soTwyeyXv"
      },
      "source": [
        "from sklearn.model_selection import train_test_split"
      ],
      "execution_count": 1165,
      "outputs": []
    },
    {
      "cell_type": "code",
      "metadata": {
        "id": "w2wX0mL7enPz"
      },
      "source": [
        "x_lr_train, x_lr_test, y_lr_train, y_lr_test = train_test_split(x,y,test_size=0.3, train_size=0.7, random_state=88)"
      ],
      "execution_count": 1166,
      "outputs": []
    },
    {
      "cell_type": "code",
      "metadata": {
        "id": "viiEaMiKfqmF"
      },
      "source": [
        "from sklearn.linear_model import LogisticRegression"
      ],
      "execution_count": 1167,
      "outputs": []
    },
    {
      "cell_type": "code",
      "metadata": {
        "id": "_VWhLk71f461"
      },
      "source": [
        "lr=LogisticRegression()"
      ],
      "execution_count": 1168,
      "outputs": []
    },
    {
      "cell_type": "code",
      "metadata": {
        "colab": {
          "base_uri": "https://localhost:8080/"
        },
        "id": "RSq3URh2f-lU",
        "outputId": "e14fb85d-c5f5-47c9-fe46-e40857b42e2f"
      },
      "source": [
        "lr.fit(x_lr_train, y_lr_train)"
      ],
      "execution_count": 1169,
      "outputs": [
        {
          "output_type": "stream",
          "text": [
            "/usr/local/lib/python3.7/dist-packages/sklearn/linear_model/_logistic.py:940: ConvergenceWarning: lbfgs failed to converge (status=1):\n",
            "STOP: TOTAL NO. of ITERATIONS REACHED LIMIT.\n",
            "\n",
            "Increase the number of iterations (max_iter) or scale the data as shown in:\n",
            "    https://scikit-learn.org/stable/modules/preprocessing.html\n",
            "Please also refer to the documentation for alternative solver options:\n",
            "    https://scikit-learn.org/stable/modules/linear_model.html#logistic-regression\n",
            "  extra_warning_msg=_LOGISTIC_SOLVER_CONVERGENCE_MSG)\n"
          ],
          "name": "stderr"
        },
        {
          "output_type": "execute_result",
          "data": {
            "text/plain": [
              "LogisticRegression(C=1.0, class_weight=None, dual=False, fit_intercept=True,\n",
              "                   intercept_scaling=1, l1_ratio=None, max_iter=100,\n",
              "                   multi_class='auto', n_jobs=None, penalty='l2',\n",
              "                   random_state=None, solver='lbfgs', tol=0.0001, verbose=0,\n",
              "                   warm_start=False)"
            ]
          },
          "metadata": {
            "tags": []
          },
          "execution_count": 1169
        }
      ]
    },
    {
      "cell_type": "code",
      "metadata": {
        "id": "WcxJxT4WgGpc"
      },
      "source": [
        "predicted_values_lr=lr.predict(x_lr_test)"
      ],
      "execution_count": 1170,
      "outputs": []
    },
    {
      "cell_type": "code",
      "metadata": {
        "colab": {
          "base_uri": "https://localhost:8080/"
        },
        "id": "vFRG1Hq0gXZo",
        "outputId": "e23d57b7-9b17-40ea-cf22-a3e1f2f8a13a"
      },
      "source": [
        "predicted_values_lr"
      ],
      "execution_count": 1171,
      "outputs": [
        {
          "output_type": "execute_result",
          "data": {
            "text/plain": [
              "array([1, 0, 1, 0, 1, 1, 1, 1, 0, 0, 1, 1, 0, 0, 0, 0, 0, 1, 1, 1, 1, 0,\n",
              "       0, 1, 1, 1, 1, 1, 1, 1, 0, 0, 1, 1, 1, 1, 1, 1, 1, 1, 0, 1, 0, 1,\n",
              "       0, 1, 1, 1, 0, 1, 1, 0, 1, 1, 1, 1, 0, 1, 1, 1, 1, 0, 1, 1, 0, 0,\n",
              "       1, 1, 1, 0, 1, 0, 1, 1, 1, 1, 1, 1, 1, 1, 0, 1, 1, 0, 1, 0, 1, 1,\n",
              "       1, 0, 1, 1, 1, 0, 0, 1, 0, 0, 1, 1, 1, 1, 0, 1, 0, 1, 1, 0, 0, 1,\n",
              "       1, 0, 1, 0, 1, 1, 1, 1, 1, 1, 1, 1, 0, 0, 1, 1, 1, 1, 1, 0, 1, 0,\n",
              "       0, 0, 1, 0, 0, 1, 1, 1, 1, 1, 1, 1, 0, 1, 1, 1, 0, 0, 1, 0, 0, 1,\n",
              "       1, 1, 0, 1, 1, 0, 1, 1, 0, 0, 1, 1, 0, 1, 0, 0, 1])"
            ]
          },
          "metadata": {
            "tags": []
          },
          "execution_count": 1171
        }
      ]
    },
    {
      "cell_type": "code",
      "metadata": {
        "colab": {
          "base_uri": "https://localhost:8080/"
        },
        "id": "OO6vjkTigZqC",
        "outputId": "37777b74-929d-4c60-ceea-b23ba5c6cf50"
      },
      "source": [
        "y_lr_test"
      ],
      "execution_count": 1172,
      "outputs": [
        {
          "output_type": "execute_result",
          "data": {
            "text/plain": [
              "array([1, 0, 1, 0, 1, 1, 0, 1, 0, 0, 1, 1, 0, 0, 0, 0, 0, 1, 1, 1, 1, 0,\n",
              "       1, 1, 1, 1, 1, 1, 1, 0, 0, 0, 1, 1, 0, 1, 1, 1, 1, 1, 0, 1, 0, 1,\n",
              "       1, 1, 1, 1, 0, 1, 1, 0, 1, 1, 1, 1, 0, 1, 1, 1, 1, 0, 1, 1, 0, 0,\n",
              "       1, 1, 1, 1, 1, 0, 1, 1, 0, 1, 1, 1, 1, 1, 0, 1, 1, 0, 1, 0, 1, 1,\n",
              "       1, 0, 1, 1, 1, 0, 0, 1, 0, 0, 1, 1, 1, 1, 0, 1, 0, 1, 1, 0, 0, 1,\n",
              "       1, 0, 1, 0, 1, 1, 1, 1, 1, 1, 1, 1, 0, 0, 1, 1, 1, 1, 1, 0, 1, 0,\n",
              "       0, 0, 1, 0, 0, 1, 1, 1, 1, 1, 1, 1, 1, 1, 1, 1, 0, 0, 1, 0, 0, 1,\n",
              "       1, 1, 0, 1, 1, 0, 1, 1, 0, 0, 1, 1, 0, 1, 1, 0, 1])"
            ]
          },
          "metadata": {
            "tags": []
          },
          "execution_count": 1172
        }
      ]
    },
    {
      "cell_type": "code",
      "metadata": {
        "colab": {
          "base_uri": "https://localhost:8080/"
        },
        "id": "X9f6rp42gegT",
        "outputId": "c5965df1-a315-4b59-94f2-c123ef5d94cb"
      },
      "source": [
        "accuracy_score(y_lr_test,predicted_values_lr)"
      ],
      "execution_count": 1173,
      "outputs": [
        {
          "output_type": "execute_result",
          "data": {
            "text/plain": [
              "0.9473684210526315"
            ]
          },
          "metadata": {
            "tags": []
          },
          "execution_count": 1173
        }
      ]
    },
    {
      "cell_type": "markdown",
      "metadata": {
        "id": "V7sp6xBlWPHH"
      },
      "source": [
        "### **Decision tree CROSS VALIDATION**"
      ]
    },
    {
      "cell_type": "markdown",
      "metadata": {
        "id": "usmR6Dkml-Np"
      },
      "source": [
        "**Step1  -  Import the cross validation module from sklearn**"
      ]
    },
    {
      "cell_type": "code",
      "metadata": {
        "id": "TchHvbFMV4hW"
      },
      "source": [
        "from sklearn.model_selection import cross_val_score"
      ],
      "execution_count": 1174,
      "outputs": []
    },
    {
      "cell_type": "markdown",
      "metadata": {
        "id": "i9p39rvfmIXK"
      },
      "source": [
        "**Step 2 - import the dataset**"
      ]
    },
    {
      "cell_type": "code",
      "metadata": {
        "id": "6x19pkAamHHv"
      },
      "source": [
        "score_dt= cross_val_score(des_tree,x,y,cv = 10) #name of model, x and y as features and label, no of folds as CV"
      ],
      "execution_count": 1175,
      "outputs": []
    },
    {
      "cell_type": "code",
      "metadata": {
        "id": "1zttn9mymh97",
        "colab": {
          "base_uri": "https://localhost:8080/"
        },
        "outputId": "6f440117-4b59-46b6-a88f-b969c177ec79"
      },
      "source": [
        "score_dt"
      ],
      "execution_count": 1176,
      "outputs": [
        {
          "output_type": "execute_result",
          "data": {
            "text/plain": [
              "array([0.94736842, 0.89473684, 0.92982456, 0.87719298, 0.94736842,\n",
              "       0.89473684, 0.89473684, 0.94736842, 0.92982456, 0.91071429])"
            ]
          },
          "metadata": {
            "tags": []
          },
          "execution_count": 1176
        }
      ]
    },
    {
      "cell_type": "markdown",
      "metadata": {
        "id": "1jHVhJ43iWxK"
      },
      "source": [
        "### **Classification - Evaluation Metrics**"
      ]
    },
    {
      "cell_type": "markdown",
      "metadata": {
        "id": "uVjUwHZNsA1l"
      },
      "source": [
        "### **Confusion Matrix**"
      ]
    },
    {
      "cell_type": "code",
      "metadata": {
        "id": "fDr7mDJVibid"
      },
      "source": [
        "from sklearn.metrics import confusion_matrix, classification_report"
      ],
      "execution_count": 1177,
      "outputs": []
    },
    {
      "cell_type": "code",
      "metadata": {
        "id": "xABn2ZpesKTL"
      },
      "source": [
        "conf_mat=confusion_matrix(y_lr_test,predicted_values_lr) #(y_true, y_pred)\n",
        "class_rep=classification_report(y_lr_test, predicted_values_lr)"
      ],
      "execution_count": 1178,
      "outputs": []
    },
    {
      "cell_type": "code",
      "metadata": {
        "colab": {
          "base_uri": "https://localhost:8080/"
        },
        "id": "toNgIDe5tX2a",
        "outputId": "fd468e46-28c6-40ac-f7f2-2b787d2131f9"
      },
      "source": [
        "conf_mat"
      ],
      "execution_count": 1179,
      "outputs": [
        {
          "output_type": "execute_result",
          "data": {
            "text/plain": [
              "array([[ 53,   4],\n",
              "       [  5, 109]])"
            ]
          },
          "metadata": {
            "tags": []
          },
          "execution_count": 1179
        }
      ]
    },
    {
      "cell_type": "code",
      "metadata": {
        "colab": {
          "base_uri": "https://localhost:8080/",
          "height": 0
        },
        "id": "yyPB7cjNtcx3",
        "outputId": "5e60cde8-4905-4ba9-fe33-1dac0c2591b2"
      },
      "source": [
        "class_rep"
      ],
      "execution_count": 1180,
      "outputs": [
        {
          "output_type": "execute_result",
          "data": {
            "application/vnd.google.colaboratory.intrinsic+json": {
              "type": "string"
            },
            "text/plain": [
              "'              precision    recall  f1-score   support\\n\\n           0       0.91      0.93      0.92        57\\n           1       0.96      0.96      0.96       114\\n\\n    accuracy                           0.95       171\\n   macro avg       0.94      0.94      0.94       171\\nweighted avg       0.95      0.95      0.95       171\\n'"
            ]
          },
          "metadata": {
            "tags": []
          },
          "execution_count": 1180
        }
      ]
    },
    {
      "cell_type": "code",
      "metadata": {
        "id": "4x9n0pfBtgt_"
      },
      "source": [
        "from sklearn.metrics import roc_curve"
      ],
      "execution_count": 1181,
      "outputs": []
    },
    {
      "cell_type": "code",
      "metadata": {
        "id": "6rOd-BZOt1t8"
      },
      "source": [
        "y_lr_prob=lr.predict_proba(x_lr_test)"
      ],
      "execution_count": 1182,
      "outputs": []
    },
    {
      "cell_type": "code",
      "metadata": {
        "colab": {
          "base_uri": "https://localhost:8080/"
        },
        "id": "8dLJC1aWuMBv",
        "outputId": "0d7e79de-3ed5-4fb7-c46e-5170e4ba22ad"
      },
      "source": [
        "y_lr_prob"
      ],
      "execution_count": 1183,
      "outputs": [
        {
          "output_type": "execute_result",
          "data": {
            "text/plain": [
              "array([[3.86996119e-04, 9.99613004e-01],\n",
              "       [9.99999991e-01, 8.63786983e-09],\n",
              "       [1.70434410e-03, 9.98295656e-01],\n",
              "       [1.00000000e+00, 4.21499992e-11],\n",
              "       [1.25649197e-03, 9.98743508e-01],\n",
              "       [5.17992742e-03, 9.94820073e-01],\n",
              "       [3.72327162e-01, 6.27672838e-01],\n",
              "       [4.64315921e-03, 9.95356841e-01],\n",
              "       [9.99999999e-01, 1.26126771e-09],\n",
              "       [9.99999759e-01, 2.41375974e-07],\n",
              "       [3.22136026e-03, 9.96778640e-01],\n",
              "       [5.71783774e-02, 9.42821623e-01],\n",
              "       [1.00000000e+00, 2.35410863e-11],\n",
              "       [9.99999760e-01, 2.39991679e-07],\n",
              "       [9.99925119e-01, 7.48813298e-05],\n",
              "       [9.99869900e-01, 1.30099667e-04],\n",
              "       [9.87678347e-01, 1.23216532e-02],\n",
              "       [1.11923874e-03, 9.98880761e-01],\n",
              "       [1.06202473e-03, 9.98937975e-01],\n",
              "       [1.70557003e-04, 9.99829443e-01],\n",
              "       [3.94875710e-04, 9.99605124e-01],\n",
              "       [9.99467019e-01, 5.32981261e-04],\n",
              "       [9.09748166e-01, 9.02518338e-02],\n",
              "       [4.35946152e-02, 9.56405385e-01],\n",
              "       [3.01425583e-02, 9.69857442e-01],\n",
              "       [2.08451085e-03, 9.97915489e-01],\n",
              "       [8.94708440e-05, 9.99910529e-01],\n",
              "       [1.13665348e-03, 9.98863347e-01],\n",
              "       [8.38896207e-04, 9.99161104e-01],\n",
              "       [2.67145738e-02, 9.73285426e-01],\n",
              "       [9.99997237e-01, 2.76265683e-06],\n",
              "       [1.00000000e+00, 3.28093563e-24],\n",
              "       [3.00793412e-01, 6.99206588e-01],\n",
              "       [1.79411972e-03, 9.98205880e-01],\n",
              "       [1.64887565e-01, 8.35112435e-01],\n",
              "       [6.96597079e-03, 9.93034029e-01],\n",
              "       [4.31022431e-02, 9.56897757e-01],\n",
              "       [1.96825964e-03, 9.98031740e-01],\n",
              "       [3.11256068e-03, 9.96887439e-01],\n",
              "       [1.78763965e-04, 9.99821236e-01],\n",
              "       [9.99999994e-01, 5.55511375e-09],\n",
              "       [1.56678673e-01, 8.43321327e-01],\n",
              "       [1.00000000e+00, 9.32013736e-16],\n",
              "       [4.33363493e-02, 9.56663651e-01],\n",
              "       [9.62904729e-01, 3.70952712e-02],\n",
              "       [3.87562760e-01, 6.12437240e-01],\n",
              "       [1.64272612e-03, 9.98357274e-01],\n",
              "       [7.96847259e-02, 9.20315274e-01],\n",
              "       [9.98119304e-01, 1.88069617e-03],\n",
              "       [9.15695043e-04, 9.99084305e-01],\n",
              "       [2.02700537e-03, 9.97972995e-01],\n",
              "       [8.85709085e-01, 1.14290915e-01],\n",
              "       [3.64404076e-03, 9.96355959e-01],\n",
              "       [2.65186431e-01, 7.34813569e-01],\n",
              "       [1.29502383e-02, 9.87049762e-01],\n",
              "       [1.68949283e-04, 9.99831051e-01],\n",
              "       [9.99960191e-01, 3.98092562e-05],\n",
              "       [2.51020911e-03, 9.97489791e-01],\n",
              "       [1.01903504e-03, 9.98980965e-01],\n",
              "       [3.69410321e-03, 9.96305897e-01],\n",
              "       [1.13261266e-02, 9.88673873e-01],\n",
              "       [9.69590208e-01, 3.04097918e-02],\n",
              "       [5.65381478e-04, 9.99434619e-01],\n",
              "       [3.59887641e-02, 9.64011236e-01],\n",
              "       [9.99991582e-01, 8.41765348e-06],\n",
              "       [9.99999988e-01, 1.16490201e-08],\n",
              "       [2.91192588e-01, 7.08807412e-01],\n",
              "       [2.56717855e-02, 9.74328215e-01],\n",
              "       [1.44414365e-03, 9.98555856e-01],\n",
              "       [9.93433654e-01, 6.56634563e-03],\n",
              "       [1.61203462e-04, 9.99838797e-01],\n",
              "       [1.00000000e+00, 2.62840538e-11],\n",
              "       [3.98754327e-03, 9.96012457e-01],\n",
              "       [8.01287492e-03, 9.91987125e-01],\n",
              "       [1.10427901e-01, 8.89572099e-01],\n",
              "       [1.56701717e-03, 9.98432983e-01],\n",
              "       [4.27474866e-03, 9.95725251e-01],\n",
              "       [2.59522666e-02, 9.74047733e-01],\n",
              "       [1.05771862e-03, 9.98942281e-01],\n",
              "       [2.34715251e-04, 9.99765285e-01],\n",
              "       [9.99999966e-01, 3.41897796e-08],\n",
              "       [2.44075468e-03, 9.97559245e-01],\n",
              "       [4.64534550e-02, 9.53546545e-01],\n",
              "       [9.99990846e-01, 9.15370127e-06],\n",
              "       [1.17635762e-03, 9.98823642e-01],\n",
              "       [9.99997813e-01, 2.18677700e-06],\n",
              "       [6.39389675e-02, 9.36061033e-01],\n",
              "       [5.84407978e-04, 9.99415592e-01],\n",
              "       [2.15036912e-02, 9.78496309e-01],\n",
              "       [9.99897348e-01, 1.02651584e-04],\n",
              "       [9.90440771e-03, 9.90095592e-01],\n",
              "       [9.68728731e-03, 9.90312713e-01],\n",
              "       [1.81136096e-02, 9.81886390e-01],\n",
              "       [9.99964135e-01, 3.58648690e-05],\n",
              "       [1.00000000e+00, 1.47022596e-25],\n",
              "       [1.51379678e-01, 8.48620322e-01],\n",
              "       [9.99998841e-01, 1.15852363e-06],\n",
              "       [9.74610454e-01, 2.53895458e-02],\n",
              "       [1.98869992e-02, 9.80113001e-01],\n",
              "       [3.26481468e-02, 9.67351853e-01],\n",
              "       [2.11803609e-02, 9.78819639e-01],\n",
              "       [3.47223507e-02, 9.65277649e-01],\n",
              "       [9.73610110e-01, 2.63898899e-02],\n",
              "       [8.38260612e-04, 9.99161739e-01],\n",
              "       [1.00000000e+00, 8.27183667e-18],\n",
              "       [3.14526013e-01, 6.85473987e-01],\n",
              "       [6.11635274e-03, 9.93883647e-01],\n",
              "       [9.99923050e-01, 7.69495353e-05],\n",
              "       [9.99907476e-01, 9.25238544e-05],\n",
              "       [3.74446705e-01, 6.25553295e-01],\n",
              "       [3.62211809e-03, 9.96377882e-01],\n",
              "       [8.34255808e-01, 1.65744192e-01],\n",
              "       [1.20469089e-01, 8.79530911e-01],\n",
              "       [8.84315715e-01, 1.15684285e-01],\n",
              "       [2.35544776e-02, 9.76445522e-01],\n",
              "       [4.73073887e-02, 9.52692611e-01],\n",
              "       [1.28188484e-01, 8.71811516e-01],\n",
              "       [5.14353054e-02, 9.48564695e-01],\n",
              "       [1.74202659e-03, 9.98257973e-01],\n",
              "       [1.17854273e-02, 9.88214573e-01],\n",
              "       [1.14879284e-03, 9.98851207e-01],\n",
              "       [4.69685450e-02, 9.53031455e-01],\n",
              "       [9.98155206e-01, 1.84479404e-03],\n",
              "       [9.96118366e-01, 3.88163417e-03],\n",
              "       [3.02521555e-04, 9.99697478e-01],\n",
              "       [3.09559234e-02, 9.69044077e-01],\n",
              "       [2.64434260e-03, 9.97355657e-01],\n",
              "       [9.75130355e-03, 9.90248696e-01],\n",
              "       [1.16320067e-02, 9.88367993e-01],\n",
              "       [1.00000000e+00, 7.45704284e-15],\n",
              "       [6.27592299e-03, 9.93724077e-01],\n",
              "       [1.00000000e+00, 2.32140644e-16],\n",
              "       [1.00000000e+00, 2.63796169e-24],\n",
              "       [1.00000000e+00, 1.51109746e-23],\n",
              "       [2.99674079e-02, 9.70032592e-01],\n",
              "       [9.99994525e-01, 5.47534061e-06],\n",
              "       [9.99993192e-01, 6.80824584e-06],\n",
              "       [2.35709407e-01, 7.64290593e-01],\n",
              "       [1.47475230e-01, 8.52524770e-01],\n",
              "       [1.04125540e-03, 9.98958745e-01],\n",
              "       [1.88215147e-04, 9.99811785e-01],\n",
              "       [7.24161424e-03, 9.92758386e-01],\n",
              "       [4.70267982e-02, 9.52973202e-01],\n",
              "       [1.87091038e-04, 9.99812909e-01],\n",
              "       [7.02035578e-01, 2.97964422e-01],\n",
              "       [5.28019560e-04, 9.99471980e-01],\n",
              "       [1.13261150e-02, 9.88673885e-01],\n",
              "       [4.23708977e-02, 9.57629102e-01],\n",
              "       [1.00000000e+00, 1.05525505e-34],\n",
              "       [1.00000000e+00, 3.38377545e-14],\n",
              "       [2.61569018e-02, 9.73843098e-01],\n",
              "       [9.99998461e-01, 1.53887212e-06],\n",
              "       [9.99999998e-01, 1.53369316e-09],\n",
              "       [2.25392831e-04, 9.99774607e-01],\n",
              "       [1.51534667e-01, 8.48465333e-01],\n",
              "       [3.21979322e-01, 6.78020678e-01],\n",
              "       [9.99340629e-01, 6.59370555e-04],\n",
              "       [3.51905829e-01, 6.48094171e-01],\n",
              "       [6.96757589e-03, 9.93032424e-01],\n",
              "       [1.00000000e+00, 8.06044328e-14],\n",
              "       [7.43559280e-02, 9.25644072e-01],\n",
              "       [3.20673571e-02, 9.67932643e-01],\n",
              "       [1.00000000e+00, 1.05189727e-12],\n",
              "       [6.01378152e-01, 3.98621848e-01],\n",
              "       [9.71230724e-03, 9.90287693e-01],\n",
              "       [1.61456404e-03, 9.98385436e-01],\n",
              "       [9.90742670e-01, 9.25733000e-03],\n",
              "       [3.55381940e-03, 9.96446181e-01],\n",
              "       [5.96530635e-01, 4.03469365e-01],\n",
              "       [1.00000000e+00, 3.43097662e-12],\n",
              "       [5.87093770e-02, 9.41290623e-01]])"
            ]
          },
          "metadata": {
            "tags": []
          },
          "execution_count": 1183
        }
      ]
    },
    {
      "cell_type": "code",
      "metadata": {
        "id": "7i0lpWAauOJf"
      },
      "source": [
        "y_lr_prob=y_lr_prob[:,1]"
      ],
      "execution_count": 1184,
      "outputs": []
    },
    {
      "cell_type": "code",
      "metadata": {
        "id": "YhuuHzG4vcWB"
      },
      "source": [
        "FPR, TPR, thresholds,= roc_curve(y_lr_test, y_lr_prob)"
      ],
      "execution_count": 1185,
      "outputs": []
    },
    {
      "cell_type": "code",
      "metadata": {
        "colab": {
          "base_uri": "https://localhost:8080/",
          "height": 0
        },
        "id": "T7pKZjwuvsMA",
        "outputId": "97467924-5aad-473b-b860-ba27dc7eddcd"
      },
      "source": [
        "plt.plot(FPR,TPR)\n",
        "plt.xlabel('FPR')\n",
        "plt.ylabel('TPR')"
      ],
      "execution_count": 1186,
      "outputs": [
        {
          "output_type": "execute_result",
          "data": {
            "text/plain": [
              "Text(0, 0.5, 'TPR')"
            ]
          },
          "metadata": {
            "tags": []
          },
          "execution_count": 1186
        },
        {
          "output_type": "display_data",
          "data": {
            "image/png": "[encoded data removed]",
            "text/plain": [
              "<Figure size 432x288 with 1 Axes>"
            ]
          },
          "metadata": {
            "tags": [],
            "needs_background": "light"
          }
        }
      ]
    },
    {
      "cell_type": "code",
      "metadata": {
        "id": "mAsgmSAdv1ra"
      },
      "source": [
        "from sklearn.metrics import roc_auc_score"
      ],
      "execution_count": 1187,
      "outputs": []
    },
    {
      "cell_type": "code",
      "metadata": {
        "colab": {
          "base_uri": "https://localhost:8080/"
        },
        "id": "s-p7V1qux8M1",
        "outputId": "707f1433-f2d9-4ab3-ec7e-bb55f2c4875a"
      },
      "source": [
        "roc_auc_score(y_lr_test,y_lr_prob)"
      ],
      "execution_count": 1188,
      "outputs": [
        {
          "output_type": "execute_result",
          "data": {
            "text/plain": [
              "0.984610649430594"
            ]
          },
          "metadata": {
            "tags": []
          },
          "execution_count": 1188
        }
      ]
    },
    {
      "cell_type": "markdown",
      "metadata": {
        "id": "3c3iqtWeyqLn"
      },
      "source": [
        "# **Regression**"
      ]
    },
    {
      "cell_type": "markdown",
      "metadata": {
        "id": "VtL58eVpqNfD"
      },
      "source": [
        "## **Preprocessing data**"
      ]
    },
    {
      "cell_type": "markdown",
      "metadata": {
        "id": "9SRy3jb0sDWM"
      },
      "source": [
        "Step1 - Import dataset, numpy, pandas and matplotlib"
      ]
    },
    {
      "cell_type": "code",
      "metadata": {
        "id": "5pTVvrNhyySC"
      },
      "source": [
        "from sklearn.datasets import load_boston\n",
        "import numpy as np\n",
        "import pandas as pd\n",
        "import matplotlib.pyplot as plt"
      ],
      "execution_count": 1189,
      "outputs": []
    },
    {
      "cell_type": "markdown",
      "metadata": {
        "id": "KlS1rtYXsJNV"
      },
      "source": [
        "Step 2- Load dataset"
      ]
    },
    {
      "cell_type": "code",
      "metadata": {
        "colab": {
          "base_uri": "https://localhost:8080/"
        },
        "id": "bu36hvTe3TmD",
        "outputId": "5d7d7134-8b60-4a92-d2a3-3f5994848500"
      },
      "source": [
        "dat_bos=load_boston()\n",
        "dat_bos_viz=pd.DataFrame(dat_bos.data,columns=dat_bos.feature_names)\n",
        "print(dat_bos_viz.head(10))\n",
        "dat_bos_viz.info()"
      ],
      "execution_count": 1190,
      "outputs": [
        {
          "output_type": "stream",
          "text": [
            "      CRIM    ZN  INDUS  CHAS    NOX  ...  RAD    TAX  PTRATIO       B  LSTAT\n",
            "0  0.00632  18.0   2.31   0.0  0.538  ...  1.0  296.0     15.3  396.90   4.98\n",
            "1  0.02731   0.0   7.07   0.0  0.469  ...  2.0  242.0     17.8  396.90   9.14\n",
            "2  0.02729   0.0   7.07   0.0  0.469  ...  2.0  242.0     17.8  392.83   4.03\n",
            "3  0.03237   0.0   2.18   0.0  0.458  ...  3.0  222.0     18.7  394.63   2.94\n",
            "4  0.06905   0.0   2.18   0.0  0.458  ...  3.0  222.0     18.7  396.90   5.33\n",
            "5  0.02985   0.0   2.18   0.0  0.458  ...  3.0  222.0     18.7  394.12   5.21\n",
            "6  0.08829  12.5   7.87   0.0  0.524  ...  5.0  311.0     15.2  395.60  12.43\n",
            "7  0.14455  12.5   7.87   0.0  0.524  ...  5.0  311.0     15.2  396.90  19.15\n",
            "8  0.21124  12.5   7.87   0.0  0.524  ...  5.0  311.0     15.2  386.63  29.93\n",
            "9  0.17004  12.5   7.87   0.0  0.524  ...  5.0  311.0     15.2  386.71  17.10\n",
            "\n",
            "[10 rows x 13 columns]\n",
            "<class 'pandas.core.frame.DataFrame'>\n",
            "RangeIndex: 506 entries, 0 to 505\n",
            "Data columns (total 13 columns):\n",
            " #   Column   Non-Null Count  Dtype  \n",
            "---  ------   --------------  -----  \n",
            " 0   CRIM     506 non-null    float64\n",
            " 1   ZN       506 non-null    float64\n",
            " 2   INDUS    506 non-null    float64\n",
            " 3   CHAS     506 non-null    float64\n",
            " 4   NOX      506 non-null    float64\n",
            " 5   RM       506 non-null    float64\n",
            " 6   AGE      506 non-null    float64\n",
            " 7   DIS      506 non-null    float64\n",
            " 8   RAD      506 non-null    float64\n",
            " 9   TAX      506 non-null    float64\n",
            " 10  PTRATIO  506 non-null    float64\n",
            " 11  B        506 non-null    float64\n",
            " 12  LSTAT    506 non-null    float64\n",
            "dtypes: float64(13)\n",
            "memory usage: 51.5 KB\n"
          ],
          "name": "stdout"
        }
      ]
    },
    {
      "cell_type": "markdown",
      "metadata": {
        "id": "iQlFqpqrsPiH"
      },
      "source": [
        "Step 3- Load dataset data and target values into x and y"
      ]
    },
    {
      "cell_type": "code",
      "metadata": {
        "id": "pXviqLFh3md3"
      },
      "source": [
        "x=dat_bos.data\n",
        "y=dat_bos.target"
      ],
      "execution_count": 1191,
      "outputs": []
    },
    {
      "cell_type": "markdown",
      "metadata": {
        "id": "2LPWs2fTsVHj"
      },
      "source": [
        "Step4- Split dataset into Training and Test data"
      ]
    },
    {
      "cell_type": "code",
      "metadata": {
        "id": "9bsWsh6J4dC0"
      },
      "source": [
        "from sklearn.model_selection import train_test_split"
      ],
      "execution_count": 1192,
      "outputs": []
    },
    {
      "cell_type": "code",
      "metadata": {
        "id": "tvOFeRkY4oeE"
      },
      "source": [
        "x_bos_train, x_bos_test, y_bos_train, y_bos_test = train_test_split(x,y, test_size=0.25, train_size=0.75, random_state=76) "
      ],
      "execution_count": 1193,
      "outputs": []
    },
    {
      "cell_type": "markdown",
      "metadata": {
        "id": "oivt0Vi15DnX"
      },
      "source": [
        "Step 5a -Normalize data for prediction calculation"
      ]
    },
    {
      "cell_type": "code",
      "metadata": {
        "id": "7rbunIx049Bn"
      },
      "source": [
        "from sklearn.preprocessing import MinMaxScaler"
      ],
      "execution_count": 1194,
      "outputs": []
    },
    {
      "cell_type": "code",
      "metadata": {
        "id": "88wpWqMOn4V5"
      },
      "source": [
        "mmsc=MinMaxScaler(feature_range=(0,1))"
      ],
      "execution_count": 1195,
      "outputs": []
    },
    {
      "cell_type": "code",
      "metadata": {
        "id": "xbIU3QgRoNHt"
      },
      "source": [
        "x_bos_train=mmsc.fit_transform(x_bos_train)\n",
        "x_bos_test=mmsc.fit_transform(x_bos_test)"
      ],
      "execution_count": 1196,
      "outputs": []
    },
    {
      "cell_type": "code",
      "metadata": {
        "colab": {
          "base_uri": "https://localhost:8080/"
        },
        "id": "tFzy8MMSohV-",
        "outputId": "58b9f9cd-93b3-42f7-fc94-cef0fb6278a4"
      },
      "source": [
        "x_bos_train"
      ],
      "execution_count": 1197,
      "outputs": [
        {
          "output_type": "execute_result",
          "data": {
            "text/plain": [
              "array([[5.14089134e-01, 0.00000000e+00, 6.46627566e-01, ...,\n",
              "        8.08510638e-01, 2.17429890e-01, 1.00000000e+00],\n",
              "       [2.91478404e-03, 0.00000000e+00, 3.38343109e-01, ...,\n",
              "        7.02127660e-01, 1.00000000e+00, 3.50921986e-01],\n",
              "       [6.77193849e-03, 2.00000000e-01, 1.28665689e-01, ...,\n",
              "        4.25531915e-02, 9.81743496e-01, 9.61702128e-02],\n",
              "       ...,\n",
              "       [5.93926027e-02, 0.00000000e+00, 6.46627566e-01, ...,\n",
              "        8.08510638e-01, 9.53040215e-01, 4.83120567e-01],\n",
              "       [5.81113431e-04, 0.00000000e+00, 4.20454545e-01, ...,\n",
              "        8.93617021e-01, 1.00000000e+00, 1.10921986e-01],\n",
              "       [1.63464848e-02, 0.00000000e+00, 7.00879765e-01, ...,\n",
              "        2.23404255e-01, 9.43024494e-01, 0.00000000e+00]])"
            ]
          },
          "metadata": {
            "tags": []
          },
          "execution_count": 1197
        }
      ]
    },
    {
      "cell_type": "markdown",
      "metadata": {
        "id": "2ZU2M-68o3f2"
      },
      "source": [
        "Step 5b - Reshape y before training"
      ]
    },
    {
      "cell_type": "code",
      "metadata": {
        "id": "Q_jSCr63oqLW"
      },
      "source": [
        "y_bos_train=y_bos_train.reshape(-1,1)"
      ],
      "execution_count": 1198,
      "outputs": []
    },
    {
      "cell_type": "code",
      "metadata": {
        "id": "xZS6gl8UpFDm",
        "colab": {
          "base_uri": "https://localhost:8080/"
        },
        "outputId": "02c4ba7b-4fa1-409f-fb54-a5ecce088a94"
      },
      "source": [
        "y_bos_train=mmsc.fit_transform(y_bos_train)\n",
        "y_bos_train"
      ],
      "execution_count": 1199,
      "outputs": [
        {
          "output_type": "execute_result",
          "data": {
            "text/plain": [
              "array([[0.04444444],\n",
              "       [0.29555556],\n",
              "       [1.        ],\n",
              "       [0.59111111],\n",
              "       [0.01333333],\n",
              "       [0.32888889],\n",
              "       [0.32      ],\n",
              "       [0.51333333],\n",
              "       [0.32      ],\n",
              "       [0.05333333],\n",
              "       [0.62666667],\n",
              "       [0.26888889],\n",
              "       [0.33333333],\n",
              "       [0.55777778],\n",
              "       [0.39111111],\n",
              "       [0.60888889],\n",
              "       [0.41333333],\n",
              "       [0.62222222],\n",
              "       [0.34222222],\n",
              "       [0.65777778],\n",
              "       [0.54222222],\n",
              "       [0.61111111],\n",
              "       [0.30888889],\n",
              "       [0.28888889],\n",
              "       [0.07777778],\n",
              "       [0.        ],\n",
              "       [0.19777778],\n",
              "       [0.27777778],\n",
              "       [0.34      ],\n",
              "       [0.34      ],\n",
              "       [0.22666667],\n",
              "       [0.40444444],\n",
              "       [0.38666667],\n",
              "       [0.20222222],\n",
              "       [0.62444444],\n",
              "       [0.19555556],\n",
              "       [0.41777778],\n",
              "       [0.43111111],\n",
              "       [0.35555556],\n",
              "       [0.29555556],\n",
              "       [0.55111111],\n",
              "       [0.48888889],\n",
              "       [0.55777778],\n",
              "       [1.        ],\n",
              "       [0.61555556],\n",
              "       [0.22666667],\n",
              "       [0.67555556],\n",
              "       [0.20222222],\n",
              "       [0.66444444],\n",
              "       [0.17333333],\n",
              "       [0.12      ],\n",
              "       [0.82888889],\n",
              "       [0.27555556],\n",
              "       [0.18666667],\n",
              "       [0.37555556],\n",
              "       [1.        ],\n",
              "       [0.37555556],\n",
              "       [0.40666667],\n",
              "       [0.18      ],\n",
              "       [1.        ],\n",
              "       [0.88444444],\n",
              "       [0.66888889],\n",
              "       [1.        ],\n",
              "       [0.29777778],\n",
              "       [0.37111111],\n",
              "       [0.48      ],\n",
              "       [0.19555556],\n",
              "       [0.37111111],\n",
              "       [1.        ],\n",
              "       [0.22222222],\n",
              "       [0.05555556],\n",
              "       [0.30444444],\n",
              "       [0.15777778],\n",
              "       [0.30666667],\n",
              "       [0.34222222],\n",
              "       [0.28222222],\n",
              "       [0.29333333],\n",
              "       [0.37777778],\n",
              "       [0.22888889],\n",
              "       [0.04888889],\n",
              "       [0.17777778],\n",
              "       [0.13111111],\n",
              "       [0.28444444],\n",
              "       [0.42      ],\n",
              "       [0.07555556],\n",
              "       [0.42444444],\n",
              "       [0.53555556],\n",
              "       [0.26222222],\n",
              "       [0.41555556],\n",
              "       [0.40222222],\n",
              "       [0.20666667],\n",
              "       [0.14888889],\n",
              "       [0.32444444],\n",
              "       [0.23555556],\n",
              "       [0.12      ],\n",
              "       [0.25111111],\n",
              "       [0.32444444],\n",
              "       [0.20888889],\n",
              "       [0.34666667],\n",
              "       [0.63111111],\n",
              "       [0.36444444],\n",
              "       [0.47555556],\n",
              "       [0.07555556],\n",
              "       [0.29333333],\n",
              "       [0.7       ],\n",
              "       [0.57777778],\n",
              "       [0.44      ],\n",
              "       [0.80666667],\n",
              "       [0.69333333],\n",
              "       [0.11555556],\n",
              "       [0.24666667],\n",
              "       [0.34444444],\n",
              "       [0.14888889],\n",
              "       [0.18222222],\n",
              "       [0.62      ],\n",
              "       [0.36444444],\n",
              "       [0.35555556],\n",
              "       [0.19111111],\n",
              "       [0.60444444],\n",
              "       [0.66      ],\n",
              "       [0.69333333],\n",
              "       [0.38222222],\n",
              "       [0.62444444],\n",
              "       [0.30222222],\n",
              "       [0.22      ],\n",
              "       [0.29333333],\n",
              "       [0.18666667],\n",
              "       [0.33111111],\n",
              "       [0.42444444],\n",
              "       [0.35111111],\n",
              "       [0.18888889],\n",
              "       [0.20888889],\n",
              "       [0.32222222],\n",
              "       [0.34222222],\n",
              "       [0.23555556],\n",
              "       [0.38222222],\n",
              "       [0.37777778],\n",
              "       [0.58222222],\n",
              "       [0.1       ],\n",
              "       [0.39555556],\n",
              "       [0.53333333],\n",
              "       [0.43111111],\n",
              "       [0.33555556],\n",
              "       [0.47555556],\n",
              "       [0.32222222],\n",
              "       [0.11555556],\n",
              "       [0.34666667],\n",
              "       [0.38888889],\n",
              "       [0.92666667],\n",
              "       [0.33333333],\n",
              "       [0.31333333],\n",
              "       [0.54666667],\n",
              "       [0.38666667],\n",
              "       [0.47111111],\n",
              "       [0.18666667],\n",
              "       [1.        ],\n",
              "       [0.52222222],\n",
              "       [0.32      ],\n",
              "       [0.96222222],\n",
              "       [0.43111111],\n",
              "       [0.53333333],\n",
              "       [0.26666667],\n",
              "       [0.38444444],\n",
              "       [0.36444444],\n",
              "       [0.24888889],\n",
              "       [0.41555556],\n",
              "       [0.22444444],\n",
              "       [0.38222222],\n",
              "       [0.50888889],\n",
              "       [0.6       ],\n",
              "       [0.39777778],\n",
              "       [0.31111111],\n",
              "       [0.67555556],\n",
              "       [0.32222222],\n",
              "       [0.34666667],\n",
              "       [0.29777778],\n",
              "       [0.32888889],\n",
              "       [0.44444444],\n",
              "       [0.12222222],\n",
              "       [0.18444444],\n",
              "       [0.23111111],\n",
              "       [0.4       ],\n",
              "       [0.34888889],\n",
              "       [0.13333333],\n",
              "       [0.58888889],\n",
              "       [0.42      ],\n",
              "       [0.54666667],\n",
              "       [0.25333333],\n",
              "       [0.38222222],\n",
              "       [0.42888889],\n",
              "       [0.44      ],\n",
              "       [0.21111111],\n",
              "       [0.11555556],\n",
              "       [0.14      ],\n",
              "       [0.36      ],\n",
              "       [1.        ],\n",
              "       [0.38888889],\n",
              "       [0.96666667],\n",
              "       [0.21111111],\n",
              "       [0.32444444],\n",
              "       [0.52666667],\n",
              "       [0.32      ],\n",
              "       [0.34666667],\n",
              "       [0.23555556],\n",
              "       [0.30444444],\n",
              "       [0.36444444],\n",
              "       [0.33333333],\n",
              "       [0.37111111],\n",
              "       [0.43111111],\n",
              "       [0.57333333],\n",
              "       [0.25555556],\n",
              "       [0.32222222],\n",
              "       [0.72444444],\n",
              "       [0.04444444],\n",
              "       [0.41777778],\n",
              "       [0.66444444],\n",
              "       [0.37777778],\n",
              "       [0.32      ],\n",
              "       [0.27111111],\n",
              "       [0.31333333],\n",
              "       [0.10222222],\n",
              "       [0.59111111],\n",
              "       [0.38      ],\n",
              "       [0.2       ],\n",
              "       [0.37777778],\n",
              "       [0.44444444],\n",
              "       [0.36888889],\n",
              "       [0.24888889],\n",
              "       [0.44      ],\n",
              "       [0.37777778],\n",
              "       [0.43555556],\n",
              "       [0.40444444],\n",
              "       [0.14444444],\n",
              "       [1.        ],\n",
              "       [0.20222222],\n",
              "       [0.21333333],\n",
              "       [0.34      ],\n",
              "       [0.37777778],\n",
              "       [0.37333333],\n",
              "       [0.39111111],\n",
              "       [0.31777778],\n",
              "       [0.18      ],\n",
              "       [0.30888889],\n",
              "       [0.26      ],\n",
              "       [0.69777778],\n",
              "       [0.40222222],\n",
              "       [0.43777778],\n",
              "       [0.21111111],\n",
              "       [0.30888889],\n",
              "       [0.19555556],\n",
              "       [0.81555556],\n",
              "       [0.08222222],\n",
              "       [0.34222222],\n",
              "       [0.57111111],\n",
              "       [0.26222222],\n",
              "       [0.44444444],\n",
              "       [0.33555556],\n",
              "       [0.36      ],\n",
              "       [0.52444444],\n",
              "       [0.53555556],\n",
              "       [0.31777778],\n",
              "       [0.15555556],\n",
              "       [0.50888889],\n",
              "       [0.69111111],\n",
              "       [0.39333333],\n",
              "       [1.        ],\n",
              "       [0.16222222],\n",
              "       [0.31555556],\n",
              "       [0.49111111],\n",
              "       [0.97333333],\n",
              "       [0.42444444],\n",
              "       [0.18888889],\n",
              "       [0.15333333],\n",
              "       [0.6       ],\n",
              "       [0.27555556],\n",
              "       [0.5       ],\n",
              "       [0.31777778],\n",
              "       [0.40222222],\n",
              "       [1.        ],\n",
              "       [0.33111111],\n",
              "       [0.37111111],\n",
              "       [0.36      ],\n",
              "       [0.20666667],\n",
              "       [0.18444444],\n",
              "       [0.68888889],\n",
              "       [0.35111111],\n",
              "       [0.12888889],\n",
              "       [0.64      ],\n",
              "       [0.39555556],\n",
              "       [0.16888889],\n",
              "       [0.44444444],\n",
              "       [0.40666667],\n",
              "       [0.43777778],\n",
              "       [0.18444444],\n",
              "       [0.48      ],\n",
              "       [1.        ],\n",
              "       [0.35111111],\n",
              "       [0.19555556],\n",
              "       [0.55777778],\n",
              "       [0.24666667],\n",
              "       [0.43333333],\n",
              "       [0.22222222],\n",
              "       [0.18      ],\n",
              "       [0.40666667],\n",
              "       [0.39111111],\n",
              "       [0.89777778],\n",
              "       [0.39333333],\n",
              "       [0.15111111],\n",
              "       [0.02888889],\n",
              "       [0.38888889],\n",
              "       [0.44444444],\n",
              "       [0.25555556],\n",
              "       [0.35777778],\n",
              "       [0.23555556],\n",
              "       [0.56222222],\n",
              "       [0.43333333],\n",
              "       [0.84      ],\n",
              "       [0.21333333],\n",
              "       [0.26888889],\n",
              "       [0.27777778],\n",
              "       [0.36888889],\n",
              "       [0.5       ],\n",
              "       [0.13111111],\n",
              "       [0.44444444],\n",
              "       [0.43777778],\n",
              "       [0.23555556],\n",
              "       [0.41333333],\n",
              "       [1.        ],\n",
              "       [0.42222222],\n",
              "       [0.58888889],\n",
              "       [0.41777778],\n",
              "       [0.28      ],\n",
              "       [0.71777778],\n",
              "       [0.56666667],\n",
              "       [0.62888889],\n",
              "       [0.37555556],\n",
              "       [0.29777778],\n",
              "       [0.42666667],\n",
              "       [0.62666667],\n",
              "       [0.51111111],\n",
              "       [0.55111111],\n",
              "       [0.06888889],\n",
              "       [0.33111111],\n",
              "       [0.        ],\n",
              "       [0.16666667],\n",
              "       [0.71111111],\n",
              "       [0.24666667],\n",
              "       [0.31555556],\n",
              "       [0.31333333],\n",
              "       [0.39111111],\n",
              "       [0.3       ],\n",
              "       [0.25777778],\n",
              "       [0.31777778],\n",
              "       [0.3       ],\n",
              "       [0.67111111],\n",
              "       [0.41777778],\n",
              "       [0.28444444],\n",
              "       [0.40222222],\n",
              "       [0.37333333],\n",
              "       [0.30666667],\n",
              "       [0.43555556],\n",
              "       [0.77333333],\n",
              "       [0.40222222],\n",
              "       [0.17111111],\n",
              "       [0.48222222],\n",
              "       [0.31111111],\n",
              "       [0.44888889],\n",
              "       [0.29111111],\n",
              "       [0.44666667],\n",
              "       [0.66444444],\n",
              "       [0.86222222],\n",
              "       [0.35777778],\n",
              "       [0.04888889],\n",
              "       [0.45111111],\n",
              "       [0.91111111],\n",
              "       [0.08444444],\n",
              "       [0.40444444],\n",
              "       [0.42      ],\n",
              "       [1.        ]])"
            ]
          },
          "metadata": {
            "tags": []
          },
          "execution_count": 1199
        }
      ]
    },
    {
      "cell_type": "markdown",
      "metadata": {
        "id": "V-mOKaotqZP1"
      },
      "source": [
        "## **Linear Regression**"
      ]
    },
    {
      "cell_type": "markdown",
      "metadata": {
        "id": "iQEvR49h4WjF"
      },
      "source": [
        "### **Simple Linear Regression**"
      ]
    },
    {
      "cell_type": "markdown",
      "metadata": {
        "id": "LHKBnfhBs0xc"
      },
      "source": [
        "Step 1 - Import model LinearRegression"
      ]
    },
    {
      "cell_type": "code",
      "metadata": {
        "id": "x3n1QmfYqATS"
      },
      "source": [
        "from sklearn.linear_model import LinearRegression"
      ],
      "execution_count": 1200,
      "outputs": []
    },
    {
      "cell_type": "markdown",
      "metadata": {
        "id": "V3DacBxms6u6"
      },
      "source": [
        "Step 2 -Load and fit data"
      ]
    },
    {
      "cell_type": "code",
      "metadata": {
        "id": "JkCZwPFOqsZF"
      },
      "source": [
        "lin_r=LinearRegression()"
      ],
      "execution_count": 1201,
      "outputs": []
    },
    {
      "cell_type": "code",
      "metadata": {
        "colab": {
          "base_uri": "https://localhost:8080/"
        },
        "id": "Bnq5kot1qwxC",
        "outputId": "b7c7a0e1-89a1-48a2-ea3a-a83039c0b11d"
      },
      "source": [
        "lin_r.fit(x_bos_train,y_bos_train)"
      ],
      "execution_count": 1202,
      "outputs": [
        {
          "output_type": "execute_result",
          "data": {
            "text/plain": [
              "LinearRegression(copy_X=True, fit_intercept=True, n_jobs=None, normalize=False)"
            ]
          },
          "metadata": {
            "tags": []
          },
          "execution_count": 1202
        }
      ]
    },
    {
      "cell_type": "markdown",
      "metadata": {
        "id": "T_mUd51Ds-VH"
      },
      "source": [
        "Step 3- Start analyzing data for prediction"
      ]
    },
    {
      "cell_type": "code",
      "metadata": {
        "colab": {
          "base_uri": "https://localhost:8080/"
        },
        "id": "KQ7y3WzFq3Xh",
        "outputId": "7aa1289d-0163-421c-b6ab-b3aea2354963"
      },
      "source": [
        "predicted_values_mlr=lin_r.predict(x_bos_test)\n",
        "predicted_values_mlr"
      ],
      "execution_count": 1203,
      "outputs": [
        {
          "output_type": "execute_result",
          "data": {
            "text/plain": [
              "array([[ 0.14327016],\n",
              "       [ 0.30728044],\n",
              "       [ 0.41978008],\n",
              "       [ 0.59472732],\n",
              "       [ 0.55995583],\n",
              "       [ 0.50190144],\n",
              "       [ 0.36589015],\n",
              "       [ 0.44105588],\n",
              "       [ 0.51042542],\n",
              "       [ 0.28706374],\n",
              "       [ 0.30793721],\n",
              "       [ 0.21462711],\n",
              "       [ 0.15673253],\n",
              "       [ 0.41721547],\n",
              "       [ 0.28842011],\n",
              "       [ 0.4105379 ],\n",
              "       [ 0.29845638],\n",
              "       [ 0.00992905],\n",
              "       [ 0.35233715],\n",
              "       [ 0.32190852],\n",
              "       [ 0.38272493],\n",
              "       [ 0.56909258],\n",
              "       [ 0.34583186],\n",
              "       [ 0.31709011],\n",
              "       [ 0.11586898],\n",
              "       [ 0.55055255],\n",
              "       [ 0.49389675],\n",
              "       [ 0.6678577 ],\n",
              "       [ 0.34401572],\n",
              "       [ 0.42020137],\n",
              "       [ 0.28962115],\n",
              "       [ 0.31216023],\n",
              "       [ 0.41909893],\n",
              "       [ 0.40040973],\n",
              "       [ 0.53239415],\n",
              "       [ 0.39378046],\n",
              "       [ 0.36557888],\n",
              "       [ 0.32975378],\n",
              "       [ 0.40594942],\n",
              "       [ 0.35354142],\n",
              "       [ 0.1851786 ],\n",
              "       [ 0.32794278],\n",
              "       [ 0.75514357],\n",
              "       [ 0.44754725],\n",
              "       [ 0.32994569],\n",
              "       [ 0.39090704],\n",
              "       [ 0.23563843],\n",
              "       [ 0.58132042],\n",
              "       [ 0.51879347],\n",
              "       [ 0.23462943],\n",
              "       [ 0.43862882],\n",
              "       [ 0.57665559],\n",
              "       [ 0.18433729],\n",
              "       [ 0.33731423],\n",
              "       [ 0.29390956],\n",
              "       [ 0.36601169],\n",
              "       [ 0.53494292],\n",
              "       [ 0.41664735],\n",
              "       [ 0.35774851],\n",
              "       [ 0.08359368],\n",
              "       [ 0.35227116],\n",
              "       [ 0.24879138],\n",
              "       [ 0.41676849],\n",
              "       [ 0.25454181],\n",
              "       [ 0.26721567],\n",
              "       [ 0.38690781],\n",
              "       [ 0.42099251],\n",
              "       [ 0.39522103],\n",
              "       [ 0.06354719],\n",
              "       [ 0.45027024],\n",
              "       [ 0.46880929],\n",
              "       [ 0.2984855 ],\n",
              "       [ 0.44337828],\n",
              "       [ 0.16455306],\n",
              "       [ 0.61674485],\n",
              "       [ 0.31009159],\n",
              "       [ 0.2035197 ],\n",
              "       [ 0.36882004],\n",
              "       [ 0.45340549],\n",
              "       [ 0.60603397],\n",
              "       [ 0.43445752],\n",
              "       [ 0.49788784],\n",
              "       [-0.12693009],\n",
              "       [ 0.75337608],\n",
              "       [ 0.2517449 ],\n",
              "       [ 0.43546915],\n",
              "       [-0.04110964],\n",
              "       [ 0.70932668],\n",
              "       [ 0.35224545],\n",
              "       [ 0.53344087],\n",
              "       [ 0.50861772],\n",
              "       [-0.14246022],\n",
              "       [ 0.80260259],\n",
              "       [ 0.22532082],\n",
              "       [ 0.46268051],\n",
              "       [ 0.32742183],\n",
              "       [ 0.53338593],\n",
              "       [ 0.27294597],\n",
              "       [ 0.1823174 ],\n",
              "       [ 0.40862114],\n",
              "       [ 0.64412812],\n",
              "       [ 0.64306931],\n",
              "       [ 0.160113  ],\n",
              "       [ 0.25455386],\n",
              "       [ 0.4204449 ],\n",
              "       [ 0.2470853 ],\n",
              "       [ 0.35098649],\n",
              "       [ 0.26873376],\n",
              "       [ 0.19674269],\n",
              "       [ 0.3035757 ],\n",
              "       [ 0.35159638],\n",
              "       [ 0.50558737],\n",
              "       [ 0.34936636],\n",
              "       [ 0.27158247],\n",
              "       [ 0.09033683],\n",
              "       [ 0.42386617],\n",
              "       [ 0.4344074 ],\n",
              "       [ 0.24116145],\n",
              "       [ 0.20784026],\n",
              "       [ 0.07278575],\n",
              "       [ 0.34295291],\n",
              "       [ 0.32345159],\n",
              "       [ 0.46721603],\n",
              "       [ 0.55391127],\n",
              "       [ 0.65376199],\n",
              "       [ 0.75501753],\n",
              "       [ 0.86212048]])"
            ]
          },
          "metadata": {
            "tags": []
          },
          "execution_count": 1203
        }
      ]
    },
    {
      "cell_type": "markdown",
      "metadata": {
        "id": "Fag-Z_5mtCr4"
      },
      "source": [
        "Step 4 - Unonormalize or reverse the data back to its normal form to use it later on"
      ]
    },
    {
      "cell_type": "code",
      "metadata": {
        "id": "bwaYNjohrIRS"
      },
      "source": [
        "predicted_values_mlr=mmsc.inverse_transform(predicted_values_mlr)"
      ],
      "execution_count": 1204,
      "outputs": []
    },
    {
      "cell_type": "code",
      "metadata": {
        "colab": {
          "base_uri": "https://localhost:8080/"
        },
        "id": "hIO4oeMPrMk_",
        "outputId": "e7d59198-8474-4e38-988e-3b5bdb23db53"
      },
      "source": [
        "predicted_values_mlr"
      ],
      "execution_count": 1205,
      "outputs": [
        {
          "output_type": "execute_result",
          "data": {
            "text/plain": [
              "array([[11.44715732],\n",
              "       [18.82761987],\n",
              "       [23.89010363],\n",
              "       [31.76272961],\n",
              "       [30.19801252],\n",
              "       [27.58556465],\n",
              "       [21.46505689],\n",
              "       [24.84751479],\n",
              "       [27.96914381],\n",
              "       [17.9178682 ],\n",
              "       [18.85717423],\n",
              "       [14.65822009],\n",
              "       [12.05296391],\n",
              "       [23.77469627],\n",
              "       [17.97890485],\n",
              "       [23.47420572],\n",
              "       [18.43053729],\n",
              "       [ 5.44680739],\n",
              "       [20.85517162],\n",
              "       [19.48588347],\n",
              "       [22.22262166],\n",
              "       [30.6091661 ],\n",
              "       [20.5624339 ],\n",
              "       [19.26905486],\n",
              "       [10.21410416],\n",
              "       [29.77486467],\n",
              "       [27.2253539 ],\n",
              "       [35.05359649],\n",
              "       [20.48070721],\n",
              "       [23.90906187],\n",
              "       [18.03295166],\n",
              "       [19.04721018],\n",
              "       [23.85945188],\n",
              "       [23.01843796],\n",
              "       [28.95773689],\n",
              "       [22.72012069],\n",
              "       [21.45104939],\n",
              "       [19.83891999],\n",
              "       [23.26772399],\n",
              "       [20.90936398],\n",
              "       [13.33303691],\n",
              "       [19.75742509],\n",
              "       [38.98146084],\n",
              "       [25.13962604],\n",
              "       [19.84755589],\n",
              "       [22.59081674],\n",
              "       [15.60372955],\n",
              "       [31.15941905],\n",
              "       [28.34570593],\n",
              "       [15.55832418],\n",
              "       [24.73829691],\n",
              "       [30.9495016 ],\n",
              "       [13.29517809],\n",
              "       [20.17914032],\n",
              "       [18.22593023],\n",
              "       [21.47052603],\n",
              "       [29.07243127],\n",
              "       [23.74913069],\n",
              "       [21.09868306],\n",
              "       [ 8.76171553],\n",
              "       [20.85220212],\n",
              "       [16.19561231],\n",
              "       [23.7545821 ],\n",
              "       [16.45438154],\n",
              "       [17.02470504],\n",
              "       [22.41085154],\n",
              "       [23.94466308],\n",
              "       [22.78494631],\n",
              "       [ 7.85962334],\n",
              "       [25.26216075],\n",
              "       [26.09641814],\n",
              "       [18.43184729],\n",
              "       [24.95202273],\n",
              "       [12.40488786],\n",
              "       [32.75351826],\n",
              "       [18.95412144],\n",
              "       [14.15838636],\n",
              "       [21.59690162],\n",
              "       [25.40324683],\n",
              "       [32.27152854],\n",
              "       [24.55058858],\n",
              "       [27.4049528 ],\n",
              "       [-0.71185398],\n",
              "       [38.90192376],\n",
              "       [16.32852062],\n",
              "       [24.5961117 ],\n",
              "       [ 3.15006633],\n",
              "       [36.91970075],\n",
              "       [20.85104536],\n",
              "       [29.00483928],\n",
              "       [27.88779731],\n",
              "       [-1.41071006],\n",
              "       [41.11711636],\n",
              "       [15.13943682],\n",
              "       [25.82062279],\n",
              "       [19.73398224],\n",
              "       [29.00236701],\n",
              "       [17.28256853],\n",
              "       [13.20428287],\n",
              "       [23.38795128],\n",
              "       [33.98576541],\n",
              "       [33.93811911],\n",
              "       [12.20508518],\n",
              "       [16.45492365],\n",
              "       [23.9200203 ],\n",
              "       [16.11883865],\n",
              "       [20.7943919 ],\n",
              "       [17.09301922],\n",
              "       [13.85342102],\n",
              "       [18.6609066 ],\n",
              "       [20.8218369 ],\n",
              "       [27.75143169],\n",
              "       [20.72148603],\n",
              "       [17.22121132],\n",
              "       [ 9.06515729],\n",
              "       [24.07397755],\n",
              "       [24.5483328 ],\n",
              "       [15.85226535],\n",
              "       [14.35281168],\n",
              "       [ 8.27535874],\n",
              "       [20.4328811 ],\n",
              "       [19.5553214 ],\n",
              "       [26.02472149],\n",
              "       [29.92600724],\n",
              "       [34.41928954],\n",
              "       [38.97578886],\n",
              "       [43.79542167]])"
            ]
          },
          "metadata": {
            "tags": []
          },
          "execution_count": 1205
        }
      ]
    },
    {
      "cell_type": "code",
      "metadata": {
        "colab": {
          "base_uri": "https://localhost:8080/"
        },
        "id": "h6r36zEArmdh",
        "outputId": "762236d0-72ef-487b-e636-2e15f19722e0"
      },
      "source": [
        "y_bos_test"
      ],
      "execution_count": 1206,
      "outputs": [
        {
          "output_type": "execute_result",
          "data": {
            "text/plain": [
              "array([13.6, 27.1, 21.4, 28.4, 23. , 23.7, 21.5, 21.5, 23.7, 16. , 20. ,\n",
              "       15.4, 10.5, 23. , 14.9, 21.2, 20.1,  8.5, 20.5, 18.6, 20.6, 24. ,\n",
              "       21.7, 17.1, 12.7, 22.9, 23.2, 37.9, 19.3, 23. , 12.7, 18.5, 23.4,\n",
              "       20.3, 28.4, 11.9, 20.1, 17.8, 20.2, 19.8, 17.2, 19.1, 44. , 22.9,\n",
              "       20. , 17.4, 20.2, 24.8, 26.6, 20.1, 23.9, 23.5, 13.1, 20.9, 17.5,\n",
              "       20.7, 28.7, 20.5, 20.9,  8.3, 19.6, 19.4, 25. , 17.2, 17.8, 25. ,\n",
              "       23.4, 22.9, 11.8, 28.7, 26.5, 14.2, 27.5, 13.9, 31.1, 18.5, 15.7,\n",
              "       23.3, 23.1, 29.9, 22.8, 22.3, 17.9, 43.1, 17.8, 24.3,  8.8, 38.7,\n",
              "       16.7, 22.8, 24.5, 13.8, 43.5, 15.2, 23.9, 27.5, 33.4, 14.9, 19.7,\n",
              "       21.7, 37.2, 28.2,  8.3, 13.4, 22.6, 17.3, 21. , 16.6, 14.8, 19.6,\n",
              "       21.2, 22. , 19.7, 18.7,  9.7, 22.2, 23.1, 20.6, 18.9,  7.2, 21.7,\n",
              "       19.9, 15. , 24.3, 31.7, 50. , 50. ])"
            ]
          },
          "metadata": {
            "tags": []
          },
          "execution_count": 1206
        }
      ]
    },
    {
      "cell_type": "markdown",
      "metadata": {
        "id": "Iekw5rgNr7Eg"
      },
      "source": [
        "**Evaluation Metrics**\n",
        "\n",
        "\n",
        "1.   Mean Absolute Error(MAE)\n",
        "2.   Mean Squared Method(MSM)\n",
        "3.   Root Mean Square Error Method(RMSE)\n",
        "4.   Mean Absolute Percentage Error(MAPE)\n",
        "\n"
      ]
    },
    {
      "cell_type": "code",
      "metadata": {
        "id": "BSI2TSYZroMf"
      },
      "source": [
        "from sklearn.metrics import  mean_absolute_error\n",
        "from sklearn.metrics import mean_squared_error\n",
        "from sklearn.metrics import r2_score\n",
        "import math"
      ],
      "execution_count": 1207,
      "outputs": []
    },
    {
      "cell_type": "code",
      "metadata": {
        "colab": {
          "base_uri": "https://localhost:8080/"
        },
        "id": "MC0WFReH1M4T",
        "outputId": "a42497a9-c6a1-4e98-ad26-e50caba86e04"
      },
      "source": [
        "mae=mean_absolute_error(y_bos_test, predicted_values_mlr)\n",
        "mae"
      ],
      "execution_count": 1208,
      "outputs": [
        {
          "output_type": "execute_result",
          "data": {
            "text/plain": [
              "2.939433362698197"
            ]
          },
          "metadata": {
            "tags": []
          },
          "execution_count": 1208
        }
      ]
    },
    {
      "cell_type": "code",
      "metadata": {
        "colab": {
          "base_uri": "https://localhost:8080/"
        },
        "id": "UM6kakTe1YdI",
        "outputId": "936dce31-c94b-4fb8-8648-85b6f280ae5e"
      },
      "source": [
        "mse=mean_squared_error(y_bos_test, predicted_values_mlr)\n",
        "mse"
      ],
      "execution_count": 1209,
      "outputs": [
        {
          "output_type": "execute_result",
          "data": {
            "text/plain": [
              "17.309236065228887"
            ]
          },
          "metadata": {
            "tags": []
          },
          "execution_count": 1209
        }
      ]
    },
    {
      "cell_type": "code",
      "metadata": {
        "colab": {
          "base_uri": "https://localhost:8080/"
        },
        "id": "R9c7M1GK1gL0",
        "outputId": "f4512198-92d6-489b-a93c-6a7a26f43e73"
      },
      "source": [
        "rmse=math.sqrt(mse) #calculating root mean squared error using mse\n",
        "rmse"
      ],
      "execution_count": 1210,
      "outputs": [
        {
          "output_type": "execute_result",
          "data": {
            "text/plain": [
              "4.160437004117343"
            ]
          },
          "metadata": {
            "tags": []
          },
          "execution_count": 1210
        }
      ]
    },
    {
      "cell_type": "code",
      "metadata": {
        "colab": {
          "base_uri": "https://localhost:8080/"
        },
        "id": "41KjFlwx1rPW",
        "outputId": "31f3112d-c1b0-46db-f559-d92f0195ca14"
      },
      "source": [
        "r2=r2_score(y_bos_test, predicted_values_mlr)\n",
        "r2"
      ],
      "execution_count": 1211,
      "outputs": [
        {
          "output_type": "execute_result",
          "data": {
            "text/plain": [
              "0.6988343407769659"
            ]
          },
          "metadata": {
            "tags": []
          },
          "execution_count": 1211
        }
      ]
    },
    {
      "cell_type": "code",
      "metadata": {
        "id": "b-8Hv82t1zG7"
      },
      "source": [
        "def mean_absolute_percentage_error(y_true, y_pred):\n",
        "    y_true, y_pred=np.array(y_true), np.array(y_pred)\n",
        "    return (np.mean(np.abs((y_true-y_pred)/y_true))*100)"
      ],
      "execution_count": 1212,
      "outputs": []
    },
    {
      "cell_type": "code",
      "metadata": {
        "colab": {
          "base_uri": "https://localhost:8080/"
        },
        "id": "_M26qtgP2nMB",
        "outputId": "77370efb-3b8d-4c22-9c25-525b475a0462"
      },
      "source": [
        "mape=mean_absolute_percentage_error(y_bos_test, predicted_values_mlr)\n",
        "mape"
      ],
      "execution_count": 1213,
      "outputs": [
        {
          "output_type": "execute_result",
          "data": {
            "text/plain": [
              "43.713152116475015"
            ]
          },
          "metadata": {
            "tags": []
          },
          "execution_count": 1213
        }
      ]
    },
    {
      "cell_type": "markdown",
      "metadata": {
        "id": "3ygU9iLM4iA3"
      },
      "source": [
        "### **Polynomial Linear Regression**"
      ]
    },
    {
      "cell_type": "code",
      "metadata": {
        "id": "PwEsBxhi2xCJ"
      },
      "source": [
        "from sklearn.datasets import load_boston\n",
        "new_bos=load_boston()"
      ],
      "execution_count": 1214,
      "outputs": []
    },
    {
      "cell_type": "code",
      "metadata": {
        "id": "N8uR38fy8UY-"
      },
      "source": [
        "x=new_bos.data[:,5]\n",
        "y=new_bos.target"
      ],
      "execution_count": 1215,
      "outputs": []
    },
    {
      "cell_type": "code",
      "metadata": {
        "id": "uvnkjSjK8z9V"
      },
      "source": [
        "x_bos_train, x_bos_test, y_bos_train, y_bos_test= train_test_split(x,y, test_size=0.2, train_size=0.8, random_state=76)"
      ],
      "execution_count": 1216,
      "outputs": []
    },
    {
      "cell_type": "code",
      "metadata": {
        "id": "7qnPSto59MJl"
      },
      "source": [
        "from sklearn.preprocessing import PolynomialFeatures"
      ],
      "execution_count": 1217,
      "outputs": []
    },
    {
      "cell_type": "code",
      "metadata": {
        "id": "7GMyNeSz9VPb"
      },
      "source": [
        "poly_p=PolynomialFeatures(degree=2)"
      ],
      "execution_count": 1218,
      "outputs": []
    },
    {
      "cell_type": "code",
      "metadata": {
        "id": "ckgRZmPNBFwT"
      },
      "source": [
        "x_bos_train=x_bos_train.reshape(-1,1)"
      ],
      "execution_count": 1219,
      "outputs": []
    },
    {
      "cell_type": "code",
      "metadata": {
        "colab": {
          "base_uri": "https://localhost:8080/"
        },
        "id": "BNxGNpK6Cwo-",
        "outputId": "22e17359-cf83-4db9-ab29-a37f59788a1e"
      },
      "source": [
        "poly_x=poly_p.fit_transform(x_bos_train)\n",
        "poly_x"
      ],
      "execution_count": 1220,
      "outputs": [
        {
          "output_type": "execute_result",
          "data": {
            "text/plain": [
              "array([[ 1.      ,  5.349   , 28.611801],\n",
              "       [ 1.      ,  6.749   , 45.549001],\n",
              "       [ 1.      ,  6.333   , 40.106889],\n",
              "       ...,\n",
              "       [ 1.      ,  6.051   , 36.614601],\n",
              "       [ 1.      ,  6.976   , 48.664576],\n",
              "       [ 1.      ,  7.489   , 56.085121]])"
            ]
          },
          "metadata": {
            "tags": []
          },
          "execution_count": 1220
        }
      ]
    },
    {
      "cell_type": "code",
      "metadata": {
        "id": "81cLl7VtDUTs"
      },
      "source": [
        "lin_r=LinearRegression()"
      ],
      "execution_count": 1221,
      "outputs": []
    },
    {
      "cell_type": "code",
      "metadata": {
        "id": "4hTC18B1DruA"
      },
      "source": [
        "poly_lr=lin_r.fit(poly_x,y_bos_train)"
      ],
      "execution_count": 1222,
      "outputs": []
    },
    {
      "cell_type": "code",
      "metadata": {
        "colab": {
          "base_uri": "https://localhost:8080/"
        },
        "id": "fyk1l0jPD6yY",
        "outputId": "a24c3eee-070a-412c-e890-b5ab05f986d9"
      },
      "source": [
        "poly_lr"
      ],
      "execution_count": 1223,
      "outputs": [
        {
          "output_type": "execute_result",
          "data": {
            "text/plain": [
              "LinearRegression(copy_X=True, fit_intercept=True, n_jobs=None, normalize=False)"
            ]
          },
          "metadata": {
            "tags": []
          },
          "execution_count": 1223
        }
      ]
    },
    {
      "cell_type": "code",
      "metadata": {
        "id": "RN-2pD8qEAz3"
      },
      "source": [
        "x_bos_test=x_bos_test.reshape(-1,1)\n",
        "poly_xt=poly_p.fit_transform(x_bos_test)"
      ],
      "execution_count": 1224,
      "outputs": []
    },
    {
      "cell_type": "code",
      "metadata": {
        "id": "ZfDS0UE-EYwm"
      },
      "source": [
        "predicted_values_poly=poly_lr.predict(poly_xt)"
      ],
      "execution_count": 1225,
      "outputs": []
    },
    {
      "cell_type": "code",
      "metadata": {
        "colab": {
          "base_uri": "https://localhost:8080/"
        },
        "id": "Mbvr0M7bEvV4",
        "outputId": "3e0da35e-6b52-48b8-d52a-d6ba6f119aa6"
      },
      "source": [
        "r2=r2_score(y_bos_test,predicted_values_poly)\n",
        "r2"
      ],
      "execution_count": 1226,
      "outputs": [
        {
          "output_type": "execute_result",
          "data": {
            "text/plain": [
              "0.657015708640466"
            ]
          },
          "metadata": {
            "tags": []
          },
          "execution_count": 1226
        }
      ]
    },
    {
      "cell_type": "markdown",
      "metadata": {
        "id": "dfPn0oHh0FtB"
      },
      "source": [
        "# **Random Forest Regression**"
      ]
    },
    {
      "cell_type": "markdown",
      "metadata": {
        "id": "WEcS583xkPLs"
      },
      "source": [
        "## **Random Forest Regression**"
      ]
    },
    {
      "cell_type": "markdown",
      "metadata": {
        "id": "ieubR6kekkKe"
      },
      "source": [
        "uses **Ensemble Learning** - Combination of several decision tree.\n",
        "\n",
        "Depends on the type of data,\n",
        "if\n",
        "1. Continous Data - Regression\n",
        "2. Discrete Data - Classification\n",
        "\n",
        "\n",
        "Important parameters used in Random Forest- \n",
        "\n",
        "*   n_estimator = number of trees\n",
        "*   List item\n",
        "\n",
        "\n"
      ]
    },
    {
      "cell_type": "code",
      "metadata": {
        "id": "TIxjhv6NkW63"
      },
      "source": [
        "from sklearn.datasets import load_boston\n",
        "from sklearn.model_selection import train_test_split\n",
        "from sklearn.preprocessing import MinMaxScaler\n",
        "from sklearn.ensemble import RandomForestRegressor"
      ],
      "execution_count": 1227,
      "outputs": []
    },
    {
      "cell_type": "code",
      "metadata": {
        "id": "L5P_DkOIrpiE"
      },
      "source": [
        "dat_bos=load_boston()\n",
        "x=dat_bos.data\n",
        "y=dat_bos.target"
      ],
      "execution_count": 1228,
      "outputs": []
    },
    {
      "cell_type": "code",
      "metadata": {
        "id": "aD3xO02Gr65g"
      },
      "source": [
        "x_train, x_test, y_train, y_test = train_test_split(x,y, train_size=0.75, test_size=0.25, random_state=76)"
      ],
      "execution_count": 1229,
      "outputs": []
    },
    {
      "cell_type": "code",
      "metadata": {
        "id": "ldcVAffVse6f"
      },
      "source": [
        "sc=MinMaxScaler(feature_range=(0,1))\n",
        "x_train=sc.fit_transform(x_train)\n",
        "x_test=sc.fit_transform(x_test)\n",
        "y_train=y_train.reshape(-1,1)\n",
        "y_train=sc.fit_transform(y_train)"
      ],
      "execution_count": 1230,
      "outputs": []
    },
    {
      "cell_type": "code",
      "metadata": {
        "id": "0JxeP33Xmr41"
      },
      "source": [
        "random_f = RandomForestRegressor(n_estimators=10 ,random_state=33) #n_estimator is 100 by default if not entered "
      ],
      "execution_count": 1231,
      "outputs": []
    },
    {
      "cell_type": "code",
      "metadata": {
        "colab": {
          "base_uri": "https://localhost:8080/"
        },
        "id": "1MhG6SOrnWIC",
        "outputId": "5fa6f0fa-f1a3-453e-c115-f59b4c0c6863"
      },
      "source": [
        "random_f.fit(x_train,y_train)"
      ],
      "execution_count": 1232,
      "outputs": [
        {
          "output_type": "stream",
          "text": [
            "/usr/local/lib/python3.7/dist-packages/ipykernel_launcher.py:1: DataConversionWarning: A column-vector y was passed when a 1d array was expected. Please change the shape of y to (n_samples,), for example using ravel().\n",
            "  \"\"\"Entry point for launching an IPython kernel.\n"
          ],
          "name": "stderr"
        },
        {
          "output_type": "execute_result",
          "data": {
            "text/plain": [
              "RandomForestRegressor(bootstrap=True, ccp_alpha=0.0, criterion='mse',\n",
              "                      max_depth=None, max_features='auto', max_leaf_nodes=None,\n",
              "                      max_samples=None, min_impurity_decrease=0.0,\n",
              "                      min_impurity_split=None, min_samples_leaf=1,\n",
              "                      min_samples_split=2, min_weight_fraction_leaf=0.0,\n",
              "                      n_estimators=10, n_jobs=None, oob_score=False,\n",
              "                      random_state=33, verbose=0, warm_start=False)"
            ]
          },
          "metadata": {
            "tags": []
          },
          "execution_count": 1232
        }
      ]
    },
    {
      "cell_type": "code",
      "metadata": {
        "colab": {
          "base_uri": "https://localhost:8080/"
        },
        "id": "Ztn25XUntliF",
        "outputId": "ba2568f5-1c7d-481d-a9d5-009da7a8db76"
      },
      "source": [
        "predicted_values_rf=random_f.predict(x_test)\n",
        "predicted_values_rf"
      ],
      "execution_count": 1233,
      "outputs": [
        {
          "output_type": "execute_result",
          "data": {
            "text/plain": [
              "array([0.20933333, 0.28266667, 0.37466667, 0.44977778, 0.404     ,\n",
              "       0.444     , 0.31133333, 0.31244444, 0.664     , 0.33333333,\n",
              "       0.356     , 0.23288889, 0.13355556, 0.45333333, 0.204     ,\n",
              "       0.33488889, 0.38644444, 0.03444444, 0.30466667, 0.37088889,\n",
              "       0.39711111, 0.54622222, 0.336     , 0.28311111, 0.21177778,\n",
              "       0.43111111, 0.41333333, 0.63022222, 0.31777778, 0.40977778,\n",
              "       0.17577778, 0.34333333, 0.39311111, 0.34444444, 0.47222222,\n",
              "       0.39      , 0.32555556, 0.20888889, 0.424     , 0.31844444,\n",
              "       0.29888889, 0.34866667, 0.86488889, 0.39888889, 0.36444444,\n",
              "       0.372     , 0.32822222, 0.61466667, 0.586     , 0.33333333,\n",
              "       0.39466667, 0.44644444, 0.25533333, 0.35822222, 0.338     ,\n",
              "       0.42288889, 0.44733333, 0.35066667, 0.33222222, 0.13311111,\n",
              "       0.34933333, 0.35266667, 0.632     , 0.176     , 0.31577778,\n",
              "       0.46688889, 0.42533333, 0.32911111, 0.216     , 0.44577778,\n",
              "       0.45066667, 0.28466667, 0.46888889, 0.27333333, 0.616     ,\n",
              "       0.34      , 0.224     , 0.42733333, 0.44422222, 0.48      ,\n",
              "       0.43266667, 0.41533333, 0.11911111, 0.91066667, 0.25466667,\n",
              "       0.352     , 0.14533333, 0.87111111, 0.23177778, 0.36466667,\n",
              "       0.51      , 0.13511111, 0.95066667, 0.252     , 0.41288889,\n",
              "       0.30111111, 0.63555556, 0.236     , 0.33155556, 0.30888889,\n",
              "       0.61155556, 0.56022222, 0.13755556, 0.20088889, 0.40022222,\n",
              "       0.23133333, 0.39266667, 0.31244444, 0.25      , 0.28466667,\n",
              "       0.35311111, 0.41755556, 0.36066667, 0.34888889, 0.13444444,\n",
              "       0.44488889, 0.40133333, 0.43244444, 0.36333333, 0.08177778,\n",
              "       0.33666667, 0.34288889, 0.44355556, 0.50444444, 0.87555556,\n",
              "       0.99355556, 0.98844444])"
            ]
          },
          "metadata": {
            "tags": []
          },
          "execution_count": 1233
        }
      ]
    },
    {
      "cell_type": "code",
      "metadata": {
        "colab": {
          "base_uri": "https://localhost:8080/"
        },
        "id": "O1ZNTnSYtsAy",
        "outputId": "2409a9a0-9ad5-4502-a9c0-db6b165d3c2a"
      },
      "source": [
        "predicted_values_rf=predicted_values_rf.reshape(-1,1)\n",
        "predicted_values_rf=sc.inverse_transform(predicted_values_rf)\n",
        "predicted_values_rf"
      ],
      "execution_count": 1234,
      "outputs": [
        {
          "output_type": "execute_result",
          "data": {
            "text/plain": [
              "array([[14.42],\n",
              "       [17.72],\n",
              "       [21.86],\n",
              "       [25.24],\n",
              "       [23.18],\n",
              "       [24.98],\n",
              "       [19.01],\n",
              "       [19.06],\n",
              "       [34.88],\n",
              "       [20.  ],\n",
              "       [21.02],\n",
              "       [15.48],\n",
              "       [11.01],\n",
              "       [25.4 ],\n",
              "       [14.18],\n",
              "       [20.07],\n",
              "       [22.39],\n",
              "       [ 6.55],\n",
              "       [18.71],\n",
              "       [21.69],\n",
              "       [22.87],\n",
              "       [29.58],\n",
              "       [20.12],\n",
              "       [17.74],\n",
              "       [14.53],\n",
              "       [24.4 ],\n",
              "       [23.6 ],\n",
              "       [33.36],\n",
              "       [19.3 ],\n",
              "       [23.44],\n",
              "       [12.91],\n",
              "       [20.45],\n",
              "       [22.69],\n",
              "       [20.5 ],\n",
              "       [26.25],\n",
              "       [22.55],\n",
              "       [19.65],\n",
              "       [14.4 ],\n",
              "       [24.08],\n",
              "       [19.33],\n",
              "       [18.45],\n",
              "       [20.69],\n",
              "       [43.92],\n",
              "       [22.95],\n",
              "       [21.4 ],\n",
              "       [21.74],\n",
              "       [19.77],\n",
              "       [32.66],\n",
              "       [31.37],\n",
              "       [20.  ],\n",
              "       [22.76],\n",
              "       [25.09],\n",
              "       [16.49],\n",
              "       [21.12],\n",
              "       [20.21],\n",
              "       [24.03],\n",
              "       [25.13],\n",
              "       [20.78],\n",
              "       [19.95],\n",
              "       [10.99],\n",
              "       [20.72],\n",
              "       [20.87],\n",
              "       [33.44],\n",
              "       [12.92],\n",
              "       [19.21],\n",
              "       [26.01],\n",
              "       [24.14],\n",
              "       [19.81],\n",
              "       [14.72],\n",
              "       [25.06],\n",
              "       [25.28],\n",
              "       [17.81],\n",
              "       [26.1 ],\n",
              "       [17.3 ],\n",
              "       [32.72],\n",
              "       [20.3 ],\n",
              "       [15.08],\n",
              "       [24.23],\n",
              "       [24.99],\n",
              "       [26.6 ],\n",
              "       [24.47],\n",
              "       [23.69],\n",
              "       [10.36],\n",
              "       [45.98],\n",
              "       [16.46],\n",
              "       [20.84],\n",
              "       [11.54],\n",
              "       [44.2 ],\n",
              "       [15.43],\n",
              "       [21.41],\n",
              "       [27.95],\n",
              "       [11.08],\n",
              "       [47.78],\n",
              "       [16.34],\n",
              "       [23.58],\n",
              "       [18.55],\n",
              "       [33.6 ],\n",
              "       [15.62],\n",
              "       [19.92],\n",
              "       [18.9 ],\n",
              "       [32.52],\n",
              "       [30.21],\n",
              "       [11.19],\n",
              "       [14.04],\n",
              "       [23.01],\n",
              "       [15.41],\n",
              "       [22.67],\n",
              "       [19.06],\n",
              "       [16.25],\n",
              "       [17.81],\n",
              "       [20.89],\n",
              "       [23.79],\n",
              "       [21.23],\n",
              "       [20.7 ],\n",
              "       [11.05],\n",
              "       [25.02],\n",
              "       [23.06],\n",
              "       [24.46],\n",
              "       [21.35],\n",
              "       [ 8.68],\n",
              "       [20.15],\n",
              "       [20.43],\n",
              "       [24.96],\n",
              "       [27.7 ],\n",
              "       [44.4 ],\n",
              "       [49.71],\n",
              "       [49.48]])"
            ]
          },
          "metadata": {
            "tags": []
          },
          "execution_count": 1234
        }
      ]
    },
    {
      "cell_type": "markdown",
      "metadata": {
        "id": "rA5so5skztXq"
      },
      "source": [
        "**Evaluation Metrics**"
      ]
    },
    {
      "cell_type": "code",
      "metadata": {
        "colab": {
          "base_uri": "https://localhost:8080/"
        },
        "id": "CmawvRTRuMy8",
        "outputId": "65b39295-b808-46b2-df3a-c469b2a97a21"
      },
      "source": [
        "from sklearn.metrics import mean_absolute_error, mean_squared_error, r2_score\n",
        "\n",
        "mae_rf=mean_absolute_error(y_test, predicted_values_rf)\n",
        "mse_rf=mean_squared_error(y_test, predicted_values_rf)\n",
        "r2_rf=r2_score(y_test, predicted_values_rf)\n",
        "mape_rf = mean_absolute_percentage_error(y_test, predicted_values_rf)\n",
        "\n",
        "print( mae_rf, mse_rf, r2_rf, mape_rf)"
      ],
      "execution_count": 1235,
      "outputs": [
        {
          "output_type": "stream",
          "text": [
            "2.388346456692913 11.528444094488187 0.7994150953601592 42.05365138529826\n"
          ],
          "name": "stdout"
        }
      ]
    },
    {
      "cell_type": "markdown",
      "metadata": {
        "id": "YRgs3BHNFqTz"
      },
      "source": [
        "# **Support Vector Regression**"
      ]
    },
    {
      "cell_type": "code",
      "metadata": {
        "id": "8RItU_FOFte7"
      },
      "source": [
        "from sklearn.svm import SVR"
      ],
      "execution_count": 1236,
      "outputs": []
    },
    {
      "cell_type": "code",
      "metadata": {
        "id": "f1OQLV1uKRoT"
      },
      "source": [
        "from sklearn.datasets import load_boston\n",
        "from sklearn.model_selection import train_test_split\n",
        "from sklearn.preprocessing import MinMaxScaler"
      ],
      "execution_count": 1237,
      "outputs": []
    },
    {
      "cell_type": "code",
      "metadata": {
        "id": "6JcQ6GNIKcwx"
      },
      "source": [
        "dat_bos=load_boston()\n",
        "x=dat_bos.data\n",
        "y=dat_bos.target"
      ],
      "execution_count": 1238,
      "outputs": []
    },
    {
      "cell_type": "code",
      "metadata": {
        "id": "99HFR5cOKnWC"
      },
      "source": [
        "x_train, x_test, y_train, y_test = train_test_split(x,y, train_size=0.75, test_size=0.25, random_state=76)"
      ],
      "execution_count": 1239,
      "outputs": []
    },
    {
      "cell_type": "code",
      "metadata": {
        "id": "g5zcX__YKsFj"
      },
      "source": [
        "sc=MinMaxScaler(feature_range=(0,1))\n",
        "x_train=sc.fit_transform(x_train)\n",
        "x_test=sc.fit_transform(x_test)\n",
        "y_train=y_train.reshape(-1,1)\n",
        "y_train=sc.fit_transform(y_train)"
      ],
      "execution_count": 1240,
      "outputs": []
    },
    {
      "cell_type": "code",
      "metadata": {
        "id": "lA88IBKtKy-h"
      },
      "source": [
        "reg_svr=SVR(kernel='rbf') #Default is rbf"
      ],
      "execution_count": 1241,
      "outputs": []
    },
    {
      "cell_type": "code",
      "metadata": {
        "colab": {
          "base_uri": "https://localhost:8080/"
        },
        "id": "as1MZHtYLAuQ",
        "outputId": "03fbba99-7c38-43dc-c935-c6449380733f"
      },
      "source": [
        "reg_svr.fit(x_train,y_train)"
      ],
      "execution_count": 1242,
      "outputs": [
        {
          "output_type": "stream",
          "text": [
            "/usr/local/lib/python3.7/dist-packages/sklearn/utils/validation.py:760: DataConversionWarning: A column-vector y was passed when a 1d array was expected. Please change the shape of y to (n_samples, ), for example using ravel().\n",
            "  y = column_or_1d(y, warn=True)\n"
          ],
          "name": "stderr"
        },
        {
          "output_type": "execute_result",
          "data": {
            "text/plain": [
              "SVR(C=1.0, cache_size=200, coef0=0.0, degree=3, epsilon=0.1, gamma='scale',\n",
              "    kernel='rbf', max_iter=-1, shrinking=True, tol=0.001, verbose=False)"
            ]
          },
          "metadata": {
            "tags": []
          },
          "execution_count": 1242
        }
      ]
    },
    {
      "cell_type": "code",
      "metadata": {
        "id": "szi5iyHGLKw-"
      },
      "source": [
        "predicted_values_svr=reg_svr.predict(x_test)"
      ],
      "execution_count": 1243,
      "outputs": []
    },
    {
      "cell_type": "code",
      "metadata": {
        "colab": {
          "base_uri": "https://localhost:8080/"
        },
        "id": "bzRhWZYlLbXx",
        "outputId": "38911676-e066-4063-d06c-75f9bd7ef8bc"
      },
      "source": [
        "predicted_values_svr=predicted_values_svr.reshape(-1,1)\n",
        "predicted_values_svr=sc.inverse_transform(predicted_values_svr)\n",
        "predicted_values_svr"
      ],
      "execution_count": 1244,
      "outputs": [
        {
          "output_type": "execute_result",
          "data": {
            "text/plain": [
              "array([[14.24662499],\n",
              "       [17.45458279],\n",
              "       [22.15166285],\n",
              "       [30.71124346],\n",
              "       [27.90932297],\n",
              "       [27.14906328],\n",
              "       [22.20528399],\n",
              "       [22.17381442],\n",
              "       [29.31529709],\n",
              "       [17.4288741 ],\n",
              "       [18.50516684],\n",
              "       [16.00789931],\n",
              "       [10.14142804],\n",
              "       [25.33238834],\n",
              "       [15.16159783],\n",
              "       [19.96197706],\n",
              "       [21.09100787],\n",
              "       [ 7.40282748],\n",
              "       [23.25452187],\n",
              "       [20.55578811],\n",
              "       [24.12802719],\n",
              "       [29.52324452],\n",
              "       [19.946244  ],\n",
              "       [17.12608595],\n",
              "       [14.25606608],\n",
              "       [26.90120474],\n",
              "       [23.57813645],\n",
              "       [36.17147376],\n",
              "       [18.94423599],\n",
              "       [25.76845812],\n",
              "       [17.8769714 ],\n",
              "       [17.08708114],\n",
              "       [23.01227331],\n",
              "       [24.78276881],\n",
              "       [29.52411586],\n",
              "       [21.09594967],\n",
              "       [19.07741974],\n",
              "       [23.74707661],\n",
              "       [23.2836816 ],\n",
              "       [19.84092652],\n",
              "       [15.74149524],\n",
              "       [20.30990938],\n",
              "       [39.9526245 ],\n",
              "       [22.28321765],\n",
              "       [21.30408826],\n",
              "       [21.18632832],\n",
              "       [17.07310372],\n",
              "       [29.42079895],\n",
              "       [33.52030747],\n",
              "       [18.77235393],\n",
              "       [26.04766554],\n",
              "       [28.24570144],\n",
              "       [17.95058735],\n",
              "       [18.30820253],\n",
              "       [14.84103855],\n",
              "       [24.88424693],\n",
              "       [29.57585537],\n",
              "       [21.12069643],\n",
              "       [22.8172859 ],\n",
              "       [11.93469354],\n",
              "       [19.04474799],\n",
              "       [17.30591588],\n",
              "       [25.31152851],\n",
              "       [14.84533858],\n",
              "       [15.85989485],\n",
              "       [24.95595388],\n",
              "       [26.07920057],\n",
              "       [19.18231236],\n",
              "       [13.54829663],\n",
              "       [26.44423361],\n",
              "       [25.37531628],\n",
              "       [18.23042647],\n",
              "       [23.70386334],\n",
              "       [14.06168215],\n",
              "       [34.05349434],\n",
              "       [20.17854188],\n",
              "       [20.17213327],\n",
              "       [22.0608962 ],\n",
              "       [26.49615918],\n",
              "       [32.89805285],\n",
              "       [25.33448951],\n",
              "       [23.50754612],\n",
              "       [13.72125837],\n",
              "       [41.43205618],\n",
              "       [15.70987694],\n",
              "       [21.80029706],\n",
              "       [16.05801339],\n",
              "       [42.34030579],\n",
              "       [17.87861939],\n",
              "       [26.09693735],\n",
              "       [29.32495024],\n",
              "       [12.0289406 ],\n",
              "       [46.09238328],\n",
              "       [16.54072542],\n",
              "       [25.77110825],\n",
              "       [16.03403154],\n",
              "       [33.23144651],\n",
              "       [15.56685405],\n",
              "       [11.66168561],\n",
              "       [22.13115467],\n",
              "       [37.49282925],\n",
              "       [32.87121463],\n",
              "       [13.97467118],\n",
              "       [15.11356723],\n",
              "       [24.42598525],\n",
              "       [21.05486767],\n",
              "       [21.22852123],\n",
              "       [19.32935265],\n",
              "       [15.7971197 ],\n",
              "       [19.637294  ],\n",
              "       [19.04055974],\n",
              "       [26.59950552],\n",
              "       [19.56753468],\n",
              "       [16.2205947 ],\n",
              "       [11.77374913],\n",
              "       [22.71956334],\n",
              "       [23.57639031],\n",
              "       [24.66599716],\n",
              "       [18.0911897 ],\n",
              "       [10.4588089 ],\n",
              "       [18.6330254 ],\n",
              "       [18.45387122],\n",
              "       [21.33163401],\n",
              "       [30.5302902 ],\n",
              "       [37.48358252],\n",
              "       [46.28162461],\n",
              "       [45.84821551]])"
            ]
          },
          "metadata": {
            "tags": []
          },
          "execution_count": 1244
        }
      ]
    },
    {
      "cell_type": "code",
      "metadata": {
        "colab": {
          "base_uri": "https://localhost:8080/"
        },
        "id": "c_yjMRRoLwWf",
        "outputId": "7484c51d-5610-4708-fc97-2f8879d91b0e"
      },
      "source": [
        "from sklearn.metrics import mean_absolute_error, mean_squared_error, r2_score\n",
        "\n",
        "mae_svr=mean_absolute_error(y_test, predicted_values_svr)\n",
        "mse_svr=mean_squared_error(y_test, predicted_values_svr)\n",
        "r2_svr=r2_score(y_test, predicted_values_svr)\n",
        "mape_svr = mean_absolute_percentage_error(y_test, predicted_values_svr)\n",
        "\n",
        "print( mae_svr, mse_svr, r2_svr, mape_svr)"
      ],
      "execution_count": 1245,
      "outputs": [
        {
          "output_type": "stream",
          "text": [
            "2.6210345549212413 11.41716611522538 0.8013512354564292 42.40440288679086\n"
          ],
          "name": "stdout"
        }
      ]
    }
  ]
}