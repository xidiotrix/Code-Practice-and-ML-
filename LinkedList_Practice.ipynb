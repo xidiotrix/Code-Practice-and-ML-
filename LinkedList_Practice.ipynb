{
  "nbformat": 4,
  "nbformat_minor": 0,
  "metadata": {
    "colab": {
      "name": "LinkedList Practice",
      "provenance": [],
      "authorship_tag": "ABX9TyPFrZufNFxLlsTmdLEZIQf8",
      "include_colab_link": true
    },
    "kernelspec": {
      "name": "python3",
      "display_name": "Python 3"
    },
    "language_info": {
      "name": "python"
    }
  },
  "cells": [
    {
      "cell_type": "markdown",
      "metadata": {
        "id": "view-in-github",
        "colab_type": "text"
      },
      "source": [
        "<a href=\"https://colab.research.google.com/github/xidiotrix98/Machine-Learning-Prac/blob/main/LinkedList_Practice.ipynb\" target=\"_parent\"><img src=\"https://colab.research.google.com/assets/colab-badge.svg\" alt=\"Open In Colab\"/></a>"
      ]
    },
    {
      "cell_type": "markdown",
      "source": [
        "**Linked List and Node Creation Basic**"
      ],
      "metadata": {
        "id": "PPeWJJUlQdOY"
      }
    },
    {
      "cell_type": "code",
      "execution_count": 3,
      "metadata": {
        "id": "MJ-TE31CMxJp"
      },
      "outputs": [],
      "source": [
        "class Node:\n",
        "    def __init__(self,data=None,next=None):\n",
        "        self.data=data\n",
        "        self.next=next\n",
        "class linkedlist:\n",
        "    def __init__(self):\n",
        "        self.head=None\n",
        "\n",
        "if __name__=='__main__':\n",
        "    llist=linkedlist()\n",
        "    llist.head=Node(1)\n",
        "    second=Node(2)\n",
        "    third=Node(3)\n",
        "    llist.head.next=second\n",
        "    second.next=third"
      ]
    },
    {
      "cell_type": "markdown",
      "source": [
        "**Print Linked List**"
      ],
      "metadata": {
        "id": "yyQpurRwQij-"
      }
    },
    {
      "cell_type": "code",
      "source": [
        "class Node:\n",
        "    def __init__(self,data=None,next=None):\n",
        "        self.data=data\n",
        "        self.next=next\n",
        "class linkedlist:\n",
        "    def __init__(self):\n",
        "        self.head=None\n",
        "if __name__=='__main__':\n",
        "    llist=linkedlist()\n",
        "    llist.head=Node(1)\n",
        "    second=Node(2)\n",
        "    third=Node(3)\n",
        "    llist.head.next=second\n",
        "    second.next=third\n",
        "    print('{}->{}->{}'.format(llist.head.data,llist.head.next.data,second.next.data))"
      ],
      "metadata": {
        "colab": {
          "base_uri": "https://localhost:8080/"
        },
        "id": "Pb1PLZKZQkyV",
        "outputId": "fbdc2272-019c-4abd-fa13-3ba9f9110c70"
      },
      "execution_count": 5,
      "outputs": [
        {
          "output_type": "stream",
          "name": "stdout",
          "text": [
            "1->2->3\n"
          ]
        }
      ]
    },
    {
      "cell_type": "markdown",
      "source": [
        "# Insertion"
      ],
      "metadata": {
        "id": "q49wanThUh6-"
      }
    },
    {
      "cell_type": "markdown",
      "source": [
        "## At the beginning"
      ],
      "metadata": {
        "id": "CVAc2-o3UvU9"
      }
    },
    {
      "cell_type": "code",
      "source": [
        "class Node:\n",
        "    def __init__(self,data=None,next=None):\n",
        "        self.data=data\n",
        "        self.next=next\n",
        "class linkedlist:\n",
        "    def __init__(self):\n",
        "        self.head=None\n",
        "    def insert_beg(self,data):\n",
        "        self.head=Node(data,self.head)\n",
        "    def printlist(self):\n",
        "        if \n",
        "        i=self.head\n",
        "        while(i):\n",
        "            print('{}==>'.format(i.data))\n",
        "            i=i.next\n",
        "if __name__=='__main__':\n",
        "    llist=linkedlist()\n",
        "    for i in range(0,10):\n",
        "        llist.insert_beg(i)\n",
        "    llist.printlist()\n"
      ],
      "metadata": {
        "colab": {
          "base_uri": "https://localhost:8080/"
        },
        "id": "n-LdXZucSWGs",
        "outputId": "da9b69cc-280d-4169-f834-7211841fcf39"
      },
      "execution_count": 8,
      "outputs": [
        {
          "output_type": "stream",
          "name": "stdout",
          "text": [
            "9==>\n",
            "8==>\n",
            "7==>\n",
            "6==>\n",
            "5==>\n",
            "4==>\n",
            "3==>\n",
            "2==>\n",
            "1==>\n",
            "0==>\n"
          ]
        }
      ]
    },
    {
      "cell_type": "code",
      "source": [
        "class Node:\n",
        "    def __init__(self,data=None,next=None):\n",
        "        self.data=data\n",
        "        self.next=next\n",
        "class linkedlist:\n",
        "    def __init__(self):\n",
        "        self.head=None\n",
        "    def insert_beg(self,data):\n",
        "        self.head=Node(data,self.head)\n",
        "    def printlist(self):\n",
        "        if self.head is None:\n",
        "            print('LinkedList Empty')\n",
        "            return\n",
        "        i=self.head\n",
        "        link=''\n",
        "        while(i):\n",
        "            link+='{}=>'.format(i.data)\n",
        "            i=i.next\n",
        "        print(link)\n",
        "if __name__=='__main__':\n",
        "    llist=linkedlist()\n",
        "    for i in range(0,10):\n",
        "        llist.insert_beg(i)\n",
        "    llist.printlist()\n"
      ],
      "metadata": {
        "colab": {
          "base_uri": "https://localhost:8080/"
        },
        "id": "CaHeEPmmSS1k",
        "outputId": "c8840399-f5e5-46bb-af4d-8c4ef40021ab"
      },
      "execution_count": 9,
      "outputs": [
        {
          "output_type": "stream",
          "name": "stdout",
          "text": [
            "9=>8=>7=>6=>5=>4=>3=>2=>1=>0=>\n"
          ]
        }
      ]
    },
    {
      "cell_type": "markdown",
      "source": [
        "## At the end"
      ],
      "metadata": {
        "id": "smiCwbpwZ1L6"
      }
    },
    {
      "cell_type": "code",
      "source": [
        "class Node:\n",
        "    def __init__(self,data=None,next=None):\n",
        "        self.data=data\n",
        "        self.next=next\n",
        "class linkedlist:\n",
        "    def __init__(self):\n",
        "        self.head=None\n",
        "    def insert_beg(self,data):\n",
        "        self.head=Node(data,self.head)\n",
        "    def insert_end(self,data):\n",
        "        if self.head is None:\n",
        "            self.head= Node(data,None)\n",
        "            return\n",
        "        j=self.head\n",
        "        while j.next:\n",
        "            j=j.next\n",
        "        j.next=Node(data,None)\n",
        "\n",
        "    def printlist(self):\n",
        "        if self.head is None:\n",
        "            print('No list to print')\n",
        "            return\n",
        "        i=self.head\n",
        "        link=''\n",
        "        while(i.next):\n",
        "            link+='{}=>'.format(i.data)\n",
        "            i=i.next\n",
        "        print(link)\n",
        "if __name__=='__main__':\n",
        "    llist=linkedlist()\n",
        "    for i in range(10,-1,-1):\n",
        "        llist.insert_beg(i)\n",
        "    llist.printlist()\n",
        "    \n",
        "    llist.printlist()\n",
        "\n",
        "    "
      ],
      "metadata": {
        "colab": {
          "base_uri": "https://localhost:8080/"
        },
        "id": "m0Ug2luegkRd",
        "outputId": "be6ad537-f95f-4341-b9cd-a6a4eed683f4"
      },
      "execution_count": 18,
      "outputs": [
        {
          "output_type": "stream",
          "name": "stdout",
          "text": [
            "0=>1=>2=>3=>4=>5=>6=>7=>8=>9=>\n",
            "0=>1=>2=>3=>4=>5=>6=>7=>8=>9=>\n"
          ]
        }
      ]
    },
    {
      "cell_type": "code",
      "source": [
        "class Node:\n",
        "    def __init__(self,data=None,next=None):\n",
        "        self.data=data\n",
        "        self.next=next\n",
        "\n",
        "class linkedlist:\n",
        "    def __init__(self):\n",
        "        self.head=None\n",
        "    \n",
        "    def insert_beg(self,data):\n",
        "        self.head=Node(data,self.head)\n",
        "    \n",
        "    def insert_end(self,data):\n",
        "        if self.head is None:\n",
        "            self.head= Node(data,None)\n",
        "            return\n",
        "        j=self.head\n",
        "        while j.next:\n",
        "            j=j.next\n",
        "        j.next=Node(data,None)\n",
        "\n",
        "    def printlist(self):\n",
        "        if self.head is None:\n",
        "            print('Linkedlist empty')\n",
        "            return\n",
        "        i=self.head\n",
        "        link=''\n",
        "        while(i):\n",
        "            link+='{}=>'.format(i.data)\n",
        "            i=i.next\n",
        "        print(link)\n",
        "\n",
        "    def get_length(self):\n",
        "        i=self.head\n",
        "        ctr=0\n",
        "        while(i):\n",
        "            ctr=ctr+1\n",
        "            i=i.next\n",
        "        return ctr\n",
        "\n",
        "    def removelist(self,index):\n",
        "        if index<=0 or index>=self.get_length():\n",
        "            raise Exception('Invalid Index')\n",
        "            return\n",
        "        if index==0:\n",
        "            self.head=self.head.next\n",
        "        ctr=0\n",
        "        i=self.head\n",
        "        while(i):\n",
        "            if ctr==index-1:\n",
        "                i.next=i.next.next\n",
        "                break\n",
        "            i=i.next\n",
        "            ctr=ctr+1\n",
        "        \n",
        "    def insert_at(self,data,index):\n",
        "        if index<0 or index>self.get_length():\n",
        "            raise Exception('Invalid Entry')\n",
        "        if index==0:\n",
        "            self.head=Node(data,self.head)\n",
        "            return\n",
        "        i=self.head\n",
        "        ctr=0\n",
        "        while(i):\n",
        "            if ctr==index-1:\n",
        "                i.next=Node(data,i.next)\n",
        "                break\n",
        "            i=i.next\n",
        "            ctr=ctr+1\n",
        "\n",
        "if __name__=='__main__':\n",
        "    llist=linkedlist()\n",
        "    for i in range(0,10):\n",
        "        llist.insert_beg(i)\n",
        "    llist.printlist()\n",
        "    llist.insert_end(-1)\n",
        "    llist.printlist()\n",
        "    llist.removelist(2)\n",
        "    llist.printlist()\n",
        "    llist.insert_at(7,2)\n",
        "    llist.printlist()\n",
        "    "
      ],
      "metadata": {
        "colab": {
          "base_uri": "https://localhost:8080/"
        },
        "id": "TclgTSrQZid8",
        "outputId": "753bc6f8-ada7-4f58-d74a-06cd51dc980a"
      },
      "execution_count": 31,
      "outputs": [
        {
          "output_type": "stream",
          "name": "stdout",
          "text": [
            "9=>8=>7=>6=>5=>4=>3=>2=>1=>0=>\n",
            "9=>8=>7=>6=>5=>4=>3=>2=>1=>0=>-1=>\n",
            "9=>8=>6=>5=>4=>3=>2=>1=>0=>-1=>\n",
            "9=>8=>7=>6=>5=>4=>3=>2=>1=>0=>-1=>\n"
          ]
        }
      ]
    },
    {
      "cell_type": "code",
      "source": [
        ""
      ],
      "metadata": {
        "id": "-ZSGPqGtGcxc"
      },
      "execution_count": null,
      "outputs": []
    }
  ]
}